{
  "nbformat": 4,
  "nbformat_minor": 0,
  "metadata": {
    "colab": {
      "provenance": [],
      "collapsed_sections": [
        "7Fza8s1x7xV6",
        "Z8nvW-HfsWWu",
        "2E8CKz_2-tRT",
        "jVNJo290mZiD",
        "unIrOpjLXhH3",
        "E7z1w1TuZBqT",
        "KWyyt5J1iBGC",
        "lguEA2lggvQj",
        "zJ8ateE6zFNk",
        "m9o2gSAJUkC2",
        "oQYcy7hu2cSE"
      ]
    },
    "kernelspec": {
      "name": "python3",
      "display_name": "Python 3"
    },
    "language_info": {
      "name": "python"
    }
  },
  "cells": [
    {
      "cell_type": "markdown",
      "source": [
        "# ***Кейс 1 - Основные типы данных, операторы и переменные в среде Python***\n"
      ],
      "metadata": {
        "id": "7Fza8s1x7xV6"
      }
    },
    {
      "cell_type": "markdown",
      "source": [
        "Базовые вычислительные команды"
      ],
      "metadata": {
        "id": "AQy4gd-n7_Pj"
      }
    },
    {
      "cell_type": "code",
      "execution_count": null,
      "metadata": {
        "colab": {
          "base_uri": "https://localhost:8080/"
        },
        "outputId": "cfbd01dc-d350-4df5-d926-e3c8445fd314",
        "id": "NAMA0wNN7_Pk"
      },
      "outputs": [
        {
          "output_type": "stream",
          "name": "stdout",
          "text": [
            "Hello, world!\n",
            "8\n"
          ]
        },
        {
          "output_type": "execute_result",
          "data": {
            "text/plain": [
              "2"
            ]
          },
          "metadata": {},
          "execution_count": 1
        }
      ],
      "source": [
        "# Урок 1\n",
        "print('Hello, world!') # выводим на экран текст\n",
        "x = 8 # операция присваивания\n",
        "print(x)\n",
        "x + 5 # операция сложения\n",
        "x - 3 # операция вычитания\n",
        "x * 3 # операция умножения\n",
        "x / 3 # операция деления\n",
        "x = 9 # тип integer (int)\n",
        "x = 8.5 # тип float\n",
        "x = 'Hello' # тип string (str)\n",
        "x = 5 + 2j # тип complex\n",
        "type(x) # вывод типа данных на экран\n",
        "x = 9\n",
        "x ** 3 # возведение в степень\n",
        "x // 7 # целая часть от деления\n",
        "x % 7 # остаток от деления"
      ]
    },
    {
      "cell_type": "markdown",
      "source": [
        "Введение в работу со списками, множествами, словарями и кортежами"
      ],
      "metadata": {
        "id": "_H1PkAUl7_Pk"
      }
    },
    {
      "cell_type": "code",
      "source": [
        "x = [1, 'Hello', 7.0, 1 + 7j, 4, 9, 10] # создаем список элементов (list) Индексируемый, изменяемый массив элементов разного типа\n",
        "x[3] # обращение к элементу списка по индексу\n",
        "x[1: 3] # обращение к диапазону элементов списка\n",
        "x[-2] # вывод второго элемента с конца списка\n",
        "x[1:6:2] #x[start:stop:step]\n",
        "x[::-1] # переворот списка\n",
        "x = (1, 6, 'hi', 6, 6) # создание кортежа (tuple) Индексируемый, неизменяемый массив элементов разного типа\n",
        "x = {7, 4, 6, 'bye', 6, 6, 6} # создаем множество элементов (set) неидексируемый массив элементов разного типа без дублей\n",
        "x = {'привет': ['Hello', 'Hi', 'Good morning', 'hey'], 'Пока': ['Bye bye', 'Bye', 'See you later']} # создаем словарь\n",
        "x.keys() # выводим ключи словаря\n",
        "x['Пока'] # выводим подчиненные элементы для ключа"
      ],
      "metadata": {
        "colab": {
          "base_uri": "https://localhost:8080/"
        },
        "outputId": "f9f28543-0182-4ad7-c126-b2a4201c4add",
        "id": "y0eb8Rhy7_Pk"
      },
      "execution_count": null,
      "outputs": [
        {
          "output_type": "execute_result",
          "data": {
            "text/plain": [
              "['Bye bye', 'Bye', 'See you later']"
            ]
          },
          "metadata": {},
          "execution_count": 19
        }
      ]
    },
    {
      "cell_type": "code",
      "source": [
        "# Задание на закрепление материала\n",
        "print('У меня большой гардероб!')\n",
        "clothes = input('Введите Вашу любимую одежду:') # добавляем интерактивную текстовую строку\n",
        "Time = ['Утром', 'Днем']\n",
        "print(Time[0], 'мне лучше всего подходят', clothes)\n",
        "print(Time[1], 'мне лучше всего подходят', clothes)\n"
      ],
      "metadata": {
        "colab": {
          "base_uri": "https://localhost:8080/"
        },
        "outputId": "7f7e54a3-a494-48c4-8246-9e00230b908c",
        "id": "k_j3BujY7_Pl"
      },
      "execution_count": null,
      "outputs": [
        {
          "output_type": "stream",
          "name": "stdout",
          "text": [
            "У меня большой гардероб!\n",
            "Введите Вашу любимую одежду:дырявая\n",
            "Утром мне лучше всего подходят дырявая\n",
            "Днем мне лучше всего подходят дырявая\n"
          ]
        }
      ]
    },
    {
      "cell_type": "markdown",
      "source": [
        "Работа с библиотекой Numpy"
      ],
      "metadata": {
        "id": "G5mvftYo7_Pl"
      }
    },
    {
      "cell_type": "code",
      "source": [
        "import numpy as np # импортируем библиотеку numpy\n",
        "x = np.array([1, 2, 3, 4]) # создаем одномерный массив numpy\n",
        "x = np.array([[1, 2, 3, 4], [5, 6, 7, 8]]) # создание двумерного массива\n",
        "x[0, 1] # обращение к элементу двумерного массива\n",
        "print(x)\n",
        "x.flatten(order = 'f') # выпрямление двумерного массива\n",
        "np.arange(0, 100, 2) # создание арифметической прогрессии (start, stop, step)\n",
        "np.arange(0, 100, 1).reshape(10, 10) # создание двумерного массива из одномерного\n",
        "np.round(5 / 3, 4) # математическое округление\n",
        "np.ceil(5 / 4) # округление в большую сторону до целого числа\n",
        "np.floor(5 / 3) # округление в меньшую сторону до целого числа"
      ],
      "metadata": {
        "id": "T0HTFe0E7_Pl"
      },
      "execution_count": null,
      "outputs": []
    },
    {
      "cell_type": "code",
      "source": [
        "np.array([12, 23, 43])"
      ],
      "metadata": {
        "id": "5c68mR4D7_Pl"
      },
      "execution_count": null,
      "outputs": []
    },
    {
      "cell_type": "markdown",
      "source": [
        "# ***Кейс 2 - Условные операторы if/else***"
      ],
      "metadata": {
        "id": "Z8nvW-HfsWWu"
      }
    },
    {
      "cell_type": "code",
      "source": [
        "# Урок 2\n",
        "# Задание на закрепление материала\n",
        "import numpy as np #импорт библиотеки\n",
        "#интерактивчик\n",
        "k = input('Введите количество игроков ') #вводим количество игроков\n",
        "futbolki = np.arange(0, int(k), 1) #генерируем массив заданый длинны от 1 до k (не учитывая 0)\n",
        "komandi = futbolki % 4 + 1 #находим остаток от деления\n",
        "x = np.column_stack([futbolki + 1, komandi]) #Склеиваем два масива друг напротив друга\n",
        "print('Разделение игроков на команды: ', x, sep='\\n') "
      ],
      "metadata": {
        "colab": {
          "base_uri": "https://localhost:8080/"
        },
        "id": "aMg49AofqxwE",
        "outputId": "91fe38b0-639e-4ac6-f90c-6cedcb888bc4"
      },
      "execution_count": null,
      "outputs": [
        {
          "output_type": "stream",
          "name": "stdout",
          "text": [
            "Введите количество игроков 30\n",
            "Разделение игроков на команды: \n",
            "[[ 1  1]\n",
            " [ 2  2]\n",
            " [ 3  3]\n",
            " [ 4  4]\n",
            " [ 5  1]\n",
            " [ 6  2]\n",
            " [ 7  3]\n",
            " [ 8  4]\n",
            " [ 9  1]\n",
            " [10  2]\n",
            " [11  3]\n",
            " [12  4]\n",
            " [13  1]\n",
            " [14  2]\n",
            " [15  3]\n",
            " [16  4]\n",
            " [17  1]\n",
            " [18  2]\n",
            " [19  3]\n",
            " [20  4]\n",
            " [21  1]\n",
            " [22  2]\n",
            " [23  3]\n",
            " [24  4]\n",
            " [25  1]\n",
            " [26  2]\n",
            " [27  3]\n",
            " [28  4]\n",
            " [29  1]\n",
            " [30  2]]\n"
          ]
        }
      ]
    },
    {
      "cell_type": "code",
      "source": [
        "# Задание на закрепление материала\n",
        "Oil_work_price= 500\n",
        "Oil_work_time= 0.7\n",
        "Oil_work_cost= Oil_work_price * Oil_work_time\n",
        "Oil_purchase_price= 700\n",
        "Oil_price= Oil_purchase_price*1.05\n",
        "Filtr_work_price= 450\n",
        "Filtr_work_time= 0.5\n",
        "Filtr_work_cost= Filtr_work_price * Filtr_work_time\n",
        "Filtr_purchase_price= 300\n",
        "Filtr_price= Filtr_purchase_price*1.05\n",
        "Cost_sum= Oil_work_cost + Oil_price + Filtr_work_cost + Filtr_price\n",
        "Discount= 0.03\n",
        "Net_sum_cost= Cost_sum - Cost_sum*Discount\n",
        "print(\" Итого: _______________________\", Cost_sum, \"руб.\")\n",
        "print(\" Персональная скидка______________\", Discount*100, \"%\" )\n",
        "print(\" Итого с учетом скидки____________\", Net_sum_cost, \"руб.\")\n",
        "print(\" Спасибо, что выбираете Нас! \")"
      ],
      "metadata": {
        "colab": {
          "base_uri": "https://localhost:8080/"
        },
        "id": "QB7wGHiUUQh2",
        "outputId": "8eaabce3-0f98-49e2-d3e6-cf36db5b4152"
      },
      "execution_count": null,
      "outputs": [
        {
          "output_type": "stream",
          "name": "stdout",
          "text": [
            " Итого: _______________________ 1625.0 руб.\n",
            " Персональная скидка______________ 3.0 %\n",
            " Итого с учетом скидки____________ 1576.25 руб.\n",
            " Спасибо, что выбираете Нас! \n"
          ]
        }
      ]
    },
    {
      "cell_type": "code",
      "source": [
        "# работа с библиотекой numpy (продолжение)\n",
        "np.zeros(8) # создание одномерного массива нулей\n",
        "np.zeros([8, 8]) # создание двумерного массива нулей\n",
        "np.ones([10, 10]) * 8 # создание двумерного массива из восьмерок\n",
        "np.array([[1, 2], [3, 4]]).T # транспонирование матрицы\n",
        "np.diag([1, 2, 3, 4]) # создаем диагональную матрицу\n",
        "np.diag(np.ones(100)) # создаем единичную матрицу\n",
        "x = np.arange(0, 100, 1).reshape(10, 10)\n",
        "print(x)\n",
        "x.sum() # сумма всех элементов х\n",
        "x.sum(axis = 0) # сумма элементов по столбцам\n",
        "x.sum(axis = 1) # сумма элементов по строкам\n",
        "x.mean(axis = 1) # средняя по строкам\n",
        "x.var(axis = 1) # дисперсия по строкам\n",
        "x.std(axis = 1) # среднеквадратичное отклонение по строкам (корень из дисперсии)\n",
        "np.log(x) # a ^ x = b => x = log_a(b) натуральный логарифм\n",
        "np.log10(x) # десятичный логарифм\n",
        "# log_a(b) = log_c(b) / log_c(a) \n",
        "# np.log(x) / np.log(100) логарифм по основанию 100\n",
        "np.exp(x) # е в степени х\n",
        "np.e\n",
        "np.pi"
      ],
      "metadata": {
        "colab": {
          "base_uri": "https://localhost:8080/"
        },
        "id": "pBNPHB75VHiG",
        "outputId": "9d076914-f03a-4d9c-ab02-d9e22bb5c5dc"
      },
      "execution_count": null,
      "outputs": [
        {
          "output_type": "stream",
          "name": "stdout",
          "text": [
            "[[ 0  1  2  3  4  5  6  7  8  9]\n",
            " [10 11 12 13 14 15 16 17 18 19]\n",
            " [20 21 22 23 24 25 26 27 28 29]\n",
            " [30 31 32 33 34 35 36 37 38 39]\n",
            " [40 41 42 43 44 45 46 47 48 49]\n",
            " [50 51 52 53 54 55 56 57 58 59]\n",
            " [60 61 62 63 64 65 66 67 68 69]\n",
            " [70 71 72 73 74 75 76 77 78 79]\n",
            " [80 81 82 83 84 85 86 87 88 89]\n",
            " [90 91 92 93 94 95 96 97 98 99]]\n",
            "2.718281828459045\n"
          ]
        },
        {
          "output_type": "stream",
          "name": "stderr",
          "text": [
            "<ipython-input-51-f830286d5236>:16: RuntimeWarning: divide by zero encountered in log\n",
            "  np.log(x) # a ^ x = b => x = log_a(b) натуральный логарифм\n",
            "<ipython-input-51-f830286d5236>:17: RuntimeWarning: divide by zero encountered in log10\n",
            "  np.log10(x) # десятичный логарифм\n"
          ]
        },
        {
          "output_type": "execute_result",
          "data": {
            "text/plain": [
              "3.141592653589793"
            ]
          },
          "metadata": {},
          "execution_count": 51
        }
      ]
    },
    {
      "cell_type": "code",
      "source": [
        "x = np.array([[1, 2], [3, 4]])\n",
        "print(x)\n",
        "y = np.array([[3, 2], [4, 1]])\n",
        "print(y)\n",
        "x + y # поэлементное сложение массивов\n",
        "x - y # поэлементная разность массивов\n",
        "x * y # произведение Адамара (поэлементное)\n",
        "x / y # поэлементное частное\n",
        "x @ y # скалярное произведение матриц\n",
        "np.dot(x, y) # скалярное произведение матриц\n",
        "np.linalg.inv(x) @ x # обратная матрица\n",
        "np.concatenate((x, y), axis = 0) # объединение двух массивов в один (друг над другом)\n",
        "np.concatenate((x, y), axis = 1) # объединение двух массивов в один (бок о бок)\n",
        "z = np.arange(0, 100, 1).reshape(10, 10)\n",
        "print(z)\n",
        "z[5:8, 3:7] # выбираем подмассив из исходного\n",
        "np.delete(z, 7, 0) # удаляем 7-ю строку\n",
        "np.delete(z, 2, 1) # удаляем 2-й столбец\n",
        "np.delete(z, range(2, 8), 1) # удаляем диапазон столбцов\n",
        "np.delete(z, [2, 5, 8], 0) # удаляем заданные строки\n",
        "np.shape(z) # вычисляем длину каждого измерения массива"
      ],
      "metadata": {
        "colab": {
          "base_uri": "https://localhost:8080/"
        },
        "id": "lTv4p383aLG_",
        "outputId": "499316cc-6ffe-457b-f84d-1acf0580b34b"
      },
      "execution_count": null,
      "outputs": [
        {
          "output_type": "stream",
          "name": "stdout",
          "text": [
            "[[1 2]\n",
            " [3 4]]\n",
            "[[3 2]\n",
            " [4 1]]\n",
            "[[ 0  1  2  3  4  5  6  7  8  9]\n",
            " [10 11 12 13 14 15 16 17 18 19]\n",
            " [20 21 22 23 24 25 26 27 28 29]\n",
            " [30 31 32 33 34 35 36 37 38 39]\n",
            " [40 41 42 43 44 45 46 47 48 49]\n",
            " [50 51 52 53 54 55 56 57 58 59]\n",
            " [60 61 62 63 64 65 66 67 68 69]\n",
            " [70 71 72 73 74 75 76 77 78 79]\n",
            " [80 81 82 83 84 85 86 87 88 89]\n",
            " [90 91 92 93 94 95 96 97 98 99]]\n"
          ]
        },
        {
          "output_type": "execute_result",
          "data": {
            "text/plain": [
              "(10, 10)"
            ]
          },
          "metadata": {},
          "execution_count": 83
        }
      ]
    },
    {
      "cell_type": "code",
      "source": [
        "# Условные операторы\n",
        "# np.random.seed(123) # задаем аргумент для входа функции случайной генерации чисел\n",
        "z = np.random.random(1) # генерим случайное число от 0 до 1 \n",
        "if (z > 0.5) or (z < 0.1):\n",
        "  print('Я молодец :-)')\n",
        "elif z > 0.2:\n",
        "  print('Учим Питон :-)')\n",
        "elif z > 0.4:\n",
        "  print('Учим Питон :-)')\n",
        "else:\n",
        "  print('Ну такое... :-(')\n"
      ],
      "metadata": {
        "colab": {
          "base_uri": "https://localhost:8080/"
        },
        "id": "wJZeyQBpl1M1",
        "outputId": "a24e5bbc-95ba-4a2e-ee39-d99598a8488d"
      },
      "execution_count": null,
      "outputs": [
        {
          "output_type": "stream",
          "name": "stdout",
          "text": [
            "Я молодец :-)\n"
          ]
        }
      ]
    },
    {
      "cell_type": "markdown",
      "source": [
        "# ***Кейс 3 - Работа с циклами for и while, Работа с текстовыми данными***"
      ],
      "metadata": {
        "id": "2E8CKz_2-tRT"
      }
    },
    {
      "cell_type": "code",
      "source": [
        "# Урок 3\n",
        "# задача на закрепление материала\n",
        "a = int(input('Введите число а: '))\n",
        "b = int(input('Введите число b: '))\n",
        "if a > b:\n",
        "  c = 1\n",
        "  d = 2\n",
        "else:\n",
        "  c = 3\n",
        "  d = 4\n",
        "print(c, d)"
      ],
      "metadata": {
        "id": "9wfHqf50xA0P"
      },
      "execution_count": null,
      "outputs": []
    },
    {
      "cell_type": "code",
      "source": [
        "# задача на закрепление материала\n",
        "a = int(input('Введите трехзначное число: '))\n",
        "\n",
        "z = int(a % 10)\n",
        "y = int((a - z) / 10 % 10)\n",
        "x = int(((a - z) / 10 - y) / 10)\n",
        "\n",
        "if (x == y) or (x == z) or (y == z):\n",
        "  print('Трехзначное число содержит одинаковые цифры')\n",
        "else:\n",
        "  print('Трехзначное число НЕ содержит одинаковые цифры')"
      ],
      "metadata": {
        "id": "SClrcVxcvxTM"
      },
      "execution_count": null,
      "outputs": []
    },
    {
      "cell_type": "code",
      "source": [
        "# задание на закрепление материала\n",
        "age_1 = int(input('Введите возраст первого призера: '))\n",
        "age_2 = int(input('Введите возраст второго призера: '))\n",
        "age_3 = int(input('Введите возраст третьего призера: '))\n",
        "\n",
        "if age_1 < age_2 and age_1 < age_3:\n",
        "  print('Возраст самого младшего призера -', age_1)\n",
        "elif age_2 < age_1 and age_2 < age_3:\n",
        "  print('Возраст самого младшего призера -', age_2)\n",
        "\n",
        "elif age_1 == age_2 == age_3:\n",
        "  print('Возраст у всех призёров одинаковый -', age_1)\n",
        "\n",
        "elif age_1 == age_2 and age_1 < age_3:\n",
        "  print('Возраст первого и второго призеров одинаковый и является младшим -', age_1)\n",
        "elif age_1 == age_2 and age_1 > age_3:\n",
        "  print('Возраст самого младшего призера -', age_3)  \n",
        "\n",
        "elif age_1 == age_3 and age_1 < age_2:\n",
        "  print('Возраст первого и третьего призеров одинаковый и является младшим -', age_1)\n",
        "elif age_1 == age_3 and age_1 > age_3:\n",
        "  print('Возраст самого младшего призера -', age_3) \n",
        "\n",
        "elif age_2 == age_3 and age_2 < age_1:\n",
        "  print('Возраст второго и третьего призеров одинаковый и является младшим -', age_2)\n",
        "elif age_2 == age_3 and age_2 > age_1:\n",
        "  print('Возраст самого младшего призера -', age_1)  \n",
        "\n",
        "else:\n",
        "  print('Возраст самого младшего призера -', age_3)  "
      ],
      "metadata": {
        "id": "t0SbpwkpxddF"
      },
      "execution_count": null,
      "outputs": []
    },
    {
      "cell_type": "code",
      "source": [
        "# Циклы for и while\n",
        "import numpy as np\n",
        "x = np.zeros(30)\n",
        "y = [3, 8, 9, 1]\n",
        "for i in range(np.shape(x)[0]): # цикл for для заполнения одномерного массива попринципу квадрат индекса\n",
        "  x[i] = i ** 2\n",
        "for i in y: # цикл for, где i присваиваются значения из списка, а не из диапазона\n",
        "  print(i ** 2)\n",
        "for i, j in enumerate(y): # цикл, где i присваиваются значения индексов, а j - значения элементов массива\n",
        "  print('i = ', i)\n",
        "  print('j = ', j)\n",
        "  y[i] = j ** 2\n",
        "x = np.zeros(40)\n",
        "i = 0\n",
        "while i < np.shape(x)[0]: # цикл while\n",
        "  x[i] = i ** 2\n",
        "  if i > np.shape(x)[0] - 10:\n",
        "    break # принудительный выход из текущего цикла\n",
        "  i += 1 # i = i + 1"
      ],
      "metadata": {
        "colab": {
          "base_uri": "https://localhost:8080/"
        },
        "id": "IuaFVMZBxhwn",
        "outputId": "2045c4ae-9bf2-4aa2-d805-fc90719f789e"
      },
      "execution_count": null,
      "outputs": [
        {
          "output_type": "stream",
          "name": "stdout",
          "text": [
            "9\n",
            "64\n",
            "81\n",
            "1\n",
            "i =  0\n",
            "j =  3\n",
            "i =  1\n",
            "j =  8\n",
            "i =  2\n",
            "j =  9\n",
            "i =  3\n",
            "j =  1\n"
          ]
        },
        {
          "output_type": "execute_result",
          "data": {
            "text/plain": [
              "array([  0.,   1.,   4.,   9.,  16.,  25.,  36.,  49.,  64.,  81., 100.,\n",
              "       121., 144., 169., 196., 225., 256., 289., 324., 361., 400., 441.,\n",
              "       484., 529., 576., 625., 676., 729., 784., 841., 900., 961.,   0.,\n",
              "         0.,   0.,   0.,   0.,   0.,   0.,   0.])"
            ]
          },
          "metadata": {},
          "execution_count": 31
        }
      ]
    },
    {
      "cell_type": "code",
      "source": [
        "z = np.zeros([10, 5])\n",
        "for i in range(np.shape(z)[0]): # вложенный цикл для заполнения двумерного массива по принципу квадрата суммы индексов\n",
        "  for j in range(np.shape(z)[1]):\n",
        "    z[i, j] = (i + j) ** 2\n",
        "z"
      ],
      "metadata": {
        "colab": {
          "base_uri": "https://localhost:8080/"
        },
        "id": "L5T_DSdl74Te",
        "outputId": "fac14293-d239-46ee-b063-a445f3bbba71"
      },
      "execution_count": null,
      "outputs": [
        {
          "output_type": "execute_result",
          "data": {
            "text/plain": [
              "array([[  0.,   1.,   4.,   9.,  16.],\n",
              "       [  1.,   4.,   9.,  16.,  25.],\n",
              "       [  4.,   9.,  16.,  25.,  36.],\n",
              "       [  9.,  16.,  25.,  36.,  49.],\n",
              "       [ 16.,  25.,  36.,  49.,  64.],\n",
              "       [ 25.,  36.,  49.,  64.,  81.],\n",
              "       [ 36.,  49.,  64.,  81., 100.],\n",
              "       [ 49.,  64.,  81., 100., 121.],\n",
              "       [ 64.,  81., 100., 121., 144.],\n",
              "       [ 81., 100., 121., 144., 169.]])"
            ]
          },
          "metadata": {},
          "execution_count": 42
        }
      ]
    },
    {
      "cell_type": "markdown",
      "source": [
        "Работа с текстом"
      ],
      "metadata": {
        "id": "lCNGIf1IDFu7"
      }
    },
    {
      "cell_type": "code",
      "source": [
        "text = 'hello! My name is Mike.' # создаем текстовую переменную\n",
        "text.capitalize() # делает первую букву текста заглавной\n",
        "len(text) # вычисляем длину текста (включая пробелы)\n",
        "text.index('name') # получаем индекс первого вхождения данной строки в тексте\n",
        "text.split() # разбиваем строку на список элементов\n",
        "z = '1,5'\n",
        "float(z.replace(',', '.')) # производим замену запятой на точку и переводим во float\n",
        "text.count('M') # подсчитываем количество непересекающихся вхождений подстроки в исходный текст\n",
        "text = 'mama'\n",
        "text.isalpha() # проверка на то, что в тексте содержатся только буквенные символы\n",
        "text = '1234'\n",
        "text.isdigit() # проверка на то, что в тексте содержатся только цифры\n",
        "text = 'Hello! My name is Mike.'\n",
        "text.lower() # перевод всех букв в нижний регистр\n",
        "text.upper() # перевод всех букв в верхний регистр\n",
        "spisok = [] # создаем пустой список\n",
        "for i in text:\n",
        "  spisok.append(i) # в цикле записываем каждый элемент анализируемого текста"
      ],
      "metadata": {
        "colab": {
          "base_uri": "https://localhost:8080/",
          "height": 35
        },
        "id": "c3ghqbGT58UV",
        "outputId": "b2269d25-0b4d-4769-ac68-2e019b4dac0e"
      },
      "execution_count": null,
      "outputs": [
        {
          "output_type": "execute_result",
          "data": {
            "text/plain": [
              "'H'"
            ],
            "application/vnd.google.colaboratory.intrinsic+json": {
              "type": "string"
            }
          },
          "metadata": {},
          "execution_count": 89
        }
      ]
    },
    {
      "cell_type": "markdown",
      "source": [
        "# ***Кейс 4 -  Пользовательские функци***"
      ],
      "metadata": {
        "id": "jVNJo290mZiD"
      }
    },
    {
      "cell_type": "code",
      "source": [
        "# Урок 4\n",
        "import numpy as np\n",
        "# создание пользовательской функции\n",
        "def my_function(x): # инициируем пользовательскую функцию\n",
        "  if x > 0: # тело функции, выделяется табуляцией\n",
        "    f = np.sin(x) + np.cos(x)\n",
        "  else:\n",
        "    f = np.sin(x) - np.cos(x)\n",
        "  return f, x # определяем, что будет выходом пользовательской функции\n",
        "result = my_function(-8) # получаем результат работы пользовательской функции (тип кортеж)\n",
        "result = list(result) # переводим кортеж в список\n",
        "\n",
        "# создание пользовательской процедуры\n",
        "def my_procedure(x): # инициируем процедуру\n",
        "  global f # определяем глобальную переменную\n",
        "  f = np.sin(x) + np.cos(x) # тело процедуры\n",
        "my_procedure(8) # вызываем процедуру \n",
        "print(f) # выводим значение, записанное в переменную f в теле процедуры\n",
        "\n",
        "# пользовательская функция с использованием метода lambda\n",
        "\n",
        "my_list = [4, 6, 9, 0, 3, -10]\n",
        "list(map(lambda x: x + 5 * x ** 2 if x > 5 else x % 2, my_list)) # команда map забирает по очереди каждый элемент списка и применяет к нему пользовательскую функцию\n",
        "list(filter(lambda x: (x > 5) or (x < -8), my_list[2:])) # фильтрация списка согласно заданным условиям\n",
        "\n",
        "spisok = ['peter', 'bob', 'jane']\n",
        "list(map(lambda x: x[:-2], spisok)) # удаляем из каждого слова списка последние две буквы\n",
        "\n",
        "spisok = ['1', '4', '6']\n",
        "list(map(lambda x: int(x), spisok)) # переводим все элементы списка в тип integer\n"
      ],
      "metadata": {
        "colab": {
          "base_uri": "https://localhost:8080/"
        },
        "id": "m8BARHrfpiao",
        "outputId": "6532aa33-b464-4de0-c734-1274c2c2db17"
      },
      "execution_count": null,
      "outputs": [
        {
          "output_type": "stream",
          "name": "stdout",
          "text": [
            "0.8438582128147682\n"
          ]
        },
        {
          "output_type": "execute_result",
          "data": {
            "text/plain": [
              "[1, 4, 6]"
            ]
          },
          "metadata": {},
          "execution_count": 66
        }
      ]
    },
    {
      "cell_type": "markdown",
      "source": [
        "Работа со списками, множествами, словарями и кортежами"
      ],
      "metadata": {
        "id": "DDJbVgTJ8eC_"
      }
    },
    {
      "cell_type": "code",
      "source": [
        "# Списки\n",
        "x = [] # создание пустого списка\n",
        "len(x) # рассчитываем длину списка\n",
        "x.append(10) # добавляем в конец списка новый элемент\n",
        "x.append(15)\n",
        "x.append(13)\n",
        "x.append(15)\n",
        "x.insert(0, 23) # вставляем 23 на позицию 0 insert(index, value)\n",
        "print(x)\n",
        "x.count(15) # считаем количество вхождений определенного элемента\n",
        "x.index(15) # находим индекс первого вхождения элемента в списке\n",
        "x.pop(0) # удаляем элемент с определенным индексом\n",
        "x.remove(15) # удаляем элемент с определенным значением\n",
        "for i in [15, 13]: # удаляем список разных элементов из списка\n",
        "  x.remove(i)\n",
        "x.extend([14, 8, 9, 12]) # пристыковываем список элементов в конец текущего списка\n",
        "x.reverse() # переворачиваем список задом наперед\n",
        "x.sort() # сортировка списка по возрастанию\n",
        "x"
      ],
      "metadata": {
        "colab": {
          "base_uri": "https://localhost:8080/"
        },
        "id": "UeEj7_Fr8mqL",
        "outputId": "2d446c6d-e0a4-44a6-abbd-47aedfff6c5b"
      },
      "execution_count": null,
      "outputs": [
        {
          "output_type": "stream",
          "name": "stdout",
          "text": [
            "[23, 10, 15, 13, 15]\n"
          ]
        },
        {
          "output_type": "execute_result",
          "data": {
            "text/plain": [
              "[8, 9, 10, 12, 14]"
            ]
          },
          "metadata": {},
          "execution_count": 98
        }
      ]
    },
    {
      "cell_type": "code",
      "source": [
        "# ПРОЦЕДУРА ('ABdddCDEAAaaFGHIJKLMNOPsssSQRSTUVWXYZabcdefghijklmnopqrstuvwxyz')\n",
        "\n",
        "# описание процедуры\n",
        "def kol_unik_simbols_proc(stroka): \n",
        "  global res\n",
        "  res = len(set(stroka))\n",
        "\n",
        "# вызов процедуры\n",
        "kol_unik_simbols_proc(input('Введите строку содержащую любые символы: ')) # ввод фактических параметров\n",
        "print('Количество уникальных символов -', res) # вывод результата"
      ],
      "metadata": {
        "colab": {
          "base_uri": "https://localhost:8080/"
        },
        "id": "dzyAgw_ptlA8",
        "outputId": "e845bd46-a26e-4172-ba4d-0d4cbc0463e5"
      },
      "execution_count": null,
      "outputs": [
        {
          "output_type": "stream",
          "name": "stdout",
          "text": [
            "Введите строку содержащую любые символы: sdfghwjknfwfoifjoiwf\n",
            "Количество уникальных символов - 11\n"
          ]
        }
      ]
    },
    {
      "cell_type": "code",
      "source": [
        "str_in = \"sdfghwjknfwfoifjoiwf\"\n",
        "unique_symb = list(set(str_in))\n",
        "print(len(unique_symb))"
      ],
      "metadata": {
        "colab": {
          "base_uri": "https://localhost:8080/"
        },
        "id": "wEv_H0wcxnr4",
        "outputId": "cef38ee5-6fe0-4264-e566-553d0f41bd76"
      },
      "execution_count": null,
      "outputs": [
        {
          "output_type": "stream",
          "name": "stdout",
          "text": [
            "11\n"
          ]
        }
      ]
    },
    {
      "cell_type": "code",
      "source": [
        "import numpy as np\n",
        "line = \"sdfghwjknfwfoifjoiwf\"\n",
        "line = list(line)\n",
        "\n",
        "\n",
        "\n",
        "unique,counts = np.unique(line, return_counts= True )\n",
        "\n",
        "res = np.asarray((unique, counts)).T \n",
        "len(res)\n",
        "res"
      ],
      "metadata": {
        "colab": {
          "base_uri": "https://localhost:8080/"
        },
        "id": "Rvyt2EReyQJz",
        "outputId": "d10309b7-7237-4896-f432-bee2ad7439ca"
      },
      "execution_count": null,
      "outputs": [
        {
          "output_type": "execute_result",
          "data": {
            "text/plain": [
              "array([['d', '1'],\n",
              "       ['f', '5'],\n",
              "       ['g', '1'],\n",
              "       ['h', '1'],\n",
              "       ['i', '2'],\n",
              "       ['j', '2'],\n",
              "       ['k', '1'],\n",
              "       ['n', '1'],\n",
              "       ['o', '2'],\n",
              "       ['s', '1'],\n",
              "       ['w', '3']], dtype='<U21')"
            ]
          },
          "metadata": {},
          "execution_count": 10
        }
      ]
    },
    {
      "cell_type": "code",
      "source": [
        "import numpy as np\n",
        "from numpy import random\n",
        "win = random.randint (1,10) # число администратора от 1 до 9 (случайным образом - целое)\n",
        "a = int(input(\"Введите число игроков: \")) #число участвующих в розыгрыше\n",
        "lst = random.randint(1, 1000, a) #участники загадывают случайные числа (ограничили 999)\n",
        "suma = []\n",
        "for i in lst:\n",
        "  suma.append(sum(map(int, str(i)))%win) #ищем сумму цыфр числа и сразу остаток от деления 0 (это все числа которые деляться на цело - выйгрышные)\n",
        "x = np.column_stack([lst, suma]) #Склеиваем два масива друг напротив друга\n",
        "print ('Загаданные числа участников розыгрыша: ', lst)\n",
        "print ('Случайное число администратора: ', win)\n",
        "print ('Результаты отбора (деление суммы цифр на случайное): \\n',suma)\n",
        "print('Соответствие загаданных номеров и результатов отбора', x, sep='\\n') \n",
        "res = x[x[:, 1] == 0] #отбираем выигрышные \n",
        "print('Выигрышные номера', res[0:5, 0:1], sep='\\n')  #выводим выигрышные с ограничением не более 5"
      ],
      "metadata": {
        "colab": {
          "base_uri": "https://localhost:8080/"
        },
        "id": "ccfmtLbg0hmI",
        "outputId": "7a2a421a-dd96-4ce4-b9a6-25d3cec211bd"
      },
      "execution_count": null,
      "outputs": [
        {
          "output_type": "stream",
          "name": "stdout",
          "text": [
            "Введите число игроков: 80\n",
            "Загаданные числа участников розыгрыша:  [904 943 293 723 587 170 450  62 217 589 260 681 934 448 270 673 946 538\n",
            "  66 606 287 922 770 255 686  41 151 667 684 470  31 457 208 946 389 283\n",
            " 651 773 163 523 368 366 271  91  37 232 523 111 883 138 534 825 654 393\n",
            " 667 473 144 932 914 649 610 953 282   4 555 430 852 743 905 974 305 607\n",
            "  86 138 238 940 269 158 991 388]\n",
            "Случайное число администратора:  1\n",
            "Результаты отбора (деление суммы цифр на случайное): \n",
            " [0, 0, 0, 0, 0, 0, 0, 0, 0, 0, 0, 0, 0, 0, 0, 0, 0, 0, 0, 0, 0, 0, 0, 0, 0, 0, 0, 0, 0, 0, 0, 0, 0, 0, 0, 0, 0, 0, 0, 0, 0, 0, 0, 0, 0, 0, 0, 0, 0, 0, 0, 0, 0, 0, 0, 0, 0, 0, 0, 0, 0, 0, 0, 0, 0, 0, 0, 0, 0, 0, 0, 0, 0, 0, 0, 0, 0, 0, 0, 0]\n",
            "Соответствие загаданных номеров и результатов отбора\n",
            "[[904   0]\n",
            " [943   0]\n",
            " [293   0]\n",
            " [723   0]\n",
            " [587   0]\n",
            " [170   0]\n",
            " [450   0]\n",
            " [ 62   0]\n",
            " [217   0]\n",
            " [589   0]\n",
            " [260   0]\n",
            " [681   0]\n",
            " [934   0]\n",
            " [448   0]\n",
            " [270   0]\n",
            " [673   0]\n",
            " [946   0]\n",
            " [538   0]\n",
            " [ 66   0]\n",
            " [606   0]\n",
            " [287   0]\n",
            " [922   0]\n",
            " [770   0]\n",
            " [255   0]\n",
            " [686   0]\n",
            " [ 41   0]\n",
            " [151   0]\n",
            " [667   0]\n",
            " [684   0]\n",
            " [470   0]\n",
            " [ 31   0]\n",
            " [457   0]\n",
            " [208   0]\n",
            " [946   0]\n",
            " [389   0]\n",
            " [283   0]\n",
            " [651   0]\n",
            " [773   0]\n",
            " [163   0]\n",
            " [523   0]\n",
            " [368   0]\n",
            " [366   0]\n",
            " [271   0]\n",
            " [ 91   0]\n",
            " [ 37   0]\n",
            " [232   0]\n",
            " [523   0]\n",
            " [111   0]\n",
            " [883   0]\n",
            " [138   0]\n",
            " [534   0]\n",
            " [825   0]\n",
            " [654   0]\n",
            " [393   0]\n",
            " [667   0]\n",
            " [473   0]\n",
            " [144   0]\n",
            " [932   0]\n",
            " [914   0]\n",
            " [649   0]\n",
            " [610   0]\n",
            " [953   0]\n",
            " [282   0]\n",
            " [  4   0]\n",
            " [555   0]\n",
            " [430   0]\n",
            " [852   0]\n",
            " [743   0]\n",
            " [905   0]\n",
            " [974   0]\n",
            " [305   0]\n",
            " [607   0]\n",
            " [ 86   0]\n",
            " [138   0]\n",
            " [238   0]\n",
            " [940   0]\n",
            " [269   0]\n",
            " [158   0]\n",
            " [991   0]\n",
            " [388   0]]\n",
            "Выигрышные номера\n",
            "[[904]\n",
            " [943]\n",
            " [293]\n",
            " [723]\n",
            " [587]]\n"
          ]
        }
      ]
    },
    {
      "cell_type": "code",
      "source": [
        "while True:\n",
        "\n",
        "  a = input(\"Введите пароль но соблюдайте правила: больше 10 символов, ввод только английский, не забудьте добавить большую букву и цифры и не гнушайтесь специальных символов @,~,*,(,),’ \")\n",
        "  numbers = \"0123456789\"\n",
        "  largeletters =\"ABCDEFGHIJKLMNOPQRSTUVWXYZ\"\n",
        "  smallletters =\"abcdefghijklmnopqrstuvwxyz\"\n",
        "  symbols =\"@~*(),’\"\n",
        "  a0=a1=a2=a3=a4=a5=False\n",
        "\n",
        "  for i in a:\n",
        "    if i not in smallletters + largeletters + symbols + numbers:\n",
        "\n",
        "      a0=True # язык ввода\n",
        "    if len(a)>=10:\n",
        "      a1=True # длина\n",
        "\n",
        "    if i in numbers:\n",
        "      a2=True # цифры\n",
        "\n",
        "    if i in smallletters:\n",
        "      a3=True # мал буквы\n",
        "    \n",
        "    if i in largeletters:\n",
        "      a4=True # бол буквы\n",
        "    \n",
        "    if i in symbols:\n",
        "      a5=True # сп символы\n",
        "\n",
        "    \n",
        "  if a0 == True:\n",
        "    print(\"Ввод буквы другого алфавита\")\n",
        "  if a1 == False:\n",
        "    print(\"Необходимо увеличить колличесво символов в пароле\")\n",
        "  if a2 == False:\n",
        "    print(\"Добавте цифры в пароле\")\n",
        "  if a3 == False:\n",
        "    print(\"Нет строчных букв в пароле\")\n",
        "  if a4 == False:\n",
        "    print(\"В пароле должна быть хотя бы одна заглавная буква\")\n",
        "  if a5 == False:\n",
        "    print(\"В пароле отсутсвует специальный символ\")\n",
        "  if a0 == False and a1==True and a2==True and a3==True and a4==True and a5==True:\n",
        "    print(\"Ваш пароль идеален.\")\n",
        "    break"
      ],
      "metadata": {
        "id": "rjgwyJR15SUL"
      },
      "execution_count": null,
      "outputs": []
    },
    {
      "cell_type": "code",
      "source": [
        "password = input('Введите пароль: ')\n",
        "\n",
        "def check_password(password):\n",
        "  is_numeric = False\n",
        "  is_upper = False\n",
        "  is_lower = False\n",
        "  is_symb = False\n",
        "  for i in password:\n",
        "    if i.isnumeric():\n",
        "      is_numeric = True\n",
        "    elif i.islower():\n",
        "      is_lower = True\n",
        "    elif i.isupper():\n",
        "      is_upper = True\n",
        "    elif i in \"@~*()’\":\n",
        "      is_symb = True\n",
        "  if len(password) > 9 and is_numeric and is_upper and is_lower and is_symb:\n",
        "    print('Пароль: Oк')\n",
        "  else:\n",
        "    print('Пароль слишком простой')\n",
        "check_password(password)"
      ],
      "metadata": {
        "colab": {
          "base_uri": "https://localhost:8080/"
        },
        "id": "zSTFvvUg6-_Q",
        "outputId": "d100d36a-7e2f-4173-ab9c-d2b1598db45b"
      },
      "execution_count": null,
      "outputs": [
        {
          "output_type": "stream",
          "name": "stdout",
          "text": [
            "Введите пароль: Chsdfksdjf~12312\n",
            "Пароль: Oк\n"
          ]
        }
      ]
    },
    {
      "cell_type": "markdown",
      "source": [
        "# ***Кейс 5 - Работа с множествами***"
      ],
      "metadata": {
        "id": "unIrOpjLXhH3"
      }
    },
    {
      "cell_type": "code",
      "source": [
        "# Урок 5\n",
        "# Работа с множествами\n",
        "x = {2, 5, 3, -9, 0}\n",
        "y = {1, 4, 7, 2, 5}\n",
        "z = {1, 4, 7}\n",
        "len(x) # вычисляем длину множества\n",
        "list(x)[0] # можем обратиться к элементу множества, предварительно преведя его в тип список\n",
        "x.add(8) # добавляем элемент в множество\n",
        "x.difference(y) # вычисляем те элементы x, которых нет в y\n",
        "x.intersection(y) # вычисляем пересекающиеся элементы в x и y\n",
        "z.issubset(y) # является ли z подмножеством y\n",
        "z.isdisjoint(x) # отсутствуют ли общие элементы\n",
        "x.discard(2) # удаление элемента из множества\n",
        "x.union(y) # объединение множеств\n",
        "x.symmetric_difference(y) # вычисляем те элементы, которые есть либо в x, либо в y\n"
      ],
      "metadata": {
        "colab": {
          "base_uri": "https://localhost:8080/"
        },
        "id": "JNa9ElZXBQq6",
        "outputId": "16b050e8-3beb-4274-cf56-f0e79a6690fb"
      },
      "execution_count": null,
      "outputs": [
        {
          "output_type": "execute_result",
          "data": {
            "text/plain": [
              "{-9, 0, 1, 2, 3, 4, 7, 8}"
            ]
          },
          "metadata": {},
          "execution_count": 53
        }
      ]
    },
    {
      "cell_type": "code",
      "source": [
        "# Работа со словарями\n",
        "my_dict = {'Name': ['Peter', 'Jane', 'Bob'],\n",
        "           'Gender': ['Male', 'Female', 'Male']}\n",
        "my_dict['Name'] # обращение к ключу словаря\n",
        "my_dict['Name'][0] # обращение к элементу\n",
        "list(my_dict.keys())[0] # обращение к ключу словаря по индексу\n",
        "my_dict['Name'][0] = 'Jack' # замена элемента словаря\n",
        "my_dict['Age'] = [18, 15] # добавление ключа в словарь\n",
        "my_dict['Name'].append('Patrick') # добавление подчиненного элемента в ключ словаря\n",
        "my_dict.popitem() # удаляет последний добавленный ключ из словаря\n",
        "my_dict.pop('Name') # удаляет определенный ключ из словаря\n",
        "my_dict['Gender'].remove('Female') # удаляем подчиненный элемент для ключа\n",
        "my_dict"
      ],
      "metadata": {
        "colab": {
          "base_uri": "https://localhost:8080/"
        },
        "id": "YwoCG9l2GZB8",
        "outputId": "c81671f9-d52b-4b3f-b3b2-1c63634d84f4"
      },
      "execution_count": null,
      "outputs": [
        {
          "output_type": "execute_result",
          "data": {
            "text/plain": [
              "{'Gender': ['Male', 'Male']}"
            ]
          },
          "metadata": {},
          "execution_count": 72
        }
      ]
    },
    {
      "cell_type": "code",
      "source": [
        "# Работа с библиотекой matplotlib.pyplot для построения графиков\n",
        "import matplotlib.pyplot as plt # импортируем библиотеку для построения графиков\n",
        "import numpy as np\n",
        "x = np.random.random(30)\n",
        "y = np.random.random(30) + 0.5\n",
        "plt.figure(dpi = 100) # создаем полотно\n",
        "plt.title('Динамика ВВП России и США', color = 'purple', weight = 'bold', family = 'serif') # заголовок графика\n",
        "plt.rc('xtick', labelsize = 15, color = 'red') # задаем параметры оси x\n",
        "plt.rc('ytick', labelsize = 15, color = 'blue') # задаем параметры оси y\n",
        "plt.rc('legend', fontsize = 15) # задаем параметры легенды\n",
        "plt.axes().set_facecolor('#EEFFBB') # меняем цвет фона графика\n",
        "plt.plot(x, color = '#FF5300', linewidth = 1, linestyle = ':', marker = 'x', label = 'ВВП России') # строим линейный график\n",
        "plt.plot(y, color = '#445388', linewidth = 1, linestyle = ':', marker = '+', label = 'ВВП США') \n",
        "plt.xlabel('Время', color = 'red') # подпись оси абсцисс\n",
        "plt.ylabel('Коэффициент прироста ВВП, %') # подпись оси ординат\n",
        "plt.legend(loc = 'best', facecolor = 'lightblue', shadow = True) # выводим легенду на график\n",
        "plt.show()\n"
      ],
      "metadata": {
        "colab": {
          "base_uri": "https://localhost:8080/",
          "height": 465
        },
        "id": "R-LVCVA4NQPT",
        "outputId": "58b571c3-9f6a-4ddd-8cff-7e7ec2e3b8e4"
      },
      "execution_count": null,
      "outputs": [
        {
          "output_type": "stream",
          "name": "stderr",
          "text": [
            "<ipython-input-37-65eb00232a03>:11: MatplotlibDeprecationWarning: Adding an axes using the same arguments as a previous axes currently reuses the earlier instance.  In a future version, a new instance will always be created and returned.  Meanwhile, this warning can be suppressed, and the future behavior ensured, by passing a unique label to each axes instance.\n",
            "  plt.axes().set_facecolor('#EEFFBB') # меняем цвет фона графика\n"
          ]
        },
        {
          "output_type": "display_data",
          "data": {
            "text/plain": [
              "<Figure size 600x400 with 1 Axes>"
            ],
            "image/png": "[encoded data removed]"
          },
          "metadata": {
            "needs_background": "light"
          }
        }
      ]
    },
    {
      "cell_type": "markdown",
      "source": [
        "# ***Кейс 6 - Работа Диаграммами***"
      ],
      "metadata": {
        "id": "E7z1w1TuZBqT"
      }
    },
    {
      "cell_type": "code",
      "source": [
        "# Урок 6\n",
        "# Диаграмма рассеяния\n",
        "import matplotlib.pyplot as plt # импортируем библиотеку для построения графиков\n",
        "import numpy as np\n",
        "x = np.random.random(30)\n",
        "y = np.random.random(30)\n",
        "x1 = np.random.random(30)\n",
        "y1 = np.random.random(30)\n",
        "plt.rc('xtick', labelsize = 10, color = 'black') # задаем параметры оси x\n",
        "plt.rc('ytick', labelsize = 10, color = 'black') # задаем параметры оси y\n",
        "plt.rc('legend', fontsize = 10) # задаем параметры легенды\n",
        "plt.scatter(x, y + x, s = 200, marker = '+', color = '#AA8822') # строим диаграмму рассеяния\n",
        "plt.scatter(x1 + 1, y1 + 0.5, marker = 'x', color = '#3388AA')\n",
        "plt.show()\n",
        "plt.scatter(x, y, c = np.random.random(30), cmap = 'plasma') # создаем диаграмму рассеяния с градиентной раскраской маркеров\n",
        "plt.colorbar() # выводим рядом с графиком цветовую шкалу"
      ],
      "metadata": {
        "colab": {
          "base_uri": "https://localhost:8080/",
          "height": 531
        },
        "id": "itGd0DXISNA1",
        "outputId": "7ef539e7-d0a3-474a-cecf-e2a3e871813a"
      },
      "execution_count": null,
      "outputs": [
        {
          "output_type": "display_data",
          "data": {
            "text/plain": [
              "<Figure size 432x288 with 1 Axes>"
            ],
            "image/png": "[encoded data removed]"
          },
          "metadata": {
            "needs_background": "light"
          }
        },
        {
          "output_type": "execute_result",
          "data": {
            "text/plain": [
              "<matplotlib.colorbar.Colorbar at 0x7f2c587b7730>"
            ]
          },
          "metadata": {},
          "execution_count": 67
        },
        {
          "output_type": "display_data",
          "data": {
            "text/plain": [
              "<Figure size 432x288 with 2 Axes>"
            ],
            "image/png": "[encoded data removed]"
          },
          "metadata": {
            "needs_background": "light"
          }
        }
      ]
    },
    {
      "cell_type": "code",
      "source": [
        "# Столбчатая диаграмма\n",
        "x = [10, 15, 19]\n",
        "labels = ['Iphone', 'Samsung', 'Xiaomi']\n",
        "plt.bar(labels, x) # вывод столбчатой диаграммы\n",
        "plt.show()\n",
        "x = np.random.random(30) - 0.5\n",
        "labels = np.arange(0, 30, 1)\n",
        "plt.bar(labels[x < 0], x[x < 0], color = 'red')\n",
        "plt.bar(labels[x >= 0], x[x >= 0], color = 'green')\n",
        "plt.bar(labels[x >= 0.35],x[x >= 0.35], color = \"blue\")"
      ],
      "metadata": {
        "colab": {
          "base_uri": "https://localhost:8080/",
          "height": 531
        },
        "id": "pKGJb5vNndtW",
        "outputId": "295fd086-f050-4af0-cd5e-92fdaa941f88"
      },
      "execution_count": null,
      "outputs": [
        {
          "output_type": "display_data",
          "data": {
            "text/plain": [
              "<Figure size 432x288 with 1 Axes>"
            ],
            "image/png": "[encoded data removed]"
          },
          "metadata": {
            "needs_background": "light"
          }
        },
        {
          "output_type": "execute_result",
          "data": {
            "text/plain": [
              "<BarContainer object of 2 artists>"
            ]
          },
          "metadata": {},
          "execution_count": 78
        },
        {
          "output_type": "display_data",
          "data": {
            "text/plain": [
              "<Figure size 432x288 with 1 Axes>"
            ],
            "image/png": "[encoded data removed]"
          },
          "metadata": {
            "needs_background": "light"
          }
        }
      ]
    },
    {
      "cell_type": "code",
      "source": [
        "# гистограмма\n",
        "import scipy.stats as sp # импортируем библиотеку для вывода плотности нормального распределения\n",
        "x = np.random.normal(0, 1, 10000) # генерируем 10000 значений из нормального распределения со средней 0 и средним разбросом 1\n",
        "t = np.linspace(-4, 4, 100) # создаем массив значений от -4 до 4 с равными интервалами\n",
        "plt.hist(x, bins = 50, cumulative = False, density = True) # строим гистограмму\n",
        "plt.plot(t, sp.norm.pdf(t, 0, 1), linewidth = 3, color = 'red') # строим график нормального распределения"
      ],
      "metadata": {
        "colab": {
          "base_uri": "https://localhost:8080/",
          "height": 283
        },
        "id": "RKbTZ9hrt1lq",
        "outputId": "1e16590a-3286-4fbe-ea71-a4561b3a6b5d"
      },
      "execution_count": null,
      "outputs": [
        {
          "output_type": "execute_result",
          "data": {
            "text/plain": [
              "[<matplotlib.lines.Line2D at 0x7f2c44cf3eb0>]"
            ]
          },
          "metadata": {},
          "execution_count": 126
        },
        {
          "output_type": "display_data",
          "data": {
            "text/plain": [
              "<Figure size 432x288 with 1 Axes>"
            ],
            "image/png": "[encoded data removed]"
          },
          "metadata": {
            "needs_background": "light"
          }
        }
      ]
    },
    {
      "cell_type": "code",
      "source": [
        "# круговая диаграмма\n",
        "x = [1, 5, 7, 8]\n",
        "labels = ['Iphone', 'Samsung', 'Xiaomi', 'Nokia']\n",
        "plt.pie(x, labels = labels, colors = ['red', 'blue', 'green', 'yellow'])"
      ],
      "metadata": {
        "colab": {
          "base_uri": "https://localhost:8080/",
          "height": 391
        },
        "id": "_09qRTMptFuH",
        "outputId": "538c53c5-ef12-42d8-ebec-3fd4d01eb58d"
      },
      "execution_count": null,
      "outputs": [
        {
          "output_type": "execute_result",
          "data": {
            "text/plain": [
              "([<matplotlib.patches.Wedge at 0x7f2c44b3b970>,\n",
              "  <matplotlib.patches.Wedge at 0x7f2c44b3be20>,\n",
              "  <matplotlib.patches.Wedge at 0x7f2c44b492e0>,\n",
              "  <matplotlib.patches.Wedge at 0x7f2c44b49760>],\n",
              " [Text(1.087713908390803, 0.16394649582471824, 'Iphone'),\n",
              "  Text(0.5499999925673781, 0.9526279484541089, 'Samsung'),\n",
              "  Text(-1.0511300997361437, 0.3242306485030139, 'Xiaomi'),\n",
              "  Text(0.4018752238145031, -1.0239610854344239, 'Nokia')])"
            ]
          },
          "metadata": {},
          "execution_count": 130
        },
        {
          "output_type": "display_data",
          "data": {
            "text/plain": [
              "<Figure size 432x288 with 1 Axes>"
            ],
            "image/png": "[encoded data removed]"
          },
          "metadata": {}
        }
      ]
    },
    {
      "cell_type": "markdown",
      "source": [
        "Введение в библиотеку pandas"
      ],
      "metadata": {
        "id": "_5rG_EC-JSvX"
      }
    },
    {
      "cell_type": "code",
      "source": [
        "# Работа с датафреймами\n",
        "import numpy as np\n",
        "import pandas as pd # импортируем библиотеку pandas\n",
        "df = pd.DataFrame({'Name': ['Luke', 'Gina', 'Sam', 'Emma'],\n",
        "                   'Status': ['Father', 'Mother', 'Son', 'Daughter'],\n",
        "                   'Birthyear': [1976, 1984, 2013, 2016]}) # создаем новый датафрейм\n",
        "df.index = np.arange(1, 5, 1) # изменяем индекс нашего датафрейма\n",
        "df[['Name', 'Status']] # обращаемся к колонкам датафрейма\n",
        "df['Name'][1] # обращение к элементу датафрейма\n",
        "df.iloc[0, 0] # обращение к элементу датафрейма по индексам колонки и строки\n",
        "df.loc[1:2] # обращение к строкам датафрейма по индексам\n",
        "mask = df['Birthyear'] > 2010 # создание условия отбора строк\n",
        "df1 = df[mask].reset_index() # вывод отобранных строк с обновленным индексом\n",
        "df1.drop('index', axis = 1) # удаляем столбец из датафрейма\n",
        "df.drop([1, 3]) # удаляем строки из датафрейма\n",
        "df.sort_index(ascending = False) # сортировка по индексу\n",
        "df.sort_values(['Name', 'Status'], ascending = False) # сортировка по значениям\n",
        "df.dtypes # вывод типа данных для каждой колонки\n",
        "df.columns # вывод названий колонок датафрейма\n",
        "df[df.columns[df.dtypes == 'object']] # выводим колонки определенного типа\n",
        "df['Age'] = 2022 - df['Birthyear'] # добавление новой колонки в датафрейм с возрастом \n",
        "pd.DataFrame() # создание пустого датафрейма\n",
        "df.loc[5] = ['Bob', 'Nephew', 2002, 20] # добавление строки в наш датафрейм\n",
        "df['Gender'] = df['Status'].apply(lambda x: 'Male' if x == 'Father' or x == 'Son' or x == 'Nephew' else 'Female') # создаем колонку Пол по Статусу\n",
        "df"
      ],
      "metadata": {
        "colab": {
          "base_uri": "https://localhost:8080/",
          "height": 206
        },
        "id": "lDKKy6egJQZI",
        "outputId": "35cec5bf-3d61-439d-9b8e-4f873546b599"
      },
      "execution_count": null,
      "outputs": [
        {
          "output_type": "execute_result",
          "data": {
            "text/plain": [
              "   Name    Status  Birthyear  Age  Gender\n",
              "1  Luke    Father       1976   46    Male\n",
              "2  Gina    Mother       1984   38  Female\n",
              "3   Sam       Son       2013    9    Male\n",
              "4  Emma  Daughter       2016    6  Female\n",
              "5   Bob    Nephew       2002   20    Male"
            ],
            "text/html": [
              "\n",
              "  <div id=\"df-289ea4f6-733a-461c-9fa0-63cb4a14f438\">\n",
              "    <div class=\"colab-df-container\">\n",
              "      <div>\n",
              "<style scoped>\n",
              "    .dataframe tbody tr th:only-of-type {\n",
              "        vertical-align: middle;\n",
              "    }\n",
              "\n",
              "    .dataframe tbody tr th {\n",
              "        vertical-align: top;\n",
              "    }\n",
              "\n",
              "    .dataframe thead th {\n",
              "        text-align: right;\n",
              "    }\n",
              "</style>\n",
              "<table border=\"1\" class=\"dataframe\">\n",
              "  <thead>\n",
              "    <tr style=\"text-align: right;\">\n",
              "      <th></th>\n",
              "      <th>Name</th>\n",
              "      <th>Status</th>\n",
              "      <th>Birthyear</th>\n",
              "      <th>Age</th>\n",
              "      <th>Gender</th>\n",
              "    </tr>\n",
              "  </thead>\n",
              "  <tbody>\n",
              "    <tr>\n",
              "      <th>1</th>\n",
              "      <td>Luke</td>\n",
              "      <td>Father</td>\n",
              "      <td>1976</td>\n",
              "      <td>46</td>\n",
              "      <td>Male</td>\n",
              "    </tr>\n",
              "    <tr>\n",
              "      <th>2</th>\n",
              "      <td>Gina</td>\n",
              "      <td>Mother</td>\n",
              "      <td>1984</td>\n",
              "      <td>38</td>\n",
              "      <td>Female</td>\n",
              "    </tr>\n",
              "    <tr>\n",
              "      <th>3</th>\n",
              "      <td>Sam</td>\n",
              "      <td>Son</td>\n",
              "      <td>2013</td>\n",
              "      <td>9</td>\n",
              "      <td>Male</td>\n",
              "    </tr>\n",
              "    <tr>\n",
              "      <th>4</th>\n",
              "      <td>Emma</td>\n",
              "      <td>Daughter</td>\n",
              "      <td>2016</td>\n",
              "      <td>6</td>\n",
              "      <td>Female</td>\n",
              "    </tr>\n",
              "    <tr>\n",
              "      <th>5</th>\n",
              "      <td>Bob</td>\n",
              "      <td>Nephew</td>\n",
              "      <td>2002</td>\n",
              "      <td>20</td>\n",
              "      <td>Male</td>\n",
              "    </tr>\n",
              "  </tbody>\n",
              "</table>\n",
              "</div>\n",
              "      <button class=\"colab-df-convert\" onclick=\"convertToInteractive('df-289ea4f6-733a-461c-9fa0-63cb4a14f438')\"\n",
              "              title=\"Convert this dataframe to an interactive table.\"\n",
              "              style=\"display:none;\">\n",
              "        \n",
              "  <svg xmlns=\"http://www.w3.org/2000/svg\" height=\"24px\"viewBox=\"0 0 24 24\"\n",
              "       width=\"24px\">\n",
              "    <path d=\"M0 0h24v24H0V0z\" fill=\"none\"/>\n",
              "    <path d=\"M18.56 5.44l.94 2.06.94-2.06 2.06-.94-2.06-.94-.94-2.06-.94 2.06-2.06.94zm-11 1L8.5 8.5l.94-2.06 2.06-.94-2.06-.94L8.5 2.5l-.94 2.06-2.06.94zm10 10l.94 2.06.94-2.06 2.06-.94-2.06-.94-.94-2.06-.94 2.06-2.06.94z\"/><path d=\"M17.41 7.96l-1.37-1.37c-.4-.4-.92-.59-1.43-.59-.52 0-1.04.2-1.43.59L10.3 9.45l-7.72 7.72c-.78.78-.78 2.05 0 2.83L4 21.41c.39.39.9.59 1.41.59.51 0 1.02-.2 1.41-.59l7.78-7.78 2.81-2.81c.8-.78.8-2.07 0-2.86zM5.41 20L4 18.59l7.72-7.72 1.47 1.35L5.41 20z\"/>\n",
              "  </svg>\n",
              "      </button>\n",
              "      \n",
              "  <style>\n",
              "    .colab-df-container {\n",
              "      display:flex;\n",
              "      flex-wrap:wrap;\n",
              "      gap: 12px;\n",
              "    }\n",
              "\n",
              "    .colab-df-convert {\n",
              "      background-color: #E8F0FE;\n",
              "      border: none;\n",
              "      border-radius: 50%;\n",
              "      cursor: pointer;\n",
              "      display: none;\n",
              "      fill: #1967D2;\n",
              "      height: 32px;\n",
              "      padding: 0 0 0 0;\n",
              "      width: 32px;\n",
              "    }\n",
              "\n",
              "    .colab-df-convert:hover {\n",
              "      background-color: #E2EBFA;\n",
              "      box-shadow: 0px 1px 2px rgba(60, 64, 67, 0.3), 0px 1px 3px 1px rgba(60, 64, 67, 0.15);\n",
              "      fill: #174EA6;\n",
              "    }\n",
              "\n",
              "    [theme=dark] .colab-df-convert {\n",
              "      background-color: #3B4455;\n",
              "      fill: #D2E3FC;\n",
              "    }\n",
              "\n",
              "    [theme=dark] .colab-df-convert:hover {\n",
              "      background-color: #434B5C;\n",
              "      box-shadow: 0px 1px 3px 1px rgba(0, 0, 0, 0.15);\n",
              "      filter: drop-shadow(0px 1px 2px rgba(0, 0, 0, 0.3));\n",
              "      fill: #FFFFFF;\n",
              "    }\n",
              "  </style>\n",
              "\n",
              "      <script>\n",
              "        const buttonEl =\n",
              "          document.querySelector('#df-289ea4f6-733a-461c-9fa0-63cb4a14f438 button.colab-df-convert');\n",
              "        buttonEl.style.display =\n",
              "          google.colab.kernel.accessAllowed ? 'block' : 'none';\n",
              "\n",
              "        async function convertToInteractive(key) {\n",
              "          const element = document.querySelector('#df-289ea4f6-733a-461c-9fa0-63cb4a14f438');\n",
              "          const dataTable =\n",
              "            await google.colab.kernel.invokeFunction('convertToInteractive',\n",
              "                                                     [key], {});\n",
              "          if (!dataTable) return;\n",
              "\n",
              "          const docLinkHtml = 'Like what you see? Visit the ' +\n",
              "            '<a target=\"_blank\" href=https://colab.research.google.com/notebooks/data_table.ipynb>data table notebook</a>'\n",
              "            + ' to learn more about interactive tables.';\n",
              "          element.innerHTML = '';\n",
              "          dataTable['output_type'] = 'display_data';\n",
              "          await google.colab.output.renderOutput(dataTable, element);\n",
              "          const docLink = document.createElement('div');\n",
              "          docLink.innerHTML = docLinkHtml;\n",
              "          element.appendChild(docLink);\n",
              "        }\n",
              "      </script>\n",
              "    </div>\n",
              "  </div>\n",
              "  "
            ]
          },
          "metadata": {},
          "execution_count": 188
        }
      ]
    },
    {
      "cell_type": "markdown",
      "source": [
        "# ***Кейс 7 - Работа с файлами***"
      ],
      "metadata": {
        "id": "KWyyt5J1iBGC"
      }
    },
    {
      "cell_type": "code",
      "source": [
        "# Работа с plotly\n",
        "import numpy as np\n",
        "import pandas as pd\n",
        "import plotly.express as px\n",
        "x = np.random.random(10)\n",
        "y = np.random.random(10)\n",
        "data = pd.DataFrame({'x-data':x,'y-data':y})\n",
        "fig = px.scatter(data, x = 'x-data', y='y-data')\n",
        "fig.show()\n",
        "z = np.random.random(10)\n",
        "data_3d = pd.DataFrame({'x-data':x, 'y-data':y, 'z-data':z})\n",
        "fig = px.scatter_3d(data_3d,x = 'x-data',y = 'y-data',z = 'z-data')\n",
        "fig.show()"
      ],
      "metadata": {
        "id": "CT9ZBLzLiJXL",
        "colab": {
          "base_uri": "https://localhost:8080/",
          "height": 1000
        },
        "outputId": "2ebf1578-d98c-427e-dfff-e114a46c961d"
      },
      "execution_count": null,
      "outputs": [
        {
          "output_type": "display_data",
          "data": {
            "text/html": [
              "<html>\n",
              "<head><meta charset=\"utf-8\" /></head>\n",
              "<body>\n",
              "    <div>            <script src=\"https://cdnjs.cloudflare.com/ajax/libs/mathjax/2.7.5/MathJax.js?config=TeX-AMS-MML_SVG\"></script><script type=\"text/javascript\">if (window.MathJax) {MathJax.Hub.Config({SVG: {font: \"STIX-Web\"}});}</script>                <script type=\"text/javascript\">window.PlotlyConfig = {MathJaxConfig: 'local'};</script>\n",
              "        <script src=\"https://cdn.plot.ly/plotly-2.8.3.min.js\"></script>                <div id=\"45e0f839-1afe-4c69-b0a5-87a265beb7d1\" class=\"plotly-graph-div\" style=\"height:525px; width:100%;\"></div>            <script type=\"text/javascript\">                                    window.PLOTLYENV=window.PLOTLYENV || {};                                    if (document.getElementById(\"45e0f839-1afe-4c69-b0a5-87a265beb7d1\")) {                    Plotly.newPlot(                        \"45e0f839-1afe-4c69-b0a5-87a265beb7d1\",                        [{\"hovertemplate\":\"x-data=%{x}<br>y-data=%{y}<extra></extra>\",\"legendgroup\":\"\",\"marker\":{\"color\":\"#636efa\",\"symbol\":\"circle\"},\"mode\":\"markers\",\"name\":\"\",\"orientation\":\"v\",\"showlegend\":false,\"x\":[0.3258965313849356,0.1583436011389705,0.1582010384462601,0.21887537594676953,0.8775024109486546,0.891393399649347,0.24715240719803766,0.5364104968511185,0.32438832301865406,0.33901895880212474],\"xaxis\":\"x\",\"y\":[0.20612927239149126,0.7567990819884779,0.6414318192820554,0.7115088668784736,0.901734200234571,0.3600807701076103,0.6577389621942232,0.6955079662930711,0.2309597027890813,0.9352955244605722],\"yaxis\":\"y\",\"type\":\"scatter\"}],                        {\"template\":{\"data\":{\"bar\":[{\"error_x\":{\"color\":\"#2a3f5f\"},\"error_y\":{\"color\":\"#2a3f5f\"},\"marker\":{\"line\":{\"color\":\"#E5ECF6\",\"width\":0.5},\"pattern\":{\"fillmode\":\"overlay\",\"size\":10,\"solidity\":0.2}},\"type\":\"bar\"}],\"barpolar\":[{\"marker\":{\"line\":{\"color\":\"#E5ECF6\",\"width\":0.5},\"pattern\":{\"fillmode\":\"overlay\",\"size\":10,\"solidity\":0.2}},\"type\":\"barpolar\"}],\"carpet\":[{\"aaxis\":{\"endlinecolor\":\"#2a3f5f\",\"gridcolor\":\"white\",\"linecolor\":\"white\",\"minorgridcolor\":\"white\",\"startlinecolor\":\"#2a3f5f\"},\"baxis\":{\"endlinecolor\":\"#2a3f5f\",\"gridcolor\":\"white\",\"linecolor\":\"white\",\"minorgridcolor\":\"white\",\"startlinecolor\":\"#2a3f5f\"},\"type\":\"carpet\"}],\"choropleth\":[{\"colorbar\":{\"outlinewidth\":0,\"ticks\":\"\"},\"type\":\"choropleth\"}],\"contour\":[{\"colorbar\":{\"outlinewidth\":0,\"ticks\":\"\"},\"colorscale\":[[0.0,\"#0d0887\"],[0.1111111111111111,\"#46039f\"],[0.2222222222222222,\"#7201a8\"],[0.3333333333333333,\"#9c179e\"],[0.4444444444444444,\"#bd3786\"],[0.5555555555555556,\"#d8576b\"],[0.6666666666666666,\"#ed7953\"],[0.7777777777777778,\"#fb9f3a\"],[0.8888888888888888,\"#fdca26\"],[1.0,\"#f0f921\"]],\"type\":\"contour\"}],\"contourcarpet\":[{\"colorbar\":{\"outlinewidth\":0,\"ticks\":\"\"},\"type\":\"contourcarpet\"}],\"heatmap\":[{\"colorbar\":{\"outlinewidth\":0,\"ticks\":\"\"},\"colorscale\":[[0.0,\"#0d0887\"],[0.1111111111111111,\"#46039f\"],[0.2222222222222222,\"#7201a8\"],[0.3333333333333333,\"#9c179e\"],[0.4444444444444444,\"#bd3786\"],[0.5555555555555556,\"#d8576b\"],[0.6666666666666666,\"#ed7953\"],[0.7777777777777778,\"#fb9f3a\"],[0.8888888888888888,\"#fdca26\"],[1.0,\"#f0f921\"]],\"type\":\"heatmap\"}],\"heatmapgl\":[{\"colorbar\":{\"outlinewidth\":0,\"ticks\":\"\"},\"colorscale\":[[0.0,\"#0d0887\"],[0.1111111111111111,\"#46039f\"],[0.2222222222222222,\"#7201a8\"],[0.3333333333333333,\"#9c179e\"],[0.4444444444444444,\"#bd3786\"],[0.5555555555555556,\"#d8576b\"],[0.6666666666666666,\"#ed7953\"],[0.7777777777777778,\"#fb9f3a\"],[0.8888888888888888,\"#fdca26\"],[1.0,\"#f0f921\"]],\"type\":\"heatmapgl\"}],\"histogram\":[{\"marker\":{\"pattern\":{\"fillmode\":\"overlay\",\"size\":10,\"solidity\":0.2}},\"type\":\"histogram\"}],\"histogram2d\":[{\"colorbar\":{\"outlinewidth\":0,\"ticks\":\"\"},\"colorscale\":[[0.0,\"#0d0887\"],[0.1111111111111111,\"#46039f\"],[0.2222222222222222,\"#7201a8\"],[0.3333333333333333,\"#9c179e\"],[0.4444444444444444,\"#bd3786\"],[0.5555555555555556,\"#d8576b\"],[0.6666666666666666,\"#ed7953\"],[0.7777777777777778,\"#fb9f3a\"],[0.8888888888888888,\"#fdca26\"],[1.0,\"#f0f921\"]],\"type\":\"histogram2d\"}],\"histogram2dcontour\":[{\"colorbar\":{\"outlinewidth\":0,\"ticks\":\"\"},\"colorscale\":[[0.0,\"#0d0887\"],[0.1111111111111111,\"#46039f\"],[0.2222222222222222,\"#7201a8\"],[0.3333333333333333,\"#9c179e\"],[0.4444444444444444,\"#bd3786\"],[0.5555555555555556,\"#d8576b\"],[0.6666666666666666,\"#ed7953\"],[0.7777777777777778,\"#fb9f3a\"],[0.8888888888888888,\"#fdca26\"],[1.0,\"#f0f921\"]],\"type\":\"histogram2dcontour\"}],\"mesh3d\":[{\"colorbar\":{\"outlinewidth\":0,\"ticks\":\"\"},\"type\":\"mesh3d\"}],\"parcoords\":[{\"line\":{\"colorbar\":{\"outlinewidth\":0,\"ticks\":\"\"}},\"type\":\"parcoords\"}],\"pie\":[{\"automargin\":true,\"type\":\"pie\"}],\"scatter\":[{\"marker\":{\"colorbar\":{\"outlinewidth\":0,\"ticks\":\"\"}},\"type\":\"scatter\"}],\"scatter3d\":[{\"line\":{\"colorbar\":{\"outlinewidth\":0,\"ticks\":\"\"}},\"marker\":{\"colorbar\":{\"outlinewidth\":0,\"ticks\":\"\"}},\"type\":\"scatter3d\"}],\"scattercarpet\":[{\"marker\":{\"colorbar\":{\"outlinewidth\":0,\"ticks\":\"\"}},\"type\":\"scattercarpet\"}],\"scattergeo\":[{\"marker\":{\"colorbar\":{\"outlinewidth\":0,\"ticks\":\"\"}},\"type\":\"scattergeo\"}],\"scattergl\":[{\"marker\":{\"colorbar\":{\"outlinewidth\":0,\"ticks\":\"\"}},\"type\":\"scattergl\"}],\"scattermapbox\":[{\"marker\":{\"colorbar\":{\"outlinewidth\":0,\"ticks\":\"\"}},\"type\":\"scattermapbox\"}],\"scatterpolar\":[{\"marker\":{\"colorbar\":{\"outlinewidth\":0,\"ticks\":\"\"}},\"type\":\"scatterpolar\"}],\"scatterpolargl\":[{\"marker\":{\"colorbar\":{\"outlinewidth\":0,\"ticks\":\"\"}},\"type\":\"scatterpolargl\"}],\"scatterternary\":[{\"marker\":{\"colorbar\":{\"outlinewidth\":0,\"ticks\":\"\"}},\"type\":\"scatterternary\"}],\"surface\":[{\"colorbar\":{\"outlinewidth\":0,\"ticks\":\"\"},\"colorscale\":[[0.0,\"#0d0887\"],[0.1111111111111111,\"#46039f\"],[0.2222222222222222,\"#7201a8\"],[0.3333333333333333,\"#9c179e\"],[0.4444444444444444,\"#bd3786\"],[0.5555555555555556,\"#d8576b\"],[0.6666666666666666,\"#ed7953\"],[0.7777777777777778,\"#fb9f3a\"],[0.8888888888888888,\"#fdca26\"],[1.0,\"#f0f921\"]],\"type\":\"surface\"}],\"table\":[{\"cells\":{\"fill\":{\"color\":\"#EBF0F8\"},\"line\":{\"color\":\"white\"}},\"header\":{\"fill\":{\"color\":\"#C8D4E3\"},\"line\":{\"color\":\"white\"}},\"type\":\"table\"}]},\"layout\":{\"annotationdefaults\":{\"arrowcolor\":\"#2a3f5f\",\"arrowhead\":0,\"arrowwidth\":1},\"autotypenumbers\":\"strict\",\"coloraxis\":{\"colorbar\":{\"outlinewidth\":0,\"ticks\":\"\"}},\"colorscale\":{\"diverging\":[[0,\"#8e0152\"],[0.1,\"#c51b7d\"],[0.2,\"#de77ae\"],[0.3,\"#f1b6da\"],[0.4,\"#fde0ef\"],[0.5,\"#f7f7f7\"],[0.6,\"#e6f5d0\"],[0.7,\"#b8e186\"],[0.8,\"#7fbc41\"],[0.9,\"#4d9221\"],[1,\"#276419\"]],\"sequential\":[[0.0,\"#0d0887\"],[0.1111111111111111,\"#46039f\"],[0.2222222222222222,\"#7201a8\"],[0.3333333333333333,\"#9c179e\"],[0.4444444444444444,\"#bd3786\"],[0.5555555555555556,\"#d8576b\"],[0.6666666666666666,\"#ed7953\"],[0.7777777777777778,\"#fb9f3a\"],[0.8888888888888888,\"#fdca26\"],[1.0,\"#f0f921\"]],\"sequentialminus\":[[0.0,\"#0d0887\"],[0.1111111111111111,\"#46039f\"],[0.2222222222222222,\"#7201a8\"],[0.3333333333333333,\"#9c179e\"],[0.4444444444444444,\"#bd3786\"],[0.5555555555555556,\"#d8576b\"],[0.6666666666666666,\"#ed7953\"],[0.7777777777777778,\"#fb9f3a\"],[0.8888888888888888,\"#fdca26\"],[1.0,\"#f0f921\"]]},\"colorway\":[\"#636efa\",\"#EF553B\",\"#00cc96\",\"#ab63fa\",\"#FFA15A\",\"#19d3f3\",\"#FF6692\",\"#B6E880\",\"#FF97FF\",\"#FECB52\"],\"font\":{\"color\":\"#2a3f5f\"},\"geo\":{\"bgcolor\":\"white\",\"lakecolor\":\"white\",\"landcolor\":\"#E5ECF6\",\"showlakes\":true,\"showland\":true,\"subunitcolor\":\"white\"},\"hoverlabel\":{\"align\":\"left\"},\"hovermode\":\"closest\",\"mapbox\":{\"style\":\"light\"},\"paper_bgcolor\":\"white\",\"plot_bgcolor\":\"#E5ECF6\",\"polar\":{\"angularaxis\":{\"gridcolor\":\"white\",\"linecolor\":\"white\",\"ticks\":\"\"},\"bgcolor\":\"#E5ECF6\",\"radialaxis\":{\"gridcolor\":\"white\",\"linecolor\":\"white\",\"ticks\":\"\"}},\"scene\":{\"xaxis\":{\"backgroundcolor\":\"#E5ECF6\",\"gridcolor\":\"white\",\"gridwidth\":2,\"linecolor\":\"white\",\"showbackground\":true,\"ticks\":\"\",\"zerolinecolor\":\"white\"},\"yaxis\":{\"backgroundcolor\":\"#E5ECF6\",\"gridcolor\":\"white\",\"gridwidth\":2,\"linecolor\":\"white\",\"showbackground\":true,\"ticks\":\"\",\"zerolinecolor\":\"white\"},\"zaxis\":{\"backgroundcolor\":\"#E5ECF6\",\"gridcolor\":\"white\",\"gridwidth\":2,\"linecolor\":\"white\",\"showbackground\":true,\"ticks\":\"\",\"zerolinecolor\":\"white\"}},\"shapedefaults\":{\"line\":{\"color\":\"#2a3f5f\"}},\"ternary\":{\"aaxis\":{\"gridcolor\":\"white\",\"linecolor\":\"white\",\"ticks\":\"\"},\"baxis\":{\"gridcolor\":\"white\",\"linecolor\":\"white\",\"ticks\":\"\"},\"bgcolor\":\"#E5ECF6\",\"caxis\":{\"gridcolor\":\"white\",\"linecolor\":\"white\",\"ticks\":\"\"}},\"title\":{\"x\":0.05},\"xaxis\":{\"automargin\":true,\"gridcolor\":\"white\",\"linecolor\":\"white\",\"ticks\":\"\",\"title\":{\"standoff\":15},\"zerolinecolor\":\"white\",\"zerolinewidth\":2},\"yaxis\":{\"automargin\":true,\"gridcolor\":\"white\",\"linecolor\":\"white\",\"ticks\":\"\",\"title\":{\"standoff\":15},\"zerolinecolor\":\"white\",\"zerolinewidth\":2}}},\"xaxis\":{\"anchor\":\"y\",\"domain\":[0.0,1.0],\"title\":{\"text\":\"x-data\"}},\"yaxis\":{\"anchor\":\"x\",\"domain\":[0.0,1.0],\"title\":{\"text\":\"y-data\"}},\"legend\":{\"tracegroupgap\":0},\"margin\":{\"t\":60}},                        {\"responsive\": true}                    ).then(function(){\n",
              "                            \n",
              "var gd = document.getElementById('45e0f839-1afe-4c69-b0a5-87a265beb7d1');\n",
              "var x = new MutationObserver(function (mutations, observer) {{\n",
              "        var display = window.getComputedStyle(gd).display;\n",
              "        if (!display || display === 'none') {{\n",
              "            console.log([gd, 'removed!']);\n",
              "            Plotly.purge(gd);\n",
              "            observer.disconnect();\n",
              "        }}\n",
              "}});\n",
              "\n",
              "// Listen for the removal of the full notebook cells\n",
              "var notebookContainer = gd.closest('#notebook-container');\n",
              "if (notebookContainer) {{\n",
              "    x.observe(notebookContainer, {childList: true});\n",
              "}}\n",
              "\n",
              "// Listen for the clearing of the current output cell\n",
              "var outputEl = gd.closest('.output');\n",
              "if (outputEl) {{\n",
              "    x.observe(outputEl, {childList: true});\n",
              "}}\n",
              "\n",
              "                        })                };                            </script>        </div>\n",
              "</body>\n",
              "</html>"
            ]
          },
          "metadata": {}
        },
        {
          "output_type": "display_data",
          "data": {
            "text/html": [
              "<html>\n",
              "<head><meta charset=\"utf-8\" /></head>\n",
              "<body>\n",
              "    <div>            <script src=\"https://cdnjs.cloudflare.com/ajax/libs/mathjax/2.7.5/MathJax.js?config=TeX-AMS-MML_SVG\"></script><script type=\"text/javascript\">if (window.MathJax) {MathJax.Hub.Config({SVG: {font: \"STIX-Web\"}});}</script>                <script type=\"text/javascript\">window.PlotlyConfig = {MathJaxConfig: 'local'};</script>\n",
              "        <script src=\"https://cdn.plot.ly/plotly-2.8.3.min.js\"></script>                <div id=\"82c73031-a943-4459-803e-79a620c3d899\" class=\"plotly-graph-div\" style=\"height:525px; width:100%;\"></div>            <script type=\"text/javascript\">                                    window.PLOTLYENV=window.PLOTLYENV || {};                                    if (document.getElementById(\"82c73031-a943-4459-803e-79a620c3d899\")) {                    Plotly.newPlot(                        \"82c73031-a943-4459-803e-79a620c3d899\",                        [{\"hovertemplate\":\"x-data=%{x}<br>y-data=%{y}<br>z-data=%{z}<extra></extra>\",\"legendgroup\":\"\",\"marker\":{\"color\":\"#636efa\",\"symbol\":\"circle\"},\"mode\":\"markers\",\"name\":\"\",\"scene\":\"scene\",\"showlegend\":false,\"x\":[0.3258965313849356,0.1583436011389705,0.1582010384462601,0.21887537594676953,0.8775024109486546,0.891393399649347,0.24715240719803766,0.5364104968511185,0.32438832301865406,0.33901895880212474],\"y\":[0.20612927239149126,0.7567990819884779,0.6414318192820554,0.7115088668784736,0.901734200234571,0.3600807701076103,0.6577389621942232,0.6955079662930711,0.2309597027890813,0.9352955244605722],\"z\":[0.24782000227354162,0.648253029415032,0.0862275415099174,0.7387165574665396,0.49482327048905794,0.08174065154650867,0.24029444828338642,0.5270153547091806,0.5269151474134873,0.8899557721429705],\"type\":\"scatter3d\"}],                        {\"template\":{\"data\":{\"bar\":[{\"error_x\":{\"color\":\"#2a3f5f\"},\"error_y\":{\"color\":\"#2a3f5f\"},\"marker\":{\"line\":{\"color\":\"#E5ECF6\",\"width\":0.5},\"pattern\":{\"fillmode\":\"overlay\",\"size\":10,\"solidity\":0.2}},\"type\":\"bar\"}],\"barpolar\":[{\"marker\":{\"line\":{\"color\":\"#E5ECF6\",\"width\":0.5},\"pattern\":{\"fillmode\":\"overlay\",\"size\":10,\"solidity\":0.2}},\"type\":\"barpolar\"}],\"carpet\":[{\"aaxis\":{\"endlinecolor\":\"#2a3f5f\",\"gridcolor\":\"white\",\"linecolor\":\"white\",\"minorgridcolor\":\"white\",\"startlinecolor\":\"#2a3f5f\"},\"baxis\":{\"endlinecolor\":\"#2a3f5f\",\"gridcolor\":\"white\",\"linecolor\":\"white\",\"minorgridcolor\":\"white\",\"startlinecolor\":\"#2a3f5f\"},\"type\":\"carpet\"}],\"choropleth\":[{\"colorbar\":{\"outlinewidth\":0,\"ticks\":\"\"},\"type\":\"choropleth\"}],\"contour\":[{\"colorbar\":{\"outlinewidth\":0,\"ticks\":\"\"},\"colorscale\":[[0.0,\"#0d0887\"],[0.1111111111111111,\"#46039f\"],[0.2222222222222222,\"#7201a8\"],[0.3333333333333333,\"#9c179e\"],[0.4444444444444444,\"#bd3786\"],[0.5555555555555556,\"#d8576b\"],[0.6666666666666666,\"#ed7953\"],[0.7777777777777778,\"#fb9f3a\"],[0.8888888888888888,\"#fdca26\"],[1.0,\"#f0f921\"]],\"type\":\"contour\"}],\"contourcarpet\":[{\"colorbar\":{\"outlinewidth\":0,\"ticks\":\"\"},\"type\":\"contourcarpet\"}],\"heatmap\":[{\"colorbar\":{\"outlinewidth\":0,\"ticks\":\"\"},\"colorscale\":[[0.0,\"#0d0887\"],[0.1111111111111111,\"#46039f\"],[0.2222222222222222,\"#7201a8\"],[0.3333333333333333,\"#9c179e\"],[0.4444444444444444,\"#bd3786\"],[0.5555555555555556,\"#d8576b\"],[0.6666666666666666,\"#ed7953\"],[0.7777777777777778,\"#fb9f3a\"],[0.8888888888888888,\"#fdca26\"],[1.0,\"#f0f921\"]],\"type\":\"heatmap\"}],\"heatmapgl\":[{\"colorbar\":{\"outlinewidth\":0,\"ticks\":\"\"},\"colorscale\":[[0.0,\"#0d0887\"],[0.1111111111111111,\"#46039f\"],[0.2222222222222222,\"#7201a8\"],[0.3333333333333333,\"#9c179e\"],[0.4444444444444444,\"#bd3786\"],[0.5555555555555556,\"#d8576b\"],[0.6666666666666666,\"#ed7953\"],[0.7777777777777778,\"#fb9f3a\"],[0.8888888888888888,\"#fdca26\"],[1.0,\"#f0f921\"]],\"type\":\"heatmapgl\"}],\"histogram\":[{\"marker\":{\"pattern\":{\"fillmode\":\"overlay\",\"size\":10,\"solidity\":0.2}},\"type\":\"histogram\"}],\"histogram2d\":[{\"colorbar\":{\"outlinewidth\":0,\"ticks\":\"\"},\"colorscale\":[[0.0,\"#0d0887\"],[0.1111111111111111,\"#46039f\"],[0.2222222222222222,\"#7201a8\"],[0.3333333333333333,\"#9c179e\"],[0.4444444444444444,\"#bd3786\"],[0.5555555555555556,\"#d8576b\"],[0.6666666666666666,\"#ed7953\"],[0.7777777777777778,\"#fb9f3a\"],[0.8888888888888888,\"#fdca26\"],[1.0,\"#f0f921\"]],\"type\":\"histogram2d\"}],\"histogram2dcontour\":[{\"colorbar\":{\"outlinewidth\":0,\"ticks\":\"\"},\"colorscale\":[[0.0,\"#0d0887\"],[0.1111111111111111,\"#46039f\"],[0.2222222222222222,\"#7201a8\"],[0.3333333333333333,\"#9c179e\"],[0.4444444444444444,\"#bd3786\"],[0.5555555555555556,\"#d8576b\"],[0.6666666666666666,\"#ed7953\"],[0.7777777777777778,\"#fb9f3a\"],[0.8888888888888888,\"#fdca26\"],[1.0,\"#f0f921\"]],\"type\":\"histogram2dcontour\"}],\"mesh3d\":[{\"colorbar\":{\"outlinewidth\":0,\"ticks\":\"\"},\"type\":\"mesh3d\"}],\"parcoords\":[{\"line\":{\"colorbar\":{\"outlinewidth\":0,\"ticks\":\"\"}},\"type\":\"parcoords\"}],\"pie\":[{\"automargin\":true,\"type\":\"pie\"}],\"scatter\":[{\"marker\":{\"colorbar\":{\"outlinewidth\":0,\"ticks\":\"\"}},\"type\":\"scatter\"}],\"scatter3d\":[{\"line\":{\"colorbar\":{\"outlinewidth\":0,\"ticks\":\"\"}},\"marker\":{\"colorbar\":{\"outlinewidth\":0,\"ticks\":\"\"}},\"type\":\"scatter3d\"}],\"scattercarpet\":[{\"marker\":{\"colorbar\":{\"outlinewidth\":0,\"ticks\":\"\"}},\"type\":\"scattercarpet\"}],\"scattergeo\":[{\"marker\":{\"colorbar\":{\"outlinewidth\":0,\"ticks\":\"\"}},\"type\":\"scattergeo\"}],\"scattergl\":[{\"marker\":{\"colorbar\":{\"outlinewidth\":0,\"ticks\":\"\"}},\"type\":\"scattergl\"}],\"scattermapbox\":[{\"marker\":{\"colorbar\":{\"outlinewidth\":0,\"ticks\":\"\"}},\"type\":\"scattermapbox\"}],\"scatterpolar\":[{\"marker\":{\"colorbar\":{\"outlinewidth\":0,\"ticks\":\"\"}},\"type\":\"scatterpolar\"}],\"scatterpolargl\":[{\"marker\":{\"colorbar\":{\"outlinewidth\":0,\"ticks\":\"\"}},\"type\":\"scatterpolargl\"}],\"scatterternary\":[{\"marker\":{\"colorbar\":{\"outlinewidth\":0,\"ticks\":\"\"}},\"type\":\"scatterternary\"}],\"surface\":[{\"colorbar\":{\"outlinewidth\":0,\"ticks\":\"\"},\"colorscale\":[[0.0,\"#0d0887\"],[0.1111111111111111,\"#46039f\"],[0.2222222222222222,\"#7201a8\"],[0.3333333333333333,\"#9c179e\"],[0.4444444444444444,\"#bd3786\"],[0.5555555555555556,\"#d8576b\"],[0.6666666666666666,\"#ed7953\"],[0.7777777777777778,\"#fb9f3a\"],[0.8888888888888888,\"#fdca26\"],[1.0,\"#f0f921\"]],\"type\":\"surface\"}],\"table\":[{\"cells\":{\"fill\":{\"color\":\"#EBF0F8\"},\"line\":{\"color\":\"white\"}},\"header\":{\"fill\":{\"color\":\"#C8D4E3\"},\"line\":{\"color\":\"white\"}},\"type\":\"table\"}]},\"layout\":{\"annotationdefaults\":{\"arrowcolor\":\"#2a3f5f\",\"arrowhead\":0,\"arrowwidth\":1},\"autotypenumbers\":\"strict\",\"coloraxis\":{\"colorbar\":{\"outlinewidth\":0,\"ticks\":\"\"}},\"colorscale\":{\"diverging\":[[0,\"#8e0152\"],[0.1,\"#c51b7d\"],[0.2,\"#de77ae\"],[0.3,\"#f1b6da\"],[0.4,\"#fde0ef\"],[0.5,\"#f7f7f7\"],[0.6,\"#e6f5d0\"],[0.7,\"#b8e186\"],[0.8,\"#7fbc41\"],[0.9,\"#4d9221\"],[1,\"#276419\"]],\"sequential\":[[0.0,\"#0d0887\"],[0.1111111111111111,\"#46039f\"],[0.2222222222222222,\"#7201a8\"],[0.3333333333333333,\"#9c179e\"],[0.4444444444444444,\"#bd3786\"],[0.5555555555555556,\"#d8576b\"],[0.6666666666666666,\"#ed7953\"],[0.7777777777777778,\"#fb9f3a\"],[0.8888888888888888,\"#fdca26\"],[1.0,\"#f0f921\"]],\"sequentialminus\":[[0.0,\"#0d0887\"],[0.1111111111111111,\"#46039f\"],[0.2222222222222222,\"#7201a8\"],[0.3333333333333333,\"#9c179e\"],[0.4444444444444444,\"#bd3786\"],[0.5555555555555556,\"#d8576b\"],[0.6666666666666666,\"#ed7953\"],[0.7777777777777778,\"#fb9f3a\"],[0.8888888888888888,\"#fdca26\"],[1.0,\"#f0f921\"]]},\"colorway\":[\"#636efa\",\"#EF553B\",\"#00cc96\",\"#ab63fa\",\"#FFA15A\",\"#19d3f3\",\"#FF6692\",\"#B6E880\",\"#FF97FF\",\"#FECB52\"],\"font\":{\"color\":\"#2a3f5f\"},\"geo\":{\"bgcolor\":\"white\",\"lakecolor\":\"white\",\"landcolor\":\"#E5ECF6\",\"showlakes\":true,\"showland\":true,\"subunitcolor\":\"white\"},\"hoverlabel\":{\"align\":\"left\"},\"hovermode\":\"closest\",\"mapbox\":{\"style\":\"light\"},\"paper_bgcolor\":\"white\",\"plot_bgcolor\":\"#E5ECF6\",\"polar\":{\"angularaxis\":{\"gridcolor\":\"white\",\"linecolor\":\"white\",\"ticks\":\"\"},\"bgcolor\":\"#E5ECF6\",\"radialaxis\":{\"gridcolor\":\"white\",\"linecolor\":\"white\",\"ticks\":\"\"}},\"scene\":{\"xaxis\":{\"backgroundcolor\":\"#E5ECF6\",\"gridcolor\":\"white\",\"gridwidth\":2,\"linecolor\":\"white\",\"showbackground\":true,\"ticks\":\"\",\"zerolinecolor\":\"white\"},\"yaxis\":{\"backgroundcolor\":\"#E5ECF6\",\"gridcolor\":\"white\",\"gridwidth\":2,\"linecolor\":\"white\",\"showbackground\":true,\"ticks\":\"\",\"zerolinecolor\":\"white\"},\"zaxis\":{\"backgroundcolor\":\"#E5ECF6\",\"gridcolor\":\"white\",\"gridwidth\":2,\"linecolor\":\"white\",\"showbackground\":true,\"ticks\":\"\",\"zerolinecolor\":\"white\"}},\"shapedefaults\":{\"line\":{\"color\":\"#2a3f5f\"}},\"ternary\":{\"aaxis\":{\"gridcolor\":\"white\",\"linecolor\":\"white\",\"ticks\":\"\"},\"baxis\":{\"gridcolor\":\"white\",\"linecolor\":\"white\",\"ticks\":\"\"},\"bgcolor\":\"#E5ECF6\",\"caxis\":{\"gridcolor\":\"white\",\"linecolor\":\"white\",\"ticks\":\"\"}},\"title\":{\"x\":0.05},\"xaxis\":{\"automargin\":true,\"gridcolor\":\"white\",\"linecolor\":\"white\",\"ticks\":\"\",\"title\":{\"standoff\":15},\"zerolinecolor\":\"white\",\"zerolinewidth\":2},\"yaxis\":{\"automargin\":true,\"gridcolor\":\"white\",\"linecolor\":\"white\",\"ticks\":\"\",\"title\":{\"standoff\":15},\"zerolinecolor\":\"white\",\"zerolinewidth\":2}}},\"scene\":{\"domain\":{\"x\":[0.0,1.0],\"y\":[0.0,1.0]},\"xaxis\":{\"title\":{\"text\":\"x-data\"}},\"yaxis\":{\"title\":{\"text\":\"y-data\"}},\"zaxis\":{\"title\":{\"text\":\"z-data\"}}},\"legend\":{\"tracegroupgap\":0},\"margin\":{\"t\":60}},                        {\"responsive\": true}                    ).then(function(){\n",
              "                            \n",
              "var gd = document.getElementById('82c73031-a943-4459-803e-79a620c3d899');\n",
              "var x = new MutationObserver(function (mutations, observer) {{\n",
              "        var display = window.getComputedStyle(gd).display;\n",
              "        if (!display || display === 'none') {{\n",
              "            console.log([gd, 'removed!']);\n",
              "            Plotly.purge(gd);\n",
              "            observer.disconnect();\n",
              "        }}\n",
              "}});\n",
              "\n",
              "// Listen for the removal of the full notebook cells\n",
              "var notebookContainer = gd.closest('#notebook-container');\n",
              "if (notebookContainer) {{\n",
              "    x.observe(notebookContainer, {childList: true});\n",
              "}}\n",
              "\n",
              "// Listen for the clearing of the current output cell\n",
              "var outputEl = gd.closest('.output');\n",
              "if (outputEl) {{\n",
              "    x.observe(outputEl, {childList: true});\n",
              "}}\n",
              "\n",
              "                        })                };                            </script>        </div>\n",
              "</body>\n",
              "</html>"
            ]
          },
          "metadata": {}
        }
      ]
    },
    {
      "cell_type": "code",
      "source": [
        "# Работа с файлами\n",
        "import pandas as pd\n",
        "import numpy as np\n",
        "import matplotlib.pyplot as plt\n",
        "from google.colab import drive # импортируем функцию для подключения гугл-диска к нашей рабочей области\n",
        "drive.mount('/content/drive') # связываем гугл-диск с рабочей областью\n",
        "df = pd.read_csv ('/content/drive/My Drive/plehanova/Транзакции.csv', encoding = 'cp1251', sep = '\\t') #считываем файл\n",
        "df\n"
      ],
      "metadata": {
        "colab": {
          "base_uri": "https://localhost:8080/",
          "height": 441
        },
        "id": "OsKhvXqnmjTu",
        "outputId": "01524538-d53e-4f61-9d93-7ece0d896b01"
      },
      "execution_count": null,
      "outputs": [
        {
          "output_type": "stream",
          "name": "stdout",
          "text": [
            "Drive already mounted at /content/drive; to attempt to forcibly remount, call drive.mount(\"/content/drive\", force_remount=True).\n"
          ]
        },
        {
          "output_type": "execute_result",
          "data": {
            "text/plain": [
              "       TransactionID                  Date  Count  Cost  Доставка  \\\n",
              "0                  1   2020-Aug-21 8:53:03     67  6325         0   \n",
              "1                  2   2019-Sep-3 11:53:03     90  8307         1   \n",
              "2                  3   2019-Oct-15 4:31:02     59  9819         0   \n",
              "3                  4   2019-Aug-26 4:14:00     14  5351         1   \n",
              "4                  5   2020-Aug-27 1:21:03     14  7779         1   \n",
              "...              ...                   ...    ...   ...       ...   \n",
              "14360          14361   2019-Oct-30 4:42:01     70  4716         1   \n",
              "14361          14362   2019-Oct-8 23:23:03     14  4547         1   \n",
              "14362          14363  2020-Aug-17 18:25:00      8  9940         1   \n",
              "14363          14364   2020-Aug-27 9:38:01     92  7180         0   \n",
              "14364          14365  2020-Aug-26 13:27:01     23  9680         1   \n",
              "\n",
              "       Плохой отзыв     Paid  Weight  Promo  AutoIssue  \n",
              "0                 0   2605,0    5481      0          0  \n",
              "1                 1   8553,0    5956      1          1  \n",
              "2                 1   9995,0    5170      1          0  \n",
              "3                 1  12603,0    8826      0          0  \n",
              "4                 0   5625,0    5357      0          0  \n",
              "...             ...      ...     ...    ...        ...  \n",
              "14360             1   3201,0    7509      1          1  \n",
              "14361             0  10810,0    8511      1          0  \n",
              "14362             1  10597,0    9649      0          1  \n",
              "14363             0   7200,0    6638      0          0  \n",
              "14364             0   1991,0    6589      1          1  \n",
              "\n",
              "[14365 rows x 10 columns]"
            ],
            "text/html": [
              "\n",
              "  <div id=\"df-a7a9f330-d803-4c83-bc78-1c528a9441eb\">\n",
              "    <div class=\"colab-df-container\">\n",
              "      <div>\n",
              "<style scoped>\n",
              "    .dataframe tbody tr th:only-of-type {\n",
              "        vertical-align: middle;\n",
              "    }\n",
              "\n",
              "    .dataframe tbody tr th {\n",
              "        vertical-align: top;\n",
              "    }\n",
              "\n",
              "    .dataframe thead th {\n",
              "        text-align: right;\n",
              "    }\n",
              "</style>\n",
              "<table border=\"1\" class=\"dataframe\">\n",
              "  <thead>\n",
              "    <tr style=\"text-align: right;\">\n",
              "      <th></th>\n",
              "      <th>TransactionID</th>\n",
              "      <th>Date</th>\n",
              "      <th>Count</th>\n",
              "      <th>Cost</th>\n",
              "      <th>Доставка</th>\n",
              "      <th>Плохой отзыв</th>\n",
              "      <th>Paid</th>\n",
              "      <th>Weight</th>\n",
              "      <th>Promo</th>\n",
              "      <th>AutoIssue</th>\n",
              "    </tr>\n",
              "  </thead>\n",
              "  <tbody>\n",
              "    <tr>\n",
              "      <th>0</th>\n",
              "      <td>1</td>\n",
              "      <td>2020-Aug-21 8:53:03</td>\n",
              "      <td>67</td>\n",
              "      <td>6325</td>\n",
              "      <td>0</td>\n",
              "      <td>0</td>\n",
              "      <td>2605,0</td>\n",
              "      <td>5481</td>\n",
              "      <td>0</td>\n",
              "      <td>0</td>\n",
              "    </tr>\n",
              "    <tr>\n",
              "      <th>1</th>\n",
              "      <td>2</td>\n",
              "      <td>2019-Sep-3 11:53:03</td>\n",
              "      <td>90</td>\n",
              "      <td>8307</td>\n",
              "      <td>1</td>\n",
              "      <td>1</td>\n",
              "      <td>8553,0</td>\n",
              "      <td>5956</td>\n",
              "      <td>1</td>\n",
              "      <td>1</td>\n",
              "    </tr>\n",
              "    <tr>\n",
              "      <th>2</th>\n",
              "      <td>3</td>\n",
              "      <td>2019-Oct-15 4:31:02</td>\n",
              "      <td>59</td>\n",
              "      <td>9819</td>\n",
              "      <td>0</td>\n",
              "      <td>1</td>\n",
              "      <td>9995,0</td>\n",
              "      <td>5170</td>\n",
              "      <td>1</td>\n",
              "      <td>0</td>\n",
              "    </tr>\n",
              "    <tr>\n",
              "      <th>3</th>\n",
              "      <td>4</td>\n",
              "      <td>2019-Aug-26 4:14:00</td>\n",
              "      <td>14</td>\n",
              "      <td>5351</td>\n",
              "      <td>1</td>\n",
              "      <td>1</td>\n",
              "      <td>12603,0</td>\n",
              "      <td>8826</td>\n",
              "      <td>0</td>\n",
              "      <td>0</td>\n",
              "    </tr>\n",
              "    <tr>\n",
              "      <th>4</th>\n",
              "      <td>5</td>\n",
              "      <td>2020-Aug-27 1:21:03</td>\n",
              "      <td>14</td>\n",
              "      <td>7779</td>\n",
              "      <td>1</td>\n",
              "      <td>0</td>\n",
              "      <td>5625,0</td>\n",
              "      <td>5357</td>\n",
              "      <td>0</td>\n",
              "      <td>0</td>\n",
              "    </tr>\n",
              "    <tr>\n",
              "      <th>...</th>\n",
              "      <td>...</td>\n",
              "      <td>...</td>\n",
              "      <td>...</td>\n",
              "      <td>...</td>\n",
              "      <td>...</td>\n",
              "      <td>...</td>\n",
              "      <td>...</td>\n",
              "      <td>...</td>\n",
              "      <td>...</td>\n",
              "      <td>...</td>\n",
              "    </tr>\n",
              "    <tr>\n",
              "      <th>14360</th>\n",
              "      <td>14361</td>\n",
              "      <td>2019-Oct-30 4:42:01</td>\n",
              "      <td>70</td>\n",
              "      <td>4716</td>\n",
              "      <td>1</td>\n",
              "      <td>1</td>\n",
              "      <td>3201,0</td>\n",
              "      <td>7509</td>\n",
              "      <td>1</td>\n",
              "      <td>1</td>\n",
              "    </tr>\n",
              "    <tr>\n",
              "      <th>14361</th>\n",
              "      <td>14362</td>\n",
              "      <td>2019-Oct-8 23:23:03</td>\n",
              "      <td>14</td>\n",
              "      <td>4547</td>\n",
              "      <td>1</td>\n",
              "      <td>0</td>\n",
              "      <td>10810,0</td>\n",
              "      <td>8511</td>\n",
              "      <td>1</td>\n",
              "      <td>0</td>\n",
              "    </tr>\n",
              "    <tr>\n",
              "      <th>14362</th>\n",
              "      <td>14363</td>\n",
              "      <td>2020-Aug-17 18:25:00</td>\n",
              "      <td>8</td>\n",
              "      <td>9940</td>\n",
              "      <td>1</td>\n",
              "      <td>1</td>\n",
              "      <td>10597,0</td>\n",
              "      <td>9649</td>\n",
              "      <td>0</td>\n",
              "      <td>1</td>\n",
              "    </tr>\n",
              "    <tr>\n",
              "      <th>14363</th>\n",
              "      <td>14364</td>\n",
              "      <td>2020-Aug-27 9:38:01</td>\n",
              "      <td>92</td>\n",
              "      <td>7180</td>\n",
              "      <td>0</td>\n",
              "      <td>0</td>\n",
              "      <td>7200,0</td>\n",
              "      <td>6638</td>\n",
              "      <td>0</td>\n",
              "      <td>0</td>\n",
              "    </tr>\n",
              "    <tr>\n",
              "      <th>14364</th>\n",
              "      <td>14365</td>\n",
              "      <td>2020-Aug-26 13:27:01</td>\n",
              "      <td>23</td>\n",
              "      <td>9680</td>\n",
              "      <td>1</td>\n",
              "      <td>0</td>\n",
              "      <td>1991,0</td>\n",
              "      <td>6589</td>\n",
              "      <td>1</td>\n",
              "      <td>1</td>\n",
              "    </tr>\n",
              "  </tbody>\n",
              "</table>\n",
              "<p>14365 rows × 10 columns</p>\n",
              "</div>\n",
              "      <button class=\"colab-df-convert\" onclick=\"convertToInteractive('df-a7a9f330-d803-4c83-bc78-1c528a9441eb')\"\n",
              "              title=\"Convert this dataframe to an interactive table.\"\n",
              "              style=\"display:none;\">\n",
              "        \n",
              "  <svg xmlns=\"http://www.w3.org/2000/svg\" height=\"24px\"viewBox=\"0 0 24 24\"\n",
              "       width=\"24px\">\n",
              "    <path d=\"M0 0h24v24H0V0z\" fill=\"none\"/>\n",
              "    <path d=\"M18.56 5.44l.94 2.06.94-2.06 2.06-.94-2.06-.94-.94-2.06-.94 2.06-2.06.94zm-11 1L8.5 8.5l.94-2.06 2.06-.94-2.06-.94L8.5 2.5l-.94 2.06-2.06.94zm10 10l.94 2.06.94-2.06 2.06-.94-2.06-.94-.94-2.06-.94 2.06-2.06.94z\"/><path d=\"M17.41 7.96l-1.37-1.37c-.4-.4-.92-.59-1.43-.59-.52 0-1.04.2-1.43.59L10.3 9.45l-7.72 7.72c-.78.78-.78 2.05 0 2.83L4 21.41c.39.39.9.59 1.41.59.51 0 1.02-.2 1.41-.59l7.78-7.78 2.81-2.81c.8-.78.8-2.07 0-2.86zM5.41 20L4 18.59l7.72-7.72 1.47 1.35L5.41 20z\"/>\n",
              "  </svg>\n",
              "      </button>\n",
              "      \n",
              "  <style>\n",
              "    .colab-df-container {\n",
              "      display:flex;\n",
              "      flex-wrap:wrap;\n",
              "      gap: 12px;\n",
              "    }\n",
              "\n",
              "    .colab-df-convert {\n",
              "      background-color: #E8F0FE;\n",
              "      border: none;\n",
              "      border-radius: 50%;\n",
              "      cursor: pointer;\n",
              "      display: none;\n",
              "      fill: #1967D2;\n",
              "      height: 32px;\n",
              "      padding: 0 0 0 0;\n",
              "      width: 32px;\n",
              "    }\n",
              "\n",
              "    .colab-df-convert:hover {\n",
              "      background-color: #E2EBFA;\n",
              "      box-shadow: 0px 1px 2px rgba(60, 64, 67, 0.3), 0px 1px 3px 1px rgba(60, 64, 67, 0.15);\n",
              "      fill: #174EA6;\n",
              "    }\n",
              "\n",
              "    [theme=dark] .colab-df-convert {\n",
              "      background-color: #3B4455;\n",
              "      fill: #D2E3FC;\n",
              "    }\n",
              "\n",
              "    [theme=dark] .colab-df-convert:hover {\n",
              "      background-color: #434B5C;\n",
              "      box-shadow: 0px 1px 3px 1px rgba(0, 0, 0, 0.15);\n",
              "      filter: drop-shadow(0px 1px 2px rgba(0, 0, 0, 0.3));\n",
              "      fill: #FFFFFF;\n",
              "    }\n",
              "  </style>\n",
              "\n",
              "      <script>\n",
              "        const buttonEl =\n",
              "          document.querySelector('#df-a7a9f330-d803-4c83-bc78-1c528a9441eb button.colab-df-convert');\n",
              "        buttonEl.style.display =\n",
              "          google.colab.kernel.accessAllowed ? 'block' : 'none';\n",
              "\n",
              "        async function convertToInteractive(key) {\n",
              "          const element = document.querySelector('#df-a7a9f330-d803-4c83-bc78-1c528a9441eb');\n",
              "          const dataTable =\n",
              "            await google.colab.kernel.invokeFunction('convertToInteractive',\n",
              "                                                     [key], {});\n",
              "          if (!dataTable) return;\n",
              "\n",
              "          const docLinkHtml = 'Like what you see? Visit the ' +\n",
              "            '<a target=\"_blank\" href=https://colab.research.google.com/notebooks/data_table.ipynb>data table notebook</a>'\n",
              "            + ' to learn more about interactive tables.';\n",
              "          element.innerHTML = '';\n",
              "          dataTable['output_type'] = 'display_data';\n",
              "          await google.colab.output.renderOutput(dataTable, element);\n",
              "          const docLink = document.createElement('div');\n",
              "          docLink.innerHTML = docLinkHtml;\n",
              "          element.appendChild(docLink);\n",
              "        }\n",
              "      </script>\n",
              "    </div>\n",
              "  </div>\n",
              "  "
            ]
          },
          "metadata": {},
          "execution_count": 47
        }
      ]
    },
    {
      "cell_type": "code",
      "source": [
        "df.dtypes #выводим типы данных для каждого столбца"
      ],
      "metadata": {
        "colab": {
          "base_uri": "https://localhost:8080/"
        },
        "id": "YnzstwtruBaB",
        "outputId": "df2555a7-a350-4cfc-ee07-971529937b1b"
      },
      "execution_count": null,
      "outputs": [
        {
          "output_type": "execute_result",
          "data": {
            "text/plain": [
              "TransactionID     int64\n",
              "Date             object\n",
              "Count             int64\n",
              "Cost              int64\n",
              "Доставка          int64\n",
              "Плохой отзыв      int64\n",
              "Paid             object\n",
              "Weight            int64\n",
              "Promo             int64\n",
              "AutoIssue         int64\n",
              "dtype: object"
            ]
          },
          "metadata": {},
          "execution_count": 48
        }
      ]
    },
    {
      "cell_type": "code",
      "source": [
        "df ['Paid'] = df['Paid'].str.replace(',','.')\n",
        "df ['Paid'] = df ['Paid'].astype(float)\n",
        "df.dtypes"
      ],
      "metadata": {
        "colab": {
          "base_uri": "https://localhost:8080/"
        },
        "id": "0TMmZ4AiuJ3M",
        "outputId": "b64b8090-c27f-4c16-9b90-e0c4e4bc8640"
      },
      "execution_count": null,
      "outputs": [
        {
          "output_type": "execute_result",
          "data": {
            "text/plain": [
              "TransactionID      int64\n",
              "Date              object\n",
              "Count              int64\n",
              "Cost               int64\n",
              "Доставка           int64\n",
              "Плохой отзыв       int64\n",
              "Paid             float64\n",
              "Weight             int64\n",
              "Promo              int64\n",
              "AutoIssue          int64\n",
              "dtype: object"
            ]
          },
          "metadata": {},
          "execution_count": 49
        }
      ]
    },
    {
      "cell_type": "code",
      "source": [
        "df ['Date'] = pd.to_datetime(df['Date']) # переводим в тип datetime столбец Date\n",
        "df.dtypes"
      ],
      "metadata": {
        "colab": {
          "base_uri": "https://localhost:8080/"
        },
        "id": "kQb0skxuwT6K",
        "outputId": "00b06ea8-0139-4ab8-fe5e-adaf30c47d14"
      },
      "execution_count": null,
      "outputs": [
        {
          "output_type": "execute_result",
          "data": {
            "text/plain": [
              "TransactionID             int64\n",
              "Date             datetime64[ns]\n",
              "Count                     int64\n",
              "Cost                      int64\n",
              "Доставка                  int64\n",
              "Плохой отзыв              int64\n",
              "Paid                    float64\n",
              "Weight                    int64\n",
              "Promo                     int64\n",
              "AutoIssue                 int64\n",
              "dtype: object"
            ]
          },
          "metadata": {},
          "execution_count": 50
        }
      ]
    },
    {
      "cell_type": "code",
      "source": [
        "df['Date_new'] = pd.to_datetime(df['Date'].apply(lambda x: str(x.year) + '-' + str(x.month))) # вычисляем год и месяц\n",
        "df"
      ],
      "metadata": {
        "colab": {
          "base_uri": "https://localhost:8080/",
          "height": 424
        },
        "id": "Li8nZ-kNxvjM",
        "outputId": "ec3ba24f-718e-45ef-d8ee-14909a13237c"
      },
      "execution_count": null,
      "outputs": [
        {
          "output_type": "execute_result",
          "data": {
            "text/plain": [
              "       TransactionID                Date  Count  Cost  Доставка  Плохой отзыв  \\\n",
              "0                  1 2020-08-21 08:53:03     67  6325         0             0   \n",
              "1                  2 2019-09-03 11:53:03     90  8307         1             1   \n",
              "2                  3 2019-10-15 04:31:02     59  9819         0             1   \n",
              "3                  4 2019-08-26 04:14:00     14  5351         1             1   \n",
              "4                  5 2020-08-27 01:21:03     14  7779         1             0   \n",
              "...              ...                 ...    ...   ...       ...           ...   \n",
              "14360          14361 2019-10-30 04:42:01     70  4716         1             1   \n",
              "14361          14362 2019-10-08 23:23:03     14  4547         1             0   \n",
              "14362          14363 2020-08-17 18:25:00      8  9940         1             1   \n",
              "14363          14364 2020-08-27 09:38:01     92  7180         0             0   \n",
              "14364          14365 2020-08-26 13:27:01     23  9680         1             0   \n",
              "\n",
              "          Paid  Weight  Promo  AutoIssue   Date_new  \n",
              "0       2605.0    5481      0          0 2020-08-01  \n",
              "1       8553.0    5956      1          1 2019-09-01  \n",
              "2       9995.0    5170      1          0 2019-10-01  \n",
              "3      12603.0    8826      0          0 2019-08-01  \n",
              "4       5625.0    5357      0          0 2020-08-01  \n",
              "...        ...     ...    ...        ...        ...  \n",
              "14360   3201.0    7509      1          1 2019-10-01  \n",
              "14361  10810.0    8511      1          0 2019-10-01  \n",
              "14362  10597.0    9649      0          1 2020-08-01  \n",
              "14363   7200.0    6638      0          0 2020-08-01  \n",
              "14364   1991.0    6589      1          1 2020-08-01  \n",
              "\n",
              "[14365 rows x 11 columns]"
            ],
            "text/html": [
              "\n",
              "  <div id=\"df-5a753565-885c-457a-b228-45496fef24c3\">\n",
              "    <div class=\"colab-df-container\">\n",
              "      <div>\n",
              "<style scoped>\n",
              "    .dataframe tbody tr th:only-of-type {\n",
              "        vertical-align: middle;\n",
              "    }\n",
              "\n",
              "    .dataframe tbody tr th {\n",
              "        vertical-align: top;\n",
              "    }\n",
              "\n",
              "    .dataframe thead th {\n",
              "        text-align: right;\n",
              "    }\n",
              "</style>\n",
              "<table border=\"1\" class=\"dataframe\">\n",
              "  <thead>\n",
              "    <tr style=\"text-align: right;\">\n",
              "      <th></th>\n",
              "      <th>TransactionID</th>\n",
              "      <th>Date</th>\n",
              "      <th>Count</th>\n",
              "      <th>Cost</th>\n",
              "      <th>Доставка</th>\n",
              "      <th>Плохой отзыв</th>\n",
              "      <th>Paid</th>\n",
              "      <th>Weight</th>\n",
              "      <th>Promo</th>\n",
              "      <th>AutoIssue</th>\n",
              "      <th>Date_new</th>\n",
              "    </tr>\n",
              "  </thead>\n",
              "  <tbody>\n",
              "    <tr>\n",
              "      <th>0</th>\n",
              "      <td>1</td>\n",
              "      <td>2020-08-21 08:53:03</td>\n",
              "      <td>67</td>\n",
              "      <td>6325</td>\n",
              "      <td>0</td>\n",
              "      <td>0</td>\n",
              "      <td>2605.0</td>\n",
              "      <td>5481</td>\n",
              "      <td>0</td>\n",
              "      <td>0</td>\n",
              "      <td>2020-08-01</td>\n",
              "    </tr>\n",
              "    <tr>\n",
              "      <th>1</th>\n",
              "      <td>2</td>\n",
              "      <td>2019-09-03 11:53:03</td>\n",
              "      <td>90</td>\n",
              "      <td>8307</td>\n",
              "      <td>1</td>\n",
              "      <td>1</td>\n",
              "      <td>8553.0</td>\n",
              "      <td>5956</td>\n",
              "      <td>1</td>\n",
              "      <td>1</td>\n",
              "      <td>2019-09-01</td>\n",
              "    </tr>\n",
              "    <tr>\n",
              "      <th>2</th>\n",
              "      <td>3</td>\n",
              "      <td>2019-10-15 04:31:02</td>\n",
              "      <td>59</td>\n",
              "      <td>9819</td>\n",
              "      <td>0</td>\n",
              "      <td>1</td>\n",
              "      <td>9995.0</td>\n",
              "      <td>5170</td>\n",
              "      <td>1</td>\n",
              "      <td>0</td>\n",
              "      <td>2019-10-01</td>\n",
              "    </tr>\n",
              "    <tr>\n",
              "      <th>3</th>\n",
              "      <td>4</td>\n",
              "      <td>2019-08-26 04:14:00</td>\n",
              "      <td>14</td>\n",
              "      <td>5351</td>\n",
              "      <td>1</td>\n",
              "      <td>1</td>\n",
              "      <td>12603.0</td>\n",
              "      <td>8826</td>\n",
              "      <td>0</td>\n",
              "      <td>0</td>\n",
              "      <td>2019-08-01</td>\n",
              "    </tr>\n",
              "    <tr>\n",
              "      <th>4</th>\n",
              "      <td>5</td>\n",
              "      <td>2020-08-27 01:21:03</td>\n",
              "      <td>14</td>\n",
              "      <td>7779</td>\n",
              "      <td>1</td>\n",
              "      <td>0</td>\n",
              "      <td>5625.0</td>\n",
              "      <td>5357</td>\n",
              "      <td>0</td>\n",
              "      <td>0</td>\n",
              "      <td>2020-08-01</td>\n",
              "    </tr>\n",
              "    <tr>\n",
              "      <th>...</th>\n",
              "      <td>...</td>\n",
              "      <td>...</td>\n",
              "      <td>...</td>\n",
              "      <td>...</td>\n",
              "      <td>...</td>\n",
              "      <td>...</td>\n",
              "      <td>...</td>\n",
              "      <td>...</td>\n",
              "      <td>...</td>\n",
              "      <td>...</td>\n",
              "      <td>...</td>\n",
              "    </tr>\n",
              "    <tr>\n",
              "      <th>14360</th>\n",
              "      <td>14361</td>\n",
              "      <td>2019-10-30 04:42:01</td>\n",
              "      <td>70</td>\n",
              "      <td>4716</td>\n",
              "      <td>1</td>\n",
              "      <td>1</td>\n",
              "      <td>3201.0</td>\n",
              "      <td>7509</td>\n",
              "      <td>1</td>\n",
              "      <td>1</td>\n",
              "      <td>2019-10-01</td>\n",
              "    </tr>\n",
              "    <tr>\n",
              "      <th>14361</th>\n",
              "      <td>14362</td>\n",
              "      <td>2019-10-08 23:23:03</td>\n",
              "      <td>14</td>\n",
              "      <td>4547</td>\n",
              "      <td>1</td>\n",
              "      <td>0</td>\n",
              "      <td>10810.0</td>\n",
              "      <td>8511</td>\n",
              "      <td>1</td>\n",
              "      <td>0</td>\n",
              "      <td>2019-10-01</td>\n",
              "    </tr>\n",
              "    <tr>\n",
              "      <th>14362</th>\n",
              "      <td>14363</td>\n",
              "      <td>2020-08-17 18:25:00</td>\n",
              "      <td>8</td>\n",
              "      <td>9940</td>\n",
              "      <td>1</td>\n",
              "      <td>1</td>\n",
              "      <td>10597.0</td>\n",
              "      <td>9649</td>\n",
              "      <td>0</td>\n",
              "      <td>1</td>\n",
              "      <td>2020-08-01</td>\n",
              "    </tr>\n",
              "    <tr>\n",
              "      <th>14363</th>\n",
              "      <td>14364</td>\n",
              "      <td>2020-08-27 09:38:01</td>\n",
              "      <td>92</td>\n",
              "      <td>7180</td>\n",
              "      <td>0</td>\n",
              "      <td>0</td>\n",
              "      <td>7200.0</td>\n",
              "      <td>6638</td>\n",
              "      <td>0</td>\n",
              "      <td>0</td>\n",
              "      <td>2020-08-01</td>\n",
              "    </tr>\n",
              "    <tr>\n",
              "      <th>14364</th>\n",
              "      <td>14365</td>\n",
              "      <td>2020-08-26 13:27:01</td>\n",
              "      <td>23</td>\n",
              "      <td>9680</td>\n",
              "      <td>1</td>\n",
              "      <td>0</td>\n",
              "      <td>1991.0</td>\n",
              "      <td>6589</td>\n",
              "      <td>1</td>\n",
              "      <td>1</td>\n",
              "      <td>2020-08-01</td>\n",
              "    </tr>\n",
              "  </tbody>\n",
              "</table>\n",
              "<p>14365 rows × 11 columns</p>\n",
              "</div>\n",
              "      <button class=\"colab-df-convert\" onclick=\"convertToInteractive('df-5a753565-885c-457a-b228-45496fef24c3')\"\n",
              "              title=\"Convert this dataframe to an interactive table.\"\n",
              "              style=\"display:none;\">\n",
              "        \n",
              "  <svg xmlns=\"http://www.w3.org/2000/svg\" height=\"24px\"viewBox=\"0 0 24 24\"\n",
              "       width=\"24px\">\n",
              "    <path d=\"M0 0h24v24H0V0z\" fill=\"none\"/>\n",
              "    <path d=\"M18.56 5.44l.94 2.06.94-2.06 2.06-.94-2.06-.94-.94-2.06-.94 2.06-2.06.94zm-11 1L8.5 8.5l.94-2.06 2.06-.94-2.06-.94L8.5 2.5l-.94 2.06-2.06.94zm10 10l.94 2.06.94-2.06 2.06-.94-2.06-.94-.94-2.06-.94 2.06-2.06.94z\"/><path d=\"M17.41 7.96l-1.37-1.37c-.4-.4-.92-.59-1.43-.59-.52 0-1.04.2-1.43.59L10.3 9.45l-7.72 7.72c-.78.78-.78 2.05 0 2.83L4 21.41c.39.39.9.59 1.41.59.51 0 1.02-.2 1.41-.59l7.78-7.78 2.81-2.81c.8-.78.8-2.07 0-2.86zM5.41 20L4 18.59l7.72-7.72 1.47 1.35L5.41 20z\"/>\n",
              "  </svg>\n",
              "      </button>\n",
              "      \n",
              "  <style>\n",
              "    .colab-df-container {\n",
              "      display:flex;\n",
              "      flex-wrap:wrap;\n",
              "      gap: 12px;\n",
              "    }\n",
              "\n",
              "    .colab-df-convert {\n",
              "      background-color: #E8F0FE;\n",
              "      border: none;\n",
              "      border-radius: 50%;\n",
              "      cursor: pointer;\n",
              "      display: none;\n",
              "      fill: #1967D2;\n",
              "      height: 32px;\n",
              "      padding: 0 0 0 0;\n",
              "      width: 32px;\n",
              "    }\n",
              "\n",
              "    .colab-df-convert:hover {\n",
              "      background-color: #E2EBFA;\n",
              "      box-shadow: 0px 1px 2px rgba(60, 64, 67, 0.3), 0px 1px 3px 1px rgba(60, 64, 67, 0.15);\n",
              "      fill: #174EA6;\n",
              "    }\n",
              "\n",
              "    [theme=dark] .colab-df-convert {\n",
              "      background-color: #3B4455;\n",
              "      fill: #D2E3FC;\n",
              "    }\n",
              "\n",
              "    [theme=dark] .colab-df-convert:hover {\n",
              "      background-color: #434B5C;\n",
              "      box-shadow: 0px 1px 3px 1px rgba(0, 0, 0, 0.15);\n",
              "      filter: drop-shadow(0px 1px 2px rgba(0, 0, 0, 0.3));\n",
              "      fill: #FFFFFF;\n",
              "    }\n",
              "  </style>\n",
              "\n",
              "      <script>\n",
              "        const buttonEl =\n",
              "          document.querySelector('#df-5a753565-885c-457a-b228-45496fef24c3 button.colab-df-convert');\n",
              "        buttonEl.style.display =\n",
              "          google.colab.kernel.accessAllowed ? 'block' : 'none';\n",
              "\n",
              "        async function convertToInteractive(key) {\n",
              "          const element = document.querySelector('#df-5a753565-885c-457a-b228-45496fef24c3');\n",
              "          const dataTable =\n",
              "            await google.colab.kernel.invokeFunction('convertToInteractive',\n",
              "                                                     [key], {});\n",
              "          if (!dataTable) return;\n",
              "\n",
              "          const docLinkHtml = 'Like what you see? Visit the ' +\n",
              "            '<a target=\"_blank\" href=https://colab.research.google.com/notebooks/data_table.ipynb>data table notebook</a>'\n",
              "            + ' to learn more about interactive tables.';\n",
              "          element.innerHTML = '';\n",
              "          dataTable['output_type'] = 'display_data';\n",
              "          await google.colab.output.renderOutput(dataTable, element);\n",
              "          const docLink = document.createElement('div');\n",
              "          docLink.innerHTML = docLinkHtml;\n",
              "          element.appendChild(docLink);\n",
              "        }\n",
              "      </script>\n",
              "    </div>\n",
              "  </div>\n",
              "  "
            ]
          },
          "metadata": {},
          "execution_count": 57
        }
      ]
    },
    {
      "cell_type": "markdown",
      "source": [
        "# ***Кейс 8 - Работа с файлами***"
      ],
      "metadata": {
        "id": "lguEA2lggvQj"
      }
    },
    {
      "cell_type": "code",
      "source": [
        "df['Date_new'] = pd.to_datetime(df['Date'].apply(lambda x: str(x.year) + '-' + str(x.month))) # вычисляем год и месяц\n",
        "# Урок 8\n",
        "\n",
        "df = df[df['Доставка'] == 0] # очищаем на датасет от транзакций, где была доставка\n",
        "results = pd.DataFrame(df.groupby(['Date_new', 'Promo']).count()['TransactionID']) # проводим группировку по дате и промокоду\n",
        "results['% Плохих отзывов'] = np.round((df.groupby(['Date_new', 'Promo']).mean()['Плохой отзыв']) * 100, 2) # считаем % плохих отзывов\n",
        "results['Доходность, %'] = np.round((df.groupby(['Date_new','Promo']).sum()['Paid'] - df.groupby(['Date_new','Promo']).sum()['Cost']) / df.groupby(['Date_new','Promo']).sum()['Cost'] * 100, 2)\n",
        "# вычисляем доходность транзакций\n",
        "results.columns = ['Кол-во транзакций', '% Плохих отзывов', 'Доходность, %'] # переименовываем колонки датафрейма\n",
        "results"
      ],
      "metadata": {
        "colab": {
          "base_uri": "https://localhost:8080/",
          "height": 1000
        },
        "id": "XbTX6-q5xb7W",
        "outputId": "6bf42ded-f542-489b-bcc7-ddf28fd212e7"
      },
      "execution_count": null,
      "outputs": [
        {
          "output_type": "execute_result",
          "data": {
            "text/plain": [
              "                  Кол-во транзакций  % Плохих отзывов  Доходность, %\n",
              "Date_new   Promo                                                    \n",
              "2019-03-01 0                      1            100.00         -55.24\n",
              "2019-04-01 0                    177             49.72           7.80\n",
              "           1                    139             46.04           6.45\n",
              "2019-05-01 0                    187             53.48           6.12\n",
              "           1                    179             45.81           8.96\n",
              "2019-06-01 0                    181             48.62           5.43\n",
              "           1                    181             46.96          15.41\n",
              "2019-07-01 0                    159             42.77           8.17\n",
              "           1                    186             55.38           7.00\n",
              "2019-08-01 0                    183             44.81           5.60\n",
              "           1                    147             57.14           9.26\n",
              "2019-09-01 0                    225             50.22           9.04\n",
              "           1                    200             45.50          20.69\n",
              "2019-10-01 0                    238             54.20          10.99\n",
              "           1                    272             49.63           1.35\n",
              "2019-11-01 0                    235             53.62          15.42\n",
              "           1                    237             50.21           7.91\n",
              "2019-12-01 0                    225             50.22           8.25\n",
              "           1                    212             56.13           5.35\n",
              "2020-01-01 0                    216             49.54           9.50\n",
              "           1                    220             49.09          11.69\n",
              "2020-02-01 0                    218             53.21           5.88\n",
              "           1                    189             43.39           2.29\n",
              "2020-03-01 0                    295             51.19           8.09\n",
              "           1                    294             50.68           5.60\n",
              "2020-04-01 0                    167             42.51           2.00\n",
              "           1                    188             52.13           3.15\n",
              "2020-05-01 0                    201             49.25          -3.05\n",
              "           1                    210             50.00           7.58\n",
              "2020-06-01 0                    195             47.18          17.63\n",
              "           1                    198             51.01           1.76\n",
              "2020-07-01 0                    241             53.53           9.83\n",
              "           1                    232             51.29           6.44\n",
              "2020-08-01 0                    245             43.67           5.90\n",
              "           1                    255             54.12           6.86"
            ],
            "text/html": [
              "\n",
              "  <div id=\"df-34118fa1-7d10-4e0d-be03-e2d70ec6c059\">\n",
              "    <div class=\"colab-df-container\">\n",
              "      <div>\n",
              "<style scoped>\n",
              "    .dataframe tbody tr th:only-of-type {\n",
              "        vertical-align: middle;\n",
              "    }\n",
              "\n",
              "    .dataframe tbody tr th {\n",
              "        vertical-align: top;\n",
              "    }\n",
              "\n",
              "    .dataframe thead th {\n",
              "        text-align: right;\n",
              "    }\n",
              "</style>\n",
              "<table border=\"1\" class=\"dataframe\">\n",
              "  <thead>\n",
              "    <tr style=\"text-align: right;\">\n",
              "      <th></th>\n",
              "      <th></th>\n",
              "      <th>Кол-во транзакций</th>\n",
              "      <th>% Плохих отзывов</th>\n",
              "      <th>Доходность, %</th>\n",
              "    </tr>\n",
              "    <tr>\n",
              "      <th>Date_new</th>\n",
              "      <th>Promo</th>\n",
              "      <th></th>\n",
              "      <th></th>\n",
              "      <th></th>\n",
              "    </tr>\n",
              "  </thead>\n",
              "  <tbody>\n",
              "    <tr>\n",
              "      <th>2019-03-01</th>\n",
              "      <th>0</th>\n",
              "      <td>1</td>\n",
              "      <td>100.00</td>\n",
              "      <td>-55.24</td>\n",
              "    </tr>\n",
              "    <tr>\n",
              "      <th rowspan=\"2\" valign=\"top\">2019-04-01</th>\n",
              "      <th>0</th>\n",
              "      <td>177</td>\n",
              "      <td>49.72</td>\n",
              "      <td>7.80</td>\n",
              "    </tr>\n",
              "    <tr>\n",
              "      <th>1</th>\n",
              "      <td>139</td>\n",
              "      <td>46.04</td>\n",
              "      <td>6.45</td>\n",
              "    </tr>\n",
              "    <tr>\n",
              "      <th rowspan=\"2\" valign=\"top\">2019-05-01</th>\n",
              "      <th>0</th>\n",
              "      <td>187</td>\n",
              "      <td>53.48</td>\n",
              "      <td>6.12</td>\n",
              "    </tr>\n",
              "    <tr>\n",
              "      <th>1</th>\n",
              "      <td>179</td>\n",
              "      <td>45.81</td>\n",
              "      <td>8.96</td>\n",
              "    </tr>\n",
              "    <tr>\n",
              "      <th rowspan=\"2\" valign=\"top\">2019-06-01</th>\n",
              "      <th>0</th>\n",
              "      <td>181</td>\n",
              "      <td>48.62</td>\n",
              "      <td>5.43</td>\n",
              "    </tr>\n",
              "    <tr>\n",
              "      <th>1</th>\n",
              "      <td>181</td>\n",
              "      <td>46.96</td>\n",
              "      <td>15.41</td>\n",
              "    </tr>\n",
              "    <tr>\n",
              "      <th rowspan=\"2\" valign=\"top\">2019-07-01</th>\n",
              "      <th>0</th>\n",
              "      <td>159</td>\n",
              "      <td>42.77</td>\n",
              "      <td>8.17</td>\n",
              "    </tr>\n",
              "    <tr>\n",
              "      <th>1</th>\n",
              "      <td>186</td>\n",
              "      <td>55.38</td>\n",
              "      <td>7.00</td>\n",
              "    </tr>\n",
              "    <tr>\n",
              "      <th rowspan=\"2\" valign=\"top\">2019-08-01</th>\n",
              "      <th>0</th>\n",
              "      <td>183</td>\n",
              "      <td>44.81</td>\n",
              "      <td>5.60</td>\n",
              "    </tr>\n",
              "    <tr>\n",
              "      <th>1</th>\n",
              "      <td>147</td>\n",
              "      <td>57.14</td>\n",
              "      <td>9.26</td>\n",
              "    </tr>\n",
              "    <tr>\n",
              "      <th rowspan=\"2\" valign=\"top\">2019-09-01</th>\n",
              "      <th>0</th>\n",
              "      <td>225</td>\n",
              "      <td>50.22</td>\n",
              "      <td>9.04</td>\n",
              "    </tr>\n",
              "    <tr>\n",
              "      <th>1</th>\n",
              "      <td>200</td>\n",
              "      <td>45.50</td>\n",
              "      <td>20.69</td>\n",
              "    </tr>\n",
              "    <tr>\n",
              "      <th rowspan=\"2\" valign=\"top\">2019-10-01</th>\n",
              "      <th>0</th>\n",
              "      <td>238</td>\n",
              "      <td>54.20</td>\n",
              "      <td>10.99</td>\n",
              "    </tr>\n",
              "    <tr>\n",
              "      <th>1</th>\n",
              "      <td>272</td>\n",
              "      <td>49.63</td>\n",
              "      <td>1.35</td>\n",
              "    </tr>\n",
              "    <tr>\n",
              "      <th rowspan=\"2\" valign=\"top\">2019-11-01</th>\n",
              "      <th>0</th>\n",
              "      <td>235</td>\n",
              "      <td>53.62</td>\n",
              "      <td>15.42</td>\n",
              "    </tr>\n",
              "    <tr>\n",
              "      <th>1</th>\n",
              "      <td>237</td>\n",
              "      <td>50.21</td>\n",
              "      <td>7.91</td>\n",
              "    </tr>\n",
              "    <tr>\n",
              "      <th rowspan=\"2\" valign=\"top\">2019-12-01</th>\n",
              "      <th>0</th>\n",
              "      <td>225</td>\n",
              "      <td>50.22</td>\n",
              "      <td>8.25</td>\n",
              "    </tr>\n",
              "    <tr>\n",
              "      <th>1</th>\n",
              "      <td>212</td>\n",
              "      <td>56.13</td>\n",
              "      <td>5.35</td>\n",
              "    </tr>\n",
              "    <tr>\n",
              "      <th rowspan=\"2\" valign=\"top\">2020-01-01</th>\n",
              "      <th>0</th>\n",
              "      <td>216</td>\n",
              "      <td>49.54</td>\n",
              "      <td>9.50</td>\n",
              "    </tr>\n",
              "    <tr>\n",
              "      <th>1</th>\n",
              "      <td>220</td>\n",
              "      <td>49.09</td>\n",
              "      <td>11.69</td>\n",
              "    </tr>\n",
              "    <tr>\n",
              "      <th rowspan=\"2\" valign=\"top\">2020-02-01</th>\n",
              "      <th>0</th>\n",
              "      <td>218</td>\n",
              "      <td>53.21</td>\n",
              "      <td>5.88</td>\n",
              "    </tr>\n",
              "    <tr>\n",
              "      <th>1</th>\n",
              "      <td>189</td>\n",
              "      <td>43.39</td>\n",
              "      <td>2.29</td>\n",
              "    </tr>\n",
              "    <tr>\n",
              "      <th rowspan=\"2\" valign=\"top\">2020-03-01</th>\n",
              "      <th>0</th>\n",
              "      <td>295</td>\n",
              "      <td>51.19</td>\n",
              "      <td>8.09</td>\n",
              "    </tr>\n",
              "    <tr>\n",
              "      <th>1</th>\n",
              "      <td>294</td>\n",
              "      <td>50.68</td>\n",
              "      <td>5.60</td>\n",
              "    </tr>\n",
              "    <tr>\n",
              "      <th rowspan=\"2\" valign=\"top\">2020-04-01</th>\n",
              "      <th>0</th>\n",
              "      <td>167</td>\n",
              "      <td>42.51</td>\n",
              "      <td>2.00</td>\n",
              "    </tr>\n",
              "    <tr>\n",
              "      <th>1</th>\n",
              "      <td>188</td>\n",
              "      <td>52.13</td>\n",
              "      <td>3.15</td>\n",
              "    </tr>\n",
              "    <tr>\n",
              "      <th rowspan=\"2\" valign=\"top\">2020-05-01</th>\n",
              "      <th>0</th>\n",
              "      <td>201</td>\n",
              "      <td>49.25</td>\n",
              "      <td>-3.05</td>\n",
              "    </tr>\n",
              "    <tr>\n",
              "      <th>1</th>\n",
              "      <td>210</td>\n",
              "      <td>50.00</td>\n",
              "      <td>7.58</td>\n",
              "    </tr>\n",
              "    <tr>\n",
              "      <th rowspan=\"2\" valign=\"top\">2020-06-01</th>\n",
              "      <th>0</th>\n",
              "      <td>195</td>\n",
              "      <td>47.18</td>\n",
              "      <td>17.63</td>\n",
              "    </tr>\n",
              "    <tr>\n",
              "      <th>1</th>\n",
              "      <td>198</td>\n",
              "      <td>51.01</td>\n",
              "      <td>1.76</td>\n",
              "    </tr>\n",
              "    <tr>\n",
              "      <th rowspan=\"2\" valign=\"top\">2020-07-01</th>\n",
              "      <th>0</th>\n",
              "      <td>241</td>\n",
              "      <td>53.53</td>\n",
              "      <td>9.83</td>\n",
              "    </tr>\n",
              "    <tr>\n",
              "      <th>1</th>\n",
              "      <td>232</td>\n",
              "      <td>51.29</td>\n",
              "      <td>6.44</td>\n",
              "    </tr>\n",
              "    <tr>\n",
              "      <th rowspan=\"2\" valign=\"top\">2020-08-01</th>\n",
              "      <th>0</th>\n",
              "      <td>245</td>\n",
              "      <td>43.67</td>\n",
              "      <td>5.90</td>\n",
              "    </tr>\n",
              "    <tr>\n",
              "      <th>1</th>\n",
              "      <td>255</td>\n",
              "      <td>54.12</td>\n",
              "      <td>6.86</td>\n",
              "    </tr>\n",
              "  </tbody>\n",
              "</table>\n",
              "</div>\n",
              "      <button class=\"colab-df-convert\" onclick=\"convertToInteractive('df-34118fa1-7d10-4e0d-be03-e2d70ec6c059')\"\n",
              "              title=\"Convert this dataframe to an interactive table.\"\n",
              "              style=\"display:none;\">\n",
              "        \n",
              "  <svg xmlns=\"http://www.w3.org/2000/svg\" height=\"24px\"viewBox=\"0 0 24 24\"\n",
              "       width=\"24px\">\n",
              "    <path d=\"M0 0h24v24H0V0z\" fill=\"none\"/>\n",
              "    <path d=\"M18.56 5.44l.94 2.06.94-2.06 2.06-.94-2.06-.94-.94-2.06-.94 2.06-2.06.94zm-11 1L8.5 8.5l.94-2.06 2.06-.94-2.06-.94L8.5 2.5l-.94 2.06-2.06.94zm10 10l.94 2.06.94-2.06 2.06-.94-2.06-.94-.94-2.06-.94 2.06-2.06.94z\"/><path d=\"M17.41 7.96l-1.37-1.37c-.4-.4-.92-.59-1.43-.59-.52 0-1.04.2-1.43.59L10.3 9.45l-7.72 7.72c-.78.78-.78 2.05 0 2.83L4 21.41c.39.39.9.59 1.41.59.51 0 1.02-.2 1.41-.59l7.78-7.78 2.81-2.81c.8-.78.8-2.07 0-2.86zM5.41 20L4 18.59l7.72-7.72 1.47 1.35L5.41 20z\"/>\n",
              "  </svg>\n",
              "      </button>\n",
              "      \n",
              "  <style>\n",
              "    .colab-df-container {\n",
              "      display:flex;\n",
              "      flex-wrap:wrap;\n",
              "      gap: 12px;\n",
              "    }\n",
              "\n",
              "    .colab-df-convert {\n",
              "      background-color: #E8F0FE;\n",
              "      border: none;\n",
              "      border-radius: 50%;\n",
              "      cursor: pointer;\n",
              "      display: none;\n",
              "      fill: #1967D2;\n",
              "      height: 32px;\n",
              "      padding: 0 0 0 0;\n",
              "      width: 32px;\n",
              "    }\n",
              "\n",
              "    .colab-df-convert:hover {\n",
              "      background-color: #E2EBFA;\n",
              "      box-shadow: 0px 1px 2px rgba(60, 64, 67, 0.3), 0px 1px 3px 1px rgba(60, 64, 67, 0.15);\n",
              "      fill: #174EA6;\n",
              "    }\n",
              "\n",
              "    [theme=dark] .colab-df-convert {\n",
              "      background-color: #3B4455;\n",
              "      fill: #D2E3FC;\n",
              "    }\n",
              "\n",
              "    [theme=dark] .colab-df-convert:hover {\n",
              "      background-color: #434B5C;\n",
              "      box-shadow: 0px 1px 3px 1px rgba(0, 0, 0, 0.15);\n",
              "      filter: drop-shadow(0px 1px 2px rgba(0, 0, 0, 0.3));\n",
              "      fill: #FFFFFF;\n",
              "    }\n",
              "  </style>\n",
              "\n",
              "      <script>\n",
              "        const buttonEl =\n",
              "          document.querySelector('#df-34118fa1-7d10-4e0d-be03-e2d70ec6c059 button.colab-df-convert');\n",
              "        buttonEl.style.display =\n",
              "          google.colab.kernel.accessAllowed ? 'block' : 'none';\n",
              "\n",
              "        async function convertToInteractive(key) {\n",
              "          const element = document.querySelector('#df-34118fa1-7d10-4e0d-be03-e2d70ec6c059');\n",
              "          const dataTable =\n",
              "            await google.colab.kernel.invokeFunction('convertToInteractive',\n",
              "                                                     [key], {});\n",
              "          if (!dataTable) return;\n",
              "\n",
              "          const docLinkHtml = 'Like what you see? Visit the ' +\n",
              "            '<a target=\"_blank\" href=https://colab.research.google.com/notebooks/data_table.ipynb>data table notebook</a>'\n",
              "            + ' to learn more about interactive tables.';\n",
              "          element.innerHTML = '';\n",
              "          dataTable['output_type'] = 'display_data';\n",
              "          await google.colab.output.renderOutput(dataTable, element);\n",
              "          const docLink = document.createElement('div');\n",
              "          docLink.innerHTML = docLinkHtml;\n",
              "          element.appendChild(docLink);\n",
              "        }\n",
              "      </script>\n",
              "    </div>\n",
              "  </div>\n",
              "  "
            ]
          },
          "metadata": {},
          "execution_count": 31
        }
      ]
    },
    {
      "cell_type": "code",
      "source": [
        "results.to_excel('/content/drive/My Drive/результаты.xlsx') # вывод результатов в excel файл"
      ],
      "metadata": {
        "id": "k9_zCMa_iM0d"
      },
      "execution_count": null,
      "outputs": []
    },
    {
      "cell_type": "code",
      "source": [
        "# задание на закрепление материала\n",
        "df = pd.read_excel('/content/drive/My Drive/данные.xlsx') # считываем файл excel\n",
        "df['Возрастная группа'] = df['Возрастная группа'].str.replace('страше', 'старше')\n",
        "df['Возрастная группа'] = df['Возрастная группа'].str.replace('До 25', '1-25')\n",
        "results = pd.DataFrame(np.round(df.groupby(['Возрастная группа']).mean()['Общая оценка'], 2)) # считаем среднюю оценку по возрастной группе\n",
        "results['Count'] = df.groupby(['Возрастная группа']).count()['Общая оценка'] # считаем количество респондентов для каждой возрастной группы \n",
        "results"
      ],
      "metadata": {
        "colab": {
          "base_uri": "https://localhost:8080/",
          "height": 269
        },
        "id": "cvvR_z0Vvx2M",
        "outputId": "9905aaa3-d1ce-4d66-bb13-afcdf2476fef"
      },
      "execution_count": null,
      "outputs": [
        {
          "output_type": "execute_result",
          "data": {
            "text/plain": [
              "                   Общая оценка  Count\n",
              "Возрастная группа                     \n",
              "1-25                      28.75     13\n",
              "25-34                     31.68     10\n",
              "35-44                     37.02     12\n",
              "45-54                     39.12     10\n",
              "55-64                     28.45      6\n",
              "65 и старше               28.00     17"
            ],
            "text/html": [
              "\n",
              "  <div id=\"df-df7d73ea-9ec1-4630-a12a-7e9a70d38e84\">\n",
              "    <div class=\"colab-df-container\">\n",
              "      <div>\n",
              "<style scoped>\n",
              "    .dataframe tbody tr th:only-of-type {\n",
              "        vertical-align: middle;\n",
              "    }\n",
              "\n",
              "    .dataframe tbody tr th {\n",
              "        vertical-align: top;\n",
              "    }\n",
              "\n",
              "    .dataframe thead th {\n",
              "        text-align: right;\n",
              "    }\n",
              "</style>\n",
              "<table border=\"1\" class=\"dataframe\">\n",
              "  <thead>\n",
              "    <tr style=\"text-align: right;\">\n",
              "      <th></th>\n",
              "      <th>Общая оценка</th>\n",
              "      <th>Count</th>\n",
              "    </tr>\n",
              "    <tr>\n",
              "      <th>Возрастная группа</th>\n",
              "      <th></th>\n",
              "      <th></th>\n",
              "    </tr>\n",
              "  </thead>\n",
              "  <tbody>\n",
              "    <tr>\n",
              "      <th>1-25</th>\n",
              "      <td>28.75</td>\n",
              "      <td>13</td>\n",
              "    </tr>\n",
              "    <tr>\n",
              "      <th>25-34</th>\n",
              "      <td>31.68</td>\n",
              "      <td>10</td>\n",
              "    </tr>\n",
              "    <tr>\n",
              "      <th>35-44</th>\n",
              "      <td>37.02</td>\n",
              "      <td>12</td>\n",
              "    </tr>\n",
              "    <tr>\n",
              "      <th>45-54</th>\n",
              "      <td>39.12</td>\n",
              "      <td>10</td>\n",
              "    </tr>\n",
              "    <tr>\n",
              "      <th>55-64</th>\n",
              "      <td>28.45</td>\n",
              "      <td>6</td>\n",
              "    </tr>\n",
              "    <tr>\n",
              "      <th>65 и старше</th>\n",
              "      <td>28.00</td>\n",
              "      <td>17</td>\n",
              "    </tr>\n",
              "  </tbody>\n",
              "</table>\n",
              "</div>\n",
              "      <button class=\"colab-df-convert\" onclick=\"convertToInteractive('df-df7d73ea-9ec1-4630-a12a-7e9a70d38e84')\"\n",
              "              title=\"Convert this dataframe to an interactive table.\"\n",
              "              style=\"display:none;\">\n",
              "        \n",
              "  <svg xmlns=\"http://www.w3.org/2000/svg\" height=\"24px\"viewBox=\"0 0 24 24\"\n",
              "       width=\"24px\">\n",
              "    <path d=\"M0 0h24v24H0V0z\" fill=\"none\"/>\n",
              "    <path d=\"M18.56 5.44l.94 2.06.94-2.06 2.06-.94-2.06-.94-.94-2.06-.94 2.06-2.06.94zm-11 1L8.5 8.5l.94-2.06 2.06-.94-2.06-.94L8.5 2.5l-.94 2.06-2.06.94zm10 10l.94 2.06.94-2.06 2.06-.94-2.06-.94-.94-2.06-.94 2.06-2.06.94z\"/><path d=\"M17.41 7.96l-1.37-1.37c-.4-.4-.92-.59-1.43-.59-.52 0-1.04.2-1.43.59L10.3 9.45l-7.72 7.72c-.78.78-.78 2.05 0 2.83L4 21.41c.39.39.9.59 1.41.59.51 0 1.02-.2 1.41-.59l7.78-7.78 2.81-2.81c.8-.78.8-2.07 0-2.86zM5.41 20L4 18.59l7.72-7.72 1.47 1.35L5.41 20z\"/>\n",
              "  </svg>\n",
              "      </button>\n",
              "      \n",
              "  <style>\n",
              "    .colab-df-container {\n",
              "      display:flex;\n",
              "      flex-wrap:wrap;\n",
              "      gap: 12px;\n",
              "    }\n",
              "\n",
              "    .colab-df-convert {\n",
              "      background-color: #E8F0FE;\n",
              "      border: none;\n",
              "      border-radius: 50%;\n",
              "      cursor: pointer;\n",
              "      display: none;\n",
              "      fill: #1967D2;\n",
              "      height: 32px;\n",
              "      padding: 0 0 0 0;\n",
              "      width: 32px;\n",
              "    }\n",
              "\n",
              "    .colab-df-convert:hover {\n",
              "      background-color: #E2EBFA;\n",
              "      box-shadow: 0px 1px 2px rgba(60, 64, 67, 0.3), 0px 1px 3px 1px rgba(60, 64, 67, 0.15);\n",
              "      fill: #174EA6;\n",
              "    }\n",
              "\n",
              "    [theme=dark] .colab-df-convert {\n",
              "      background-color: #3B4455;\n",
              "      fill: #D2E3FC;\n",
              "    }\n",
              "\n",
              "    [theme=dark] .colab-df-convert:hover {\n",
              "      background-color: #434B5C;\n",
              "      box-shadow: 0px 1px 3px 1px rgba(0, 0, 0, 0.15);\n",
              "      filter: drop-shadow(0px 1px 2px rgba(0, 0, 0, 0.3));\n",
              "      fill: #FFFFFF;\n",
              "    }\n",
              "  </style>\n",
              "\n",
              "      <script>\n",
              "        const buttonEl =\n",
              "          document.querySelector('#df-df7d73ea-9ec1-4630-a12a-7e9a70d38e84 button.colab-df-convert');\n",
              "        buttonEl.style.display =\n",
              "          google.colab.kernel.accessAllowed ? 'block' : 'none';\n",
              "\n",
              "        async function convertToInteractive(key) {\n",
              "          const element = document.querySelector('#df-df7d73ea-9ec1-4630-a12a-7e9a70d38e84');\n",
              "          const dataTable =\n",
              "            await google.colab.kernel.invokeFunction('convertToInteractive',\n",
              "                                                     [key], {});\n",
              "          if (!dataTable) return;\n",
              "\n",
              "          const docLinkHtml = 'Like what you see? Visit the ' +\n",
              "            '<a target=\"_blank\" href=https://colab.research.google.com/notebooks/data_table.ipynb>data table notebook</a>'\n",
              "            + ' to learn more about interactive tables.';\n",
              "          element.innerHTML = '';\n",
              "          dataTable['output_type'] = 'display_data';\n",
              "          await google.colab.output.renderOutput(dataTable, element);\n",
              "          const docLink = document.createElement('div');\n",
              "          docLink.innerHTML = docLinkHtml;\n",
              "          element.appendChild(docLink);\n",
              "        }\n",
              "      </script>\n",
              "    </div>\n",
              "  </div>\n",
              "  "
            ]
          },
          "metadata": {},
          "execution_count": 58
        }
      ]
    },
    {
      "cell_type": "code",
      "source": [
        "results = results.sort_index() # сортируем по индексу\n",
        "results.index = ['До 25', '25-34', '35-44', '45-54', '55-64', '65 и старше'] # заменяем первое значение в индексах для красоты\n",
        "results"
      ],
      "metadata": {
        "colab": {
          "base_uri": "https://localhost:8080/",
          "height": 238
        },
        "id": "9Y0KduG5-45x",
        "outputId": "229138cb-3a8f-4010-bec2-fc39d1a4ee23"
      },
      "execution_count": null,
      "outputs": [
        {
          "output_type": "execute_result",
          "data": {
            "text/plain": [
              "             Общая оценка  Count\n",
              "До 25               28.75     13\n",
              "25-34               31.68     10\n",
              "35-44               37.02     12\n",
              "45-54               39.12     10\n",
              "55-64               28.45      6\n",
              "65 и старше         28.00     17"
            ],
            "text/html": [
              "\n",
              "  <div id=\"df-b6b3524c-1ba0-42b1-9b9f-1b1c1044db57\">\n",
              "    <div class=\"colab-df-container\">\n",
              "      <div>\n",
              "<style scoped>\n",
              "    .dataframe tbody tr th:only-of-type {\n",
              "        vertical-align: middle;\n",
              "    }\n",
              "\n",
              "    .dataframe tbody tr th {\n",
              "        vertical-align: top;\n",
              "    }\n",
              "\n",
              "    .dataframe thead th {\n",
              "        text-align: right;\n",
              "    }\n",
              "</style>\n",
              "<table border=\"1\" class=\"dataframe\">\n",
              "  <thead>\n",
              "    <tr style=\"text-align: right;\">\n",
              "      <th></th>\n",
              "      <th>Общая оценка</th>\n",
              "      <th>Count</th>\n",
              "    </tr>\n",
              "  </thead>\n",
              "  <tbody>\n",
              "    <tr>\n",
              "      <th>До 25</th>\n",
              "      <td>28.75</td>\n",
              "      <td>13</td>\n",
              "    </tr>\n",
              "    <tr>\n",
              "      <th>25-34</th>\n",
              "      <td>31.68</td>\n",
              "      <td>10</td>\n",
              "    </tr>\n",
              "    <tr>\n",
              "      <th>35-44</th>\n",
              "      <td>37.02</td>\n",
              "      <td>12</td>\n",
              "    </tr>\n",
              "    <tr>\n",
              "      <th>45-54</th>\n",
              "      <td>39.12</td>\n",
              "      <td>10</td>\n",
              "    </tr>\n",
              "    <tr>\n",
              "      <th>55-64</th>\n",
              "      <td>28.45</td>\n",
              "      <td>6</td>\n",
              "    </tr>\n",
              "    <tr>\n",
              "      <th>65 и старше</th>\n",
              "      <td>28.00</td>\n",
              "      <td>17</td>\n",
              "    </tr>\n",
              "  </tbody>\n",
              "</table>\n",
              "</div>\n",
              "      <button class=\"colab-df-convert\" onclick=\"convertToInteractive('df-b6b3524c-1ba0-42b1-9b9f-1b1c1044db57')\"\n",
              "              title=\"Convert this dataframe to an interactive table.\"\n",
              "              style=\"display:none;\">\n",
              "        \n",
              "  <svg xmlns=\"http://www.w3.org/2000/svg\" height=\"24px\"viewBox=\"0 0 24 24\"\n",
              "       width=\"24px\">\n",
              "    <path d=\"M0 0h24v24H0V0z\" fill=\"none\"/>\n",
              "    <path d=\"M18.56 5.44l.94 2.06.94-2.06 2.06-.94-2.06-.94-.94-2.06-.94 2.06-2.06.94zm-11 1L8.5 8.5l.94-2.06 2.06-.94-2.06-.94L8.5 2.5l-.94 2.06-2.06.94zm10 10l.94 2.06.94-2.06 2.06-.94-2.06-.94-.94-2.06-.94 2.06-2.06.94z\"/><path d=\"M17.41 7.96l-1.37-1.37c-.4-.4-.92-.59-1.43-.59-.52 0-1.04.2-1.43.59L10.3 9.45l-7.72 7.72c-.78.78-.78 2.05 0 2.83L4 21.41c.39.39.9.59 1.41.59.51 0 1.02-.2 1.41-.59l7.78-7.78 2.81-2.81c.8-.78.8-2.07 0-2.86zM5.41 20L4 18.59l7.72-7.72 1.47 1.35L5.41 20z\"/>\n",
              "  </svg>\n",
              "      </button>\n",
              "      \n",
              "  <style>\n",
              "    .colab-df-container {\n",
              "      display:flex;\n",
              "      flex-wrap:wrap;\n",
              "      gap: 12px;\n",
              "    }\n",
              "\n",
              "    .colab-df-convert {\n",
              "      background-color: #E8F0FE;\n",
              "      border: none;\n",
              "      border-radius: 50%;\n",
              "      cursor: pointer;\n",
              "      display: none;\n",
              "      fill: #1967D2;\n",
              "      height: 32px;\n",
              "      padding: 0 0 0 0;\n",
              "      width: 32px;\n",
              "    }\n",
              "\n",
              "    .colab-df-convert:hover {\n",
              "      background-color: #E2EBFA;\n",
              "      box-shadow: 0px 1px 2px rgba(60, 64, 67, 0.3), 0px 1px 3px 1px rgba(60, 64, 67, 0.15);\n",
              "      fill: #174EA6;\n",
              "    }\n",
              "\n",
              "    [theme=dark] .colab-df-convert {\n",
              "      background-color: #3B4455;\n",
              "      fill: #D2E3FC;\n",
              "    }\n",
              "\n",
              "    [theme=dark] .colab-df-convert:hover {\n",
              "      background-color: #434B5C;\n",
              "      box-shadow: 0px 1px 3px 1px rgba(0, 0, 0, 0.15);\n",
              "      filter: drop-shadow(0px 1px 2px rgba(0, 0, 0, 0.3));\n",
              "      fill: #FFFFFF;\n",
              "    }\n",
              "  </style>\n",
              "\n",
              "      <script>\n",
              "        const buttonEl =\n",
              "          document.querySelector('#df-b6b3524c-1ba0-42b1-9b9f-1b1c1044db57 button.colab-df-convert');\n",
              "        buttonEl.style.display =\n",
              "          google.colab.kernel.accessAllowed ? 'block' : 'none';\n",
              "\n",
              "        async function convertToInteractive(key) {\n",
              "          const element = document.querySelector('#df-b6b3524c-1ba0-42b1-9b9f-1b1c1044db57');\n",
              "          const dataTable =\n",
              "            await google.colab.kernel.invokeFunction('convertToInteractive',\n",
              "                                                     [key], {});\n",
              "          if (!dataTable) return;\n",
              "\n",
              "          const docLinkHtml = 'Like what you see? Visit the ' +\n",
              "            '<a target=\"_blank\" href=https://colab.research.google.com/notebooks/data_table.ipynb>data table notebook</a>'\n",
              "            + ' to learn more about interactive tables.';\n",
              "          element.innerHTML = '';\n",
              "          dataTable['output_type'] = 'display_data';\n",
              "          await google.colab.output.renderOutput(dataTable, element);\n",
              "          const docLink = document.createElement('div');\n",
              "          docLink.innerHTML = docLinkHtml;\n",
              "          element.appendChild(docLink);\n",
              "        }\n",
              "      </script>\n",
              "    </div>\n",
              "  </div>\n",
              "  "
            ]
          },
          "metadata": {},
          "execution_count": 61
        }
      ]
    },
    {
      "cell_type": "code",
      "source": [
        "import matplotlib.pyplot as plt\n",
        "x = results['Общая оценка']\n",
        "labels = results.index\n",
        "plt.bar(labels, x) \n",
        "plt.show()"
      ],
      "metadata": {
        "colab": {
          "base_uri": "https://localhost:8080/",
          "height": 265
        },
        "id": "-PlkulcwA1kh",
        "outputId": "5358085a-684a-40b8-9a24-ec78dfd1efeb"
      },
      "execution_count": null,
      "outputs": [
        {
          "output_type": "display_data",
          "data": {
            "text/plain": [
              "<Figure size 432x288 with 1 Axes>"
            ],
            "image/png": "[encoded data removed]"
          },
          "metadata": {
            "needs_background": "light"
          }
        }
      ]
    },
    {
      "cell_type": "code",
      "source": [
        "results.sort_values('Count', ascending = False)"
      ],
      "metadata": {
        "colab": {
          "base_uri": "https://localhost:8080/",
          "height": 238
        },
        "id": "qVe1LFq8CWb0",
        "outputId": "c3d99ec6-4828-46a8-c59c-5095811eb4f3"
      },
      "execution_count": null,
      "outputs": [
        {
          "output_type": "execute_result",
          "data": {
            "text/plain": [
              "             Общая оценка  Count\n",
              "65 и старше         28.00     17\n",
              "До 25               28.75     13\n",
              "35-44               37.02     12\n",
              "25-34               31.68     10\n",
              "45-54               39.12     10\n",
              "55-64               28.45      6"
            ],
            "text/html": [
              "\n",
              "  <div id=\"df-934443c9-75bd-427a-933a-16c1707a354a\">\n",
              "    <div class=\"colab-df-container\">\n",
              "      <div>\n",
              "<style scoped>\n",
              "    .dataframe tbody tr th:only-of-type {\n",
              "        vertical-align: middle;\n",
              "    }\n",
              "\n",
              "    .dataframe tbody tr th {\n",
              "        vertical-align: top;\n",
              "    }\n",
              "\n",
              "    .dataframe thead th {\n",
              "        text-align: right;\n",
              "    }\n",
              "</style>\n",
              "<table border=\"1\" class=\"dataframe\">\n",
              "  <thead>\n",
              "    <tr style=\"text-align: right;\">\n",
              "      <th></th>\n",
              "      <th>Общая оценка</th>\n",
              "      <th>Count</th>\n",
              "    </tr>\n",
              "  </thead>\n",
              "  <tbody>\n",
              "    <tr>\n",
              "      <th>65 и старше</th>\n",
              "      <td>28.00</td>\n",
              "      <td>17</td>\n",
              "    </tr>\n",
              "    <tr>\n",
              "      <th>До 25</th>\n",
              "      <td>28.75</td>\n",
              "      <td>13</td>\n",
              "    </tr>\n",
              "    <tr>\n",
              "      <th>35-44</th>\n",
              "      <td>37.02</td>\n",
              "      <td>12</td>\n",
              "    </tr>\n",
              "    <tr>\n",
              "      <th>25-34</th>\n",
              "      <td>31.68</td>\n",
              "      <td>10</td>\n",
              "    </tr>\n",
              "    <tr>\n",
              "      <th>45-54</th>\n",
              "      <td>39.12</td>\n",
              "      <td>10</td>\n",
              "    </tr>\n",
              "    <tr>\n",
              "      <th>55-64</th>\n",
              "      <td>28.45</td>\n",
              "      <td>6</td>\n",
              "    </tr>\n",
              "  </tbody>\n",
              "</table>\n",
              "</div>\n",
              "      <button class=\"colab-df-convert\" onclick=\"convertToInteractive('df-934443c9-75bd-427a-933a-16c1707a354a')\"\n",
              "              title=\"Convert this dataframe to an interactive table.\"\n",
              "              style=\"display:none;\">\n",
              "        \n",
              "  <svg xmlns=\"http://www.w3.org/2000/svg\" height=\"24px\"viewBox=\"0 0 24 24\"\n",
              "       width=\"24px\">\n",
              "    <path d=\"M0 0h24v24H0V0z\" fill=\"none\"/>\n",
              "    <path d=\"M18.56 5.44l.94 2.06.94-2.06 2.06-.94-2.06-.94-.94-2.06-.94 2.06-2.06.94zm-11 1L8.5 8.5l.94-2.06 2.06-.94-2.06-.94L8.5 2.5l-.94 2.06-2.06.94zm10 10l.94 2.06.94-2.06 2.06-.94-2.06-.94-.94-2.06-.94 2.06-2.06.94z\"/><path d=\"M17.41 7.96l-1.37-1.37c-.4-.4-.92-.59-1.43-.59-.52 0-1.04.2-1.43.59L10.3 9.45l-7.72 7.72c-.78.78-.78 2.05 0 2.83L4 21.41c.39.39.9.59 1.41.59.51 0 1.02-.2 1.41-.59l7.78-7.78 2.81-2.81c.8-.78.8-2.07 0-2.86zM5.41 20L4 18.59l7.72-7.72 1.47 1.35L5.41 20z\"/>\n",
              "  </svg>\n",
              "      </button>\n",
              "      \n",
              "  <style>\n",
              "    .colab-df-container {\n",
              "      display:flex;\n",
              "      flex-wrap:wrap;\n",
              "      gap: 12px;\n",
              "    }\n",
              "\n",
              "    .colab-df-convert {\n",
              "      background-color: #E8F0FE;\n",
              "      border: none;\n",
              "      border-radius: 50%;\n",
              "      cursor: pointer;\n",
              "      display: none;\n",
              "      fill: #1967D2;\n",
              "      height: 32px;\n",
              "      padding: 0 0 0 0;\n",
              "      width: 32px;\n",
              "    }\n",
              "\n",
              "    .colab-df-convert:hover {\n",
              "      background-color: #E2EBFA;\n",
              "      box-shadow: 0px 1px 2px rgba(60, 64, 67, 0.3), 0px 1px 3px 1px rgba(60, 64, 67, 0.15);\n",
              "      fill: #174EA6;\n",
              "    }\n",
              "\n",
              "    [theme=dark] .colab-df-convert {\n",
              "      background-color: #3B4455;\n",
              "      fill: #D2E3FC;\n",
              "    }\n",
              "\n",
              "    [theme=dark] .colab-df-convert:hover {\n",
              "      background-color: #434B5C;\n",
              "      box-shadow: 0px 1px 3px 1px rgba(0, 0, 0, 0.15);\n",
              "      filter: drop-shadow(0px 1px 2px rgba(0, 0, 0, 0.3));\n",
              "      fill: #FFFFFF;\n",
              "    }\n",
              "  </style>\n",
              "\n",
              "      <script>\n",
              "        const buttonEl =\n",
              "          document.querySelector('#df-934443c9-75bd-427a-933a-16c1707a354a button.colab-df-convert');\n",
              "        buttonEl.style.display =\n",
              "          google.colab.kernel.accessAllowed ? 'block' : 'none';\n",
              "\n",
              "        async function convertToInteractive(key) {\n",
              "          const element = document.querySelector('#df-934443c9-75bd-427a-933a-16c1707a354a');\n",
              "          const dataTable =\n",
              "            await google.colab.kernel.invokeFunction('convertToInteractive',\n",
              "                                                     [key], {});\n",
              "          if (!dataTable) return;\n",
              "\n",
              "          const docLinkHtml = 'Like what you see? Visit the ' +\n",
              "            '<a target=\"_blank\" href=https://colab.research.google.com/notebooks/data_table.ipynb>data table notebook</a>'\n",
              "            + ' to learn more about interactive tables.';\n",
              "          element.innerHTML = '';\n",
              "          dataTable['output_type'] = 'display_data';\n",
              "          await google.colab.output.renderOutput(dataTable, element);\n",
              "          const docLink = document.createElement('div');\n",
              "          docLink.innerHTML = docLinkHtml;\n",
              "          element.appendChild(docLink);\n",
              "        }\n",
              "      </script>\n",
              "    </div>\n",
              "  </div>\n",
              "  "
            ]
          },
          "metadata": {},
          "execution_count": 72
        }
      ]
    },
    {
      "cell_type": "markdown",
      "source": [
        "# ***Кейс 9 - Работа с файлами***"
      ],
      "metadata": {
        "id": "zJ8ateE6zFNk"
      }
    },
    {
      "cell_type": "code",
      "source": [
        "# Урок 9\n",
        "import pandas as pd\n",
        "import numpy as np\n",
        "import matplotlib.pyplot as plt\n",
        "from google.colab import drive # импортируем функцию для подключения гугл-диска к нашей рабочей области\n",
        "drive.mount('/content/drive') # связываем гугл-диск с рабочей областью\n",
        "df = pd.read_excel('/content/drive/My Drive/Исходящие вызовы абонента.xlsx') # считываем файл\n",
        "df"
      ],
      "metadata": {
        "colab": {
          "base_uri": "https://localhost:8080/",
          "height": 442
        },
        "id": "_x7EGGJQxqXG",
        "outputId": "be847287-0213-41de-a530-7017e65328a4"
      },
      "execution_count": null,
      "outputs": [
        {
          "output_type": "stream",
          "name": "stdout",
          "text": [
            "Drive already mounted at /content/drive; to attempt to forcibly remount, call drive.mount(\"/content/drive\", force_remount=True).\n"
          ]
        },
        {
          "output_type": "execute_result",
          "data": {
            "text/plain": [
              "              Дата звонка Длительность разговора  \\\n",
              "0     15.12.2010 10:50:54               00:01:49   \n",
              "1     15.12.2010 11:50:42               00:00:57   \n",
              "2     30.11.2010 16:39:34               00:00:55   \n",
              "3     30.11.2010 16:39:34               00:00:55   \n",
              "4     01.12.2010 09:49:09               00:06:47   \n",
              "...                   ...                    ...   \n",
              "1225  16.12.2010 15:20:12               00:00:26   \n",
              "1226  16.12.2010 16:30:41               00:01:35   \n",
              "1227  14.12.2010 18:11:18               00:00:08   \n",
              "1228  14.12.2010 18:11:56               00:00:45   \n",
              "1229  27.09.2010 14:13:48               00:00:06   \n",
              "\n",
              "     Оператор связи вызываемого абонента  \n",
              "0                                 билайн  \n",
              "1                                 билайн  \n",
              "2                                 билайн  \n",
              "3                                 билайн  \n",
              "4                                 билайн  \n",
              "...                                  ...  \n",
              "1225                           яртелеком  \n",
              "1226                           яртелеком  \n",
              "1227                           яртелеком  \n",
              "1228                           яртелеком  \n",
              "1229                           яртелеком  \n",
              "\n",
              "[1230 rows x 3 columns]"
            ],
            "text/html": [
              "\n",
              "  <div id=\"df-9d7f742f-d3b1-4610-8247-fb4fb25b842e\">\n",
              "    <div class=\"colab-df-container\">\n",
              "      <div>\n",
              "<style scoped>\n",
              "    .dataframe tbody tr th:only-of-type {\n",
              "        vertical-align: middle;\n",
              "    }\n",
              "\n",
              "    .dataframe tbody tr th {\n",
              "        vertical-align: top;\n",
              "    }\n",
              "\n",
              "    .dataframe thead th {\n",
              "        text-align: right;\n",
              "    }\n",
              "</style>\n",
              "<table border=\"1\" class=\"dataframe\">\n",
              "  <thead>\n",
              "    <tr style=\"text-align: right;\">\n",
              "      <th></th>\n",
              "      <th>Дата звонка</th>\n",
              "      <th>Длительность разговора</th>\n",
              "      <th>Оператор связи вызываемого абонента</th>\n",
              "    </tr>\n",
              "  </thead>\n",
              "  <tbody>\n",
              "    <tr>\n",
              "      <th>0</th>\n",
              "      <td>15.12.2010 10:50:54</td>\n",
              "      <td>00:01:49</td>\n",
              "      <td>билайн</td>\n",
              "    </tr>\n",
              "    <tr>\n",
              "      <th>1</th>\n",
              "      <td>15.12.2010 11:50:42</td>\n",
              "      <td>00:00:57</td>\n",
              "      <td>билайн</td>\n",
              "    </tr>\n",
              "    <tr>\n",
              "      <th>2</th>\n",
              "      <td>30.11.2010 16:39:34</td>\n",
              "      <td>00:00:55</td>\n",
              "      <td>билайн</td>\n",
              "    </tr>\n",
              "    <tr>\n",
              "      <th>3</th>\n",
              "      <td>30.11.2010 16:39:34</td>\n",
              "      <td>00:00:55</td>\n",
              "      <td>билайн</td>\n",
              "    </tr>\n",
              "    <tr>\n",
              "      <th>4</th>\n",
              "      <td>01.12.2010 09:49:09</td>\n",
              "      <td>00:06:47</td>\n",
              "      <td>билайн</td>\n",
              "    </tr>\n",
              "    <tr>\n",
              "      <th>...</th>\n",
              "      <td>...</td>\n",
              "      <td>...</td>\n",
              "      <td>...</td>\n",
              "    </tr>\n",
              "    <tr>\n",
              "      <th>1225</th>\n",
              "      <td>16.12.2010 15:20:12</td>\n",
              "      <td>00:00:26</td>\n",
              "      <td>яртелеком</td>\n",
              "    </tr>\n",
              "    <tr>\n",
              "      <th>1226</th>\n",
              "      <td>16.12.2010 16:30:41</td>\n",
              "      <td>00:01:35</td>\n",
              "      <td>яртелеком</td>\n",
              "    </tr>\n",
              "    <tr>\n",
              "      <th>1227</th>\n",
              "      <td>14.12.2010 18:11:18</td>\n",
              "      <td>00:00:08</td>\n",
              "      <td>яртелеком</td>\n",
              "    </tr>\n",
              "    <tr>\n",
              "      <th>1228</th>\n",
              "      <td>14.12.2010 18:11:56</td>\n",
              "      <td>00:00:45</td>\n",
              "      <td>яртелеком</td>\n",
              "    </tr>\n",
              "    <tr>\n",
              "      <th>1229</th>\n",
              "      <td>27.09.2010 14:13:48</td>\n",
              "      <td>00:00:06</td>\n",
              "      <td>яртелеком</td>\n",
              "    </tr>\n",
              "  </tbody>\n",
              "</table>\n",
              "<p>1230 rows × 3 columns</p>\n",
              "</div>\n",
              "      <button class=\"colab-df-convert\" onclick=\"convertToInteractive('df-9d7f742f-d3b1-4610-8247-fb4fb25b842e')\"\n",
              "              title=\"Convert this dataframe to an interactive table.\"\n",
              "              style=\"display:none;\">\n",
              "        \n",
              "  <svg xmlns=\"http://www.w3.org/2000/svg\" height=\"24px\"viewBox=\"0 0 24 24\"\n",
              "       width=\"24px\">\n",
              "    <path d=\"M0 0h24v24H0V0z\" fill=\"none\"/>\n",
              "    <path d=\"M18.56 5.44l.94 2.06.94-2.06 2.06-.94-2.06-.94-.94-2.06-.94 2.06-2.06.94zm-11 1L8.5 8.5l.94-2.06 2.06-.94-2.06-.94L8.5 2.5l-.94 2.06-2.06.94zm10 10l.94 2.06.94-2.06 2.06-.94-2.06-.94-.94-2.06-.94 2.06-2.06.94z\"/><path d=\"M17.41 7.96l-1.37-1.37c-.4-.4-.92-.59-1.43-.59-.52 0-1.04.2-1.43.59L10.3 9.45l-7.72 7.72c-.78.78-.78 2.05 0 2.83L4 21.41c.39.39.9.59 1.41.59.51 0 1.02-.2 1.41-.59l7.78-7.78 2.81-2.81c.8-.78.8-2.07 0-2.86zM5.41 20L4 18.59l7.72-7.72 1.47 1.35L5.41 20z\"/>\n",
              "  </svg>\n",
              "      </button>\n",
              "      \n",
              "  <style>\n",
              "    .colab-df-container {\n",
              "      display:flex;\n",
              "      flex-wrap:wrap;\n",
              "      gap: 12px;\n",
              "    }\n",
              "\n",
              "    .colab-df-convert {\n",
              "      background-color: #E8F0FE;\n",
              "      border: none;\n",
              "      border-radius: 50%;\n",
              "      cursor: pointer;\n",
              "      display: none;\n",
              "      fill: #1967D2;\n",
              "      height: 32px;\n",
              "      padding: 0 0 0 0;\n",
              "      width: 32px;\n",
              "    }\n",
              "\n",
              "    .colab-df-convert:hover {\n",
              "      background-color: #E2EBFA;\n",
              "      box-shadow: 0px 1px 2px rgba(60, 64, 67, 0.3), 0px 1px 3px 1px rgba(60, 64, 67, 0.15);\n",
              "      fill: #174EA6;\n",
              "    }\n",
              "\n",
              "    [theme=dark] .colab-df-convert {\n",
              "      background-color: #3B4455;\n",
              "      fill: #D2E3FC;\n",
              "    }\n",
              "\n",
              "    [theme=dark] .colab-df-convert:hover {\n",
              "      background-color: #434B5C;\n",
              "      box-shadow: 0px 1px 3px 1px rgba(0, 0, 0, 0.15);\n",
              "      filter: drop-shadow(0px 1px 2px rgba(0, 0, 0, 0.3));\n",
              "      fill: #FFFFFF;\n",
              "    }\n",
              "  </style>\n",
              "\n",
              "      <script>\n",
              "        const buttonEl =\n",
              "          document.querySelector('#df-9d7f742f-d3b1-4610-8247-fb4fb25b842e button.colab-df-convert');\n",
              "        buttonEl.style.display =\n",
              "          google.colab.kernel.accessAllowed ? 'block' : 'none';\n",
              "\n",
              "        async function convertToInteractive(key) {\n",
              "          const element = document.querySelector('#df-9d7f742f-d3b1-4610-8247-fb4fb25b842e');\n",
              "          const dataTable =\n",
              "            await google.colab.kernel.invokeFunction('convertToInteractive',\n",
              "                                                     [key], {});\n",
              "          if (!dataTable) return;\n",
              "\n",
              "          const docLinkHtml = 'Like what you see? Visit the ' +\n",
              "            '<a target=\"_blank\" href=https://colab.research.google.com/notebooks/data_table.ipynb>data table notebook</a>'\n",
              "            + ' to learn more about interactive tables.';\n",
              "          element.innerHTML = '';\n",
              "          dataTable['output_type'] = 'display_data';\n",
              "          await google.colab.output.renderOutput(dataTable, element);\n",
              "          const docLink = document.createElement('div');\n",
              "          docLink.innerHTML = docLinkHtml;\n",
              "          element.appendChild(docLink);\n",
              "        }\n",
              "      </script>\n",
              "    </div>\n",
              "  </div>\n",
              "  "
            ]
          },
          "metadata": {},
          "execution_count": 4
        }
      ]
    },
    {
      "cell_type": "code",
      "source": [
        "df.duplicated().sum() # поиск дублей в датафрейме\n",
        "df = df.drop_duplicates() # удаляем дубли из датафрейма\n",
        "df"
      ],
      "metadata": {
        "colab": {
          "base_uri": "https://localhost:8080/",
          "height": 424
        },
        "id": "0igB3SH-0Xji",
        "outputId": "349cfa98-4513-4a13-d8d7-a3b4ce1f8c85"
      },
      "execution_count": null,
      "outputs": [
        {
          "output_type": "execute_result",
          "data": {
            "text/plain": [
              "              Дата звонка Длительность разговора  \\\n",
              "0     15.12.2010 10:50:54               00:01:49   \n",
              "1     15.12.2010 11:50:42               00:00:57   \n",
              "2     30.11.2010 16:39:34               00:00:55   \n",
              "4     01.12.2010 09:49:09               00:06:47   \n",
              "5     01.12.2010 14:01:02               00:01:14   \n",
              "...                   ...                    ...   \n",
              "1225  16.12.2010 15:20:12               00:00:26   \n",
              "1226  16.12.2010 16:30:41               00:01:35   \n",
              "1227  14.12.2010 18:11:18               00:00:08   \n",
              "1228  14.12.2010 18:11:56               00:00:45   \n",
              "1229  27.09.2010 14:13:48               00:00:06   \n",
              "\n",
              "     Оператор связи вызываемого абонента  \n",
              "0                                 билайн  \n",
              "1                                 билайн  \n",
              "2                                 билайн  \n",
              "4                                 билайн  \n",
              "5                                 билайн  \n",
              "...                                  ...  \n",
              "1225                           яртелеком  \n",
              "1226                           яртелеком  \n",
              "1227                           яртелеком  \n",
              "1228                           яртелеком  \n",
              "1229                           яртелеком  \n",
              "\n",
              "[1161 rows x 3 columns]"
            ],
            "text/html": [
              "\n",
              "  <div id=\"df-85ed1516-de32-4b86-89c7-a4abd919a871\">\n",
              "    <div class=\"colab-df-container\">\n",
              "      <div>\n",
              "<style scoped>\n",
              "    .dataframe tbody tr th:only-of-type {\n",
              "        vertical-align: middle;\n",
              "    }\n",
              "\n",
              "    .dataframe tbody tr th {\n",
              "        vertical-align: top;\n",
              "    }\n",
              "\n",
              "    .dataframe thead th {\n",
              "        text-align: right;\n",
              "    }\n",
              "</style>\n",
              "<table border=\"1\" class=\"dataframe\">\n",
              "  <thead>\n",
              "    <tr style=\"text-align: right;\">\n",
              "      <th></th>\n",
              "      <th>Дата звонка</th>\n",
              "      <th>Длительность разговора</th>\n",
              "      <th>Оператор связи вызываемого абонента</th>\n",
              "    </tr>\n",
              "  </thead>\n",
              "  <tbody>\n",
              "    <tr>\n",
              "      <th>0</th>\n",
              "      <td>15.12.2010 10:50:54</td>\n",
              "      <td>00:01:49</td>\n",
              "      <td>билайн</td>\n",
              "    </tr>\n",
              "    <tr>\n",
              "      <th>1</th>\n",
              "      <td>15.12.2010 11:50:42</td>\n",
              "      <td>00:00:57</td>\n",
              "      <td>билайн</td>\n",
              "    </tr>\n",
              "    <tr>\n",
              "      <th>2</th>\n",
              "      <td>30.11.2010 16:39:34</td>\n",
              "      <td>00:00:55</td>\n",
              "      <td>билайн</td>\n",
              "    </tr>\n",
              "    <tr>\n",
              "      <th>4</th>\n",
              "      <td>01.12.2010 09:49:09</td>\n",
              "      <td>00:06:47</td>\n",
              "      <td>билайн</td>\n",
              "    </tr>\n",
              "    <tr>\n",
              "      <th>5</th>\n",
              "      <td>01.12.2010 14:01:02</td>\n",
              "      <td>00:01:14</td>\n",
              "      <td>билайн</td>\n",
              "    </tr>\n",
              "    <tr>\n",
              "      <th>...</th>\n",
              "      <td>...</td>\n",
              "      <td>...</td>\n",
              "      <td>...</td>\n",
              "    </tr>\n",
              "    <tr>\n",
              "      <th>1225</th>\n",
              "      <td>16.12.2010 15:20:12</td>\n",
              "      <td>00:00:26</td>\n",
              "      <td>яртелеком</td>\n",
              "    </tr>\n",
              "    <tr>\n",
              "      <th>1226</th>\n",
              "      <td>16.12.2010 16:30:41</td>\n",
              "      <td>00:01:35</td>\n",
              "      <td>яртелеком</td>\n",
              "    </tr>\n",
              "    <tr>\n",
              "      <th>1227</th>\n",
              "      <td>14.12.2010 18:11:18</td>\n",
              "      <td>00:00:08</td>\n",
              "      <td>яртелеком</td>\n",
              "    </tr>\n",
              "    <tr>\n",
              "      <th>1228</th>\n",
              "      <td>14.12.2010 18:11:56</td>\n",
              "      <td>00:00:45</td>\n",
              "      <td>яртелеком</td>\n",
              "    </tr>\n",
              "    <tr>\n",
              "      <th>1229</th>\n",
              "      <td>27.09.2010 14:13:48</td>\n",
              "      <td>00:00:06</td>\n",
              "      <td>яртелеком</td>\n",
              "    </tr>\n",
              "  </tbody>\n",
              "</table>\n",
              "<p>1161 rows × 3 columns</p>\n",
              "</div>\n",
              "      <button class=\"colab-df-convert\" onclick=\"convertToInteractive('df-85ed1516-de32-4b86-89c7-a4abd919a871')\"\n",
              "              title=\"Convert this dataframe to an interactive table.\"\n",
              "              style=\"display:none;\">\n",
              "        \n",
              "  <svg xmlns=\"http://www.w3.org/2000/svg\" height=\"24px\"viewBox=\"0 0 24 24\"\n",
              "       width=\"24px\">\n",
              "    <path d=\"M0 0h24v24H0V0z\" fill=\"none\"/>\n",
              "    <path d=\"M18.56 5.44l.94 2.06.94-2.06 2.06-.94-2.06-.94-.94-2.06-.94 2.06-2.06.94zm-11 1L8.5 8.5l.94-2.06 2.06-.94-2.06-.94L8.5 2.5l-.94 2.06-2.06.94zm10 10l.94 2.06.94-2.06 2.06-.94-2.06-.94-.94-2.06-.94 2.06-2.06.94z\"/><path d=\"M17.41 7.96l-1.37-1.37c-.4-.4-.92-.59-1.43-.59-.52 0-1.04.2-1.43.59L10.3 9.45l-7.72 7.72c-.78.78-.78 2.05 0 2.83L4 21.41c.39.39.9.59 1.41.59.51 0 1.02-.2 1.41-.59l7.78-7.78 2.81-2.81c.8-.78.8-2.07 0-2.86zM5.41 20L4 18.59l7.72-7.72 1.47 1.35L5.41 20z\"/>\n",
              "  </svg>\n",
              "      </button>\n",
              "      \n",
              "  <style>\n",
              "    .colab-df-container {\n",
              "      display:flex;\n",
              "      flex-wrap:wrap;\n",
              "      gap: 12px;\n",
              "    }\n",
              "\n",
              "    .colab-df-convert {\n",
              "      background-color: #E8F0FE;\n",
              "      border: none;\n",
              "      border-radius: 50%;\n",
              "      cursor: pointer;\n",
              "      display: none;\n",
              "      fill: #1967D2;\n",
              "      height: 32px;\n",
              "      padding: 0 0 0 0;\n",
              "      width: 32px;\n",
              "    }\n",
              "\n",
              "    .colab-df-convert:hover {\n",
              "      background-color: #E2EBFA;\n",
              "      box-shadow: 0px 1px 2px rgba(60, 64, 67, 0.3), 0px 1px 3px 1px rgba(60, 64, 67, 0.15);\n",
              "      fill: #174EA6;\n",
              "    }\n",
              "\n",
              "    [theme=dark] .colab-df-convert {\n",
              "      background-color: #3B4455;\n",
              "      fill: #D2E3FC;\n",
              "    }\n",
              "\n",
              "    [theme=dark] .colab-df-convert:hover {\n",
              "      background-color: #434B5C;\n",
              "      box-shadow: 0px 1px 3px 1px rgba(0, 0, 0, 0.15);\n",
              "      filter: drop-shadow(0px 1px 2px rgba(0, 0, 0, 0.3));\n",
              "      fill: #FFFFFF;\n",
              "    }\n",
              "  </style>\n",
              "\n",
              "      <script>\n",
              "        const buttonEl =\n",
              "          document.querySelector('#df-85ed1516-de32-4b86-89c7-a4abd919a871 button.colab-df-convert');\n",
              "        buttonEl.style.display =\n",
              "          google.colab.kernel.accessAllowed ? 'block' : 'none';\n",
              "\n",
              "        async function convertToInteractive(key) {\n",
              "          const element = document.querySelector('#df-85ed1516-de32-4b86-89c7-a4abd919a871');\n",
              "          const dataTable =\n",
              "            await google.colab.kernel.invokeFunction('convertToInteractive',\n",
              "                                                     [key], {});\n",
              "          if (!dataTable) return;\n",
              "\n",
              "          const docLinkHtml = 'Like what you see? Visit the ' +\n",
              "            '<a target=\"_blank\" href=https://colab.research.google.com/notebooks/data_table.ipynb>data table notebook</a>'\n",
              "            + ' to learn more about interactive tables.';\n",
              "          element.innerHTML = '';\n",
              "          dataTable['output_type'] = 'display_data';\n",
              "          await google.colab.output.renderOutput(dataTable, element);\n",
              "          const docLink = document.createElement('div');\n",
              "          docLink.innerHTML = docLinkHtml;\n",
              "          element.appendChild(docLink);\n",
              "        }\n",
              "      </script>\n",
              "    </div>\n",
              "  </div>\n",
              "  "
            ]
          },
          "metadata": {},
          "execution_count": 7
        }
      ]
    },
    {
      "cell_type": "code",
      "source": [
        "# слияние датафреймов\n",
        "import pandas as pd\n",
        "df1 = pd.DataFrame({'Model': ['Kia', 'Opel', 'Mercedes', 'BMW', 'Lada'],\n",
        "                    'Sales': [90, 180, 200, 130, 40]}) # создаем датафрейм\n",
        "df2 = pd.DataFrame({'Model': ['Kia', 'Mercedes', 'BMW', 'Audi', 'Ford', 'Lada'],\n",
        "                    'Price': [30, 80, 100, 150, 130, 100]}) # создаем датафрейм\n",
        "pd.concat((df1, df2), axis = 0, ignore_index = True) # соединение двух датафреймов\n",
        "df1.merge(df2, on = 'Model', how = 'outer') # сливание датафреймов (параметры: left, right, inner, outer)"
      ],
      "metadata": {
        "colab": {
          "base_uri": "https://localhost:8080/",
          "height": 269
        },
        "id": "QerbgFZE1YlO",
        "outputId": "907b28ac-520c-429e-8a0b-8028069a2d95"
      },
      "execution_count": null,
      "outputs": [
        {
          "output_type": "execute_result",
          "data": {
            "text/plain": [
              "      Model  Sales  Price\n",
              "0       Kia   90.0   30.0\n",
              "1      Opel  180.0    NaN\n",
              "2  Mercedes  200.0   80.0\n",
              "3       BMW  130.0  100.0\n",
              "4      Lada   40.0  100.0\n",
              "5      Audi    NaN  150.0\n",
              "6      Ford    NaN  130.0"
            ],
            "text/html": [
              "\n",
              "  <div id=\"df-6d692fdf-6814-4197-9677-d6061da383fa\">\n",
              "    <div class=\"colab-df-container\">\n",
              "      <div>\n",
              "<style scoped>\n",
              "    .dataframe tbody tr th:only-of-type {\n",
              "        vertical-align: middle;\n",
              "    }\n",
              "\n",
              "    .dataframe tbody tr th {\n",
              "        vertical-align: top;\n",
              "    }\n",
              "\n",
              "    .dataframe thead th {\n",
              "        text-align: right;\n",
              "    }\n",
              "</style>\n",
              "<table border=\"1\" class=\"dataframe\">\n",
              "  <thead>\n",
              "    <tr style=\"text-align: right;\">\n",
              "      <th></th>\n",
              "      <th>Model</th>\n",
              "      <th>Sales</th>\n",
              "      <th>Price</th>\n",
              "    </tr>\n",
              "  </thead>\n",
              "  <tbody>\n",
              "    <tr>\n",
              "      <th>0</th>\n",
              "      <td>Kia</td>\n",
              "      <td>90.0</td>\n",
              "      <td>30.0</td>\n",
              "    </tr>\n",
              "    <tr>\n",
              "      <th>1</th>\n",
              "      <td>Opel</td>\n",
              "      <td>180.0</td>\n",
              "      <td>NaN</td>\n",
              "    </tr>\n",
              "    <tr>\n",
              "      <th>2</th>\n",
              "      <td>Mercedes</td>\n",
              "      <td>200.0</td>\n",
              "      <td>80.0</td>\n",
              "    </tr>\n",
              "    <tr>\n",
              "      <th>3</th>\n",
              "      <td>BMW</td>\n",
              "      <td>130.0</td>\n",
              "      <td>100.0</td>\n",
              "    </tr>\n",
              "    <tr>\n",
              "      <th>4</th>\n",
              "      <td>Lada</td>\n",
              "      <td>40.0</td>\n",
              "      <td>100.0</td>\n",
              "    </tr>\n",
              "    <tr>\n",
              "      <th>5</th>\n",
              "      <td>Audi</td>\n",
              "      <td>NaN</td>\n",
              "      <td>150.0</td>\n",
              "    </tr>\n",
              "    <tr>\n",
              "      <th>6</th>\n",
              "      <td>Ford</td>\n",
              "      <td>NaN</td>\n",
              "      <td>130.0</td>\n",
              "    </tr>\n",
              "  </tbody>\n",
              "</table>\n",
              "</div>\n",
              "      <button class=\"colab-df-convert\" onclick=\"convertToInteractive('df-6d692fdf-6814-4197-9677-d6061da383fa')\"\n",
              "              title=\"Convert this dataframe to an interactive table.\"\n",
              "              style=\"display:none;\">\n",
              "        \n",
              "  <svg xmlns=\"http://www.w3.org/2000/svg\" height=\"24px\"viewBox=\"0 0 24 24\"\n",
              "       width=\"24px\">\n",
              "    <path d=\"M0 0h24v24H0V0z\" fill=\"none\"/>\n",
              "    <path d=\"M18.56 5.44l.94 2.06.94-2.06 2.06-.94-2.06-.94-.94-2.06-.94 2.06-2.06.94zm-11 1L8.5 8.5l.94-2.06 2.06-.94-2.06-.94L8.5 2.5l-.94 2.06-2.06.94zm10 10l.94 2.06.94-2.06 2.06-.94-2.06-.94-.94-2.06-.94 2.06-2.06.94z\"/><path d=\"M17.41 7.96l-1.37-1.37c-.4-.4-.92-.59-1.43-.59-.52 0-1.04.2-1.43.59L10.3 9.45l-7.72 7.72c-.78.78-.78 2.05 0 2.83L4 21.41c.39.39.9.59 1.41.59.51 0 1.02-.2 1.41-.59l7.78-7.78 2.81-2.81c.8-.78.8-2.07 0-2.86zM5.41 20L4 18.59l7.72-7.72 1.47 1.35L5.41 20z\"/>\n",
              "  </svg>\n",
              "      </button>\n",
              "      \n",
              "  <style>\n",
              "    .colab-df-container {\n",
              "      display:flex;\n",
              "      flex-wrap:wrap;\n",
              "      gap: 12px;\n",
              "    }\n",
              "\n",
              "    .colab-df-convert {\n",
              "      background-color: #E8F0FE;\n",
              "      border: none;\n",
              "      border-radius: 50%;\n",
              "      cursor: pointer;\n",
              "      display: none;\n",
              "      fill: #1967D2;\n",
              "      height: 32px;\n",
              "      padding: 0 0 0 0;\n",
              "      width: 32px;\n",
              "    }\n",
              "\n",
              "    .colab-df-convert:hover {\n",
              "      background-color: #E2EBFA;\n",
              "      box-shadow: 0px 1px 2px rgba(60, 64, 67, 0.3), 0px 1px 3px 1px rgba(60, 64, 67, 0.15);\n",
              "      fill: #174EA6;\n",
              "    }\n",
              "\n",
              "    [theme=dark] .colab-df-convert {\n",
              "      background-color: #3B4455;\n",
              "      fill: #D2E3FC;\n",
              "    }\n",
              "\n",
              "    [theme=dark] .colab-df-convert:hover {\n",
              "      background-color: #434B5C;\n",
              "      box-shadow: 0px 1px 3px 1px rgba(0, 0, 0, 0.15);\n",
              "      filter: drop-shadow(0px 1px 2px rgba(0, 0, 0, 0.3));\n",
              "      fill: #FFFFFF;\n",
              "    }\n",
              "  </style>\n",
              "\n",
              "      <script>\n",
              "        const buttonEl =\n",
              "          document.querySelector('#df-6d692fdf-6814-4197-9677-d6061da383fa button.colab-df-convert');\n",
              "        buttonEl.style.display =\n",
              "          google.colab.kernel.accessAllowed ? 'block' : 'none';\n",
              "\n",
              "        async function convertToInteractive(key) {\n",
              "          const element = document.querySelector('#df-6d692fdf-6814-4197-9677-d6061da383fa');\n",
              "          const dataTable =\n",
              "            await google.colab.kernel.invokeFunction('convertToInteractive',\n",
              "                                                     [key], {});\n",
              "          if (!dataTable) return;\n",
              "\n",
              "          const docLinkHtml = 'Like what you see? Visit the ' +\n",
              "            '<a target=\"_blank\" href=https://colab.research.google.com/notebooks/data_table.ipynb>data table notebook</a>'\n",
              "            + ' to learn more about interactive tables.';\n",
              "          element.innerHTML = '';\n",
              "          dataTable['output_type'] = 'display_data';\n",
              "          await google.colab.output.renderOutput(dataTable, element);\n",
              "          const docLink = document.createElement('div');\n",
              "          docLink.innerHTML = docLinkHtml;\n",
              "          element.appendChild(docLink);\n",
              "        }\n",
              "      </script>\n",
              "    </div>\n",
              "  </div>\n",
              "  "
            ]
          },
          "metadata": {},
          "execution_count": 56
        }
      ]
    },
    {
      "cell_type": "markdown",
      "source": [
        "# ***Кейс 10 - Создание классов***"
      ],
      "metadata": {
        "id": "m9o2gSAJUkC2"
      }
    },
    {
      "cell_type": "code",
      "source": [
        "# Урок 10\n",
        "# Создание классов\n",
        "class Person(): # создание класса\n",
        "  pass # служебное слово, которое говорит о том, что класс пустой\n",
        "Person.money = 100 # создание атрибута класса\n",
        "Person.limbs_number = 4 # создание атрибута класса\n",
        "obj1 = Person() # создание объекта класса\n",
        "obj2 = Person() # создание объекта класса\n",
        "obj1.limbs_number -= 1 # меняем количество конечностей объекта класса\n",
        "obj1.money += 2000000 # меняем количество денег для объекта класса\n",
        "[obj1.name, obj1.gender] = ['Ivan', 'male'] # создание атрибутов объекта списком\n",
        "obj2.name = 'Peter' # создание атрибута объекта\n",
        "obj2.name = 'Goga' # изменение атрибута объекта\n",
        "print(obj1.name, 'has', obj1.limbs_number, 'limbs, but', obj1.money, 'rubles')\n",
        "print(obj2.name, 'has', obj2.limbs_number, 'limbs, but', obj2.money, 'rubles')"
      ],
      "metadata": {
        "colab": {
          "base_uri": "https://localhost:8080/"
        },
        "id": "Gi6OzcE9jd0I",
        "outputId": "77be5c49-7c6f-4c25-c634-143f1638d1ca"
      },
      "execution_count": null,
      "outputs": [
        {
          "output_type": "stream",
          "name": "stdout",
          "text": [
            "Ivan has 3 limbs, but 2000100 rubles\n",
            "Goga has 4 limbs, but 100 rubles\n"
          ]
        }
      ]
    },
    {
      "cell_type": "code",
      "source": [
        "class Person(): # создание класса\n",
        "  name = '' # создание атрибута класса\n",
        "  money = 0 # создание атрибута класса\n",
        "  def out(self): # создаем метод класса\n",
        "    print(self.name, 'has', self.money, 'dollars') # тело метода класса\n",
        "  def add_money(self, newmoney): # создаем метод добавления денег объекту класса\n",
        "    self.money += newmoney # функция добавления денег\n",
        "  def change_name(self, newname): # создаем метод изменения имени\n",
        "    self.name = newname # функция изменения имени\n",
        "obj1 = Person() # создание объекта класса\n",
        "obj2 = Person() # создание объекта класса\n",
        "obj1.name = 'Bob' # задаем значение атрибута name\n",
        "obj1.out() # вызов метода для созданного объекта класса\n",
        "obj1.add_money(-1000) # вызов метода для созданного объекта класса\n",
        "obj1.out() # вызов метода для созданного объекта класса\n",
        "obj1.add_money(1500) # вызов метода для созданного объекта класса\n",
        "obj1.out() # вызов метода для созданного объекта класса\n",
        "obj1.change_name('Goga') # вызов метода для созданного объекта класса\n",
        "obj1.out() # вызов метода для созданного объекта класса"
      ],
      "metadata": {
        "colab": {
          "base_uri": "https://localhost:8080/"
        },
        "id": "qjRGtcssjhW3",
        "outputId": "a77d7050-b5b5-40f9-a0c7-63f1a79df546"
      },
      "execution_count": null,
      "outputs": [
        {
          "output_type": "stream",
          "name": "stdout",
          "text": [
            "Bob has 0 dollars\n",
            "Bob has -1000 dollars\n",
            "Bob has 500 dollars\n",
            "Goga has 500 dollars\n"
          ]
        }
      ]
    },
    {
      "cell_type": "code",
      "source": [
        "# Программа - Тамагочи\n",
        "import datetime\n",
        "class Critter(): # создаем класс\n",
        "  total = 0\n",
        "  def status(): # создаем статический метод (к нему нужно обращаться через имя класса, отсутствует self)\n",
        "    print('Всего животных сейчас:', Critter.total)\n",
        "  def __init__(self): # метод, который выполняется при создании объекта данного класса\n",
        "    print('Появилось на свет новое животное') # тело метода\n",
        "    Critter.total += 1\n",
        "    self.name = input('Придумай мне имя!') # тело метода\n",
        "    self.birth_time = datetime.datetime.now()\n",
        "  def __str__(self):\n",
        "    self.age = (datetime.datetime.now() - self.birth_time).seconds\n",
        "    info = 'Объект класса Critter'\n",
        "    info += '\\nимя:' + self.name\n",
        "    x = self.age % 10\n",
        "    y = self.age // 10 % 10\n",
        "    if (x == 1) and (y != 1):\n",
        "      info += '\\nвозраст:' + str(self.age) + ' секунда'\n",
        "    elif ((x == 2) or (x == 3) or (x == 4)) and (y != 1):\n",
        "      info += '\\nвозраст:' + str(self.age) + ' секунды'\n",
        "    else:\n",
        "      info += '\\nвозраст:' + str(self.age) + ' секунд'\n",
        "    return info\n",
        "  def talk(self): # создание метода класса\n",
        "    print('\\nЯ животное класса Critter, мое имя:', self.name) # тело метода\n",
        "crit1 = Critter() # создание объекта\n",
        "crit1.talk() # вызов метода класса для данного объекта"
      ],
      "metadata": {
        "colab": {
          "base_uri": "https://localhost:8080/"
        },
        "id": "TbeJThyFsNYy",
        "outputId": "e18c8647-ee66-43fb-ebdf-b8349923729f"
      },
      "execution_count": null,
      "outputs": [
        {
          "output_type": "stream",
          "name": "stdout",
          "text": [
            "Появилось на свет новое животное\n",
            "Придумай мне имя!sdf\n",
            "\n",
            "Я животное класса Critter, мое имя: sdf\n"
          ]
        }
      ]
    },
    {
      "cell_type": "code",
      "source": [
        "import datetime\n",
        "print(crit1)"
      ],
      "metadata": {
        "colab": {
          "base_uri": "https://localhost:8080/"
        },
        "id": "tXeUy-W-xXmm",
        "outputId": "73f6486c-c50f-4f0d-c668-4478c46096fd"
      },
      "execution_count": null,
      "outputs": [
        {
          "output_type": "stream",
          "name": "stdout",
          "text": [
            "Объект класса Critter\n",
            "имя:Бобик\n",
            "возраст:17 секунд\n"
          ]
        }
      ]
    },
    {
      "cell_type": "markdown",
      "source": [
        "# ***Кейс 11 - Создание классов***"
      ],
      "metadata": {
        "id": "oQYcy7hu2cSE"
      }
    },
    {
      "cell_type": "code",
      "source": [
        "# Урок 11\n",
        "print(crit1)\n",
        "Critter.status()"
      ],
      "metadata": {
        "colab": {
          "base_uri": "https://localhost:8080/"
        },
        "outputId": "f05ae723-fe2e-4e27-cab5-061261c324a4",
        "id": "wVBlMefMp7c7"
      },
      "execution_count": null,
      "outputs": [
        {
          "output_type": "stream",
          "name": "stdout",
          "text": [
            "Объект класса Critter\n",
            "имя:sdf\n",
            "возраст:2 секунды\n",
            "Всего животных сейчас: 1\n",
            "Появилось на свет новое животное\n",
            "Придумай мне имя!kjh\n",
            "Появилось на свет новое животное\n",
            "Придумай мне имя!kjh\n",
            "Появилось на свет новое животное\n",
            "Придумай мне имя!kjh\n",
            "Всего животных сейчас: 4\n"
          ]
        }
      ]
    },
    {
      "cell_type": "code",
      "source": [
        "class A(): # создаем класс\n",
        "  total = 0\n",
        "  def __private(self): # создаем закрытый метод, к которому нельзя обратиться вне класса\n",
        "    print('Это закрытый метод!')\n",
        "obj1 = A()\n",
        "obj1._A__private() # теперь обратиться к закрытому методу можно только через имя класса"
      ],
      "metadata": {
        "colab": {
          "base_uri": "https://localhost:8080/"
        },
        "id": "Ev0xInhlEKly",
        "outputId": "180f1af8-06cc-4ea5-b760-6ca70f43cc18"
      },
      "execution_count": null,
      "outputs": [
        {
          "output_type": "stream",
          "name": "stdout",
          "text": [
            "Это закрытый метод!\n"
          ]
        }
      ]
    },
    {
      "cell_type": "code",
      "source": [
        "# Программа - Тамагочи\n",
        "import datetime\n",
        "class Critter(): # создаем класс\n",
        "  total = 0\n",
        "  def status(): # создаем статический метод (к нему нужно обращаться через имя класса, отсутствует self)\n",
        "    print('Всего животных сейчас:', Critter.total)\n",
        "  def __init__(self, mood): # метод, который выполняется при создании объекта данного класса\n",
        "    print('Появилось на свет новое животное') # тело метода\n",
        "    Critter.total += 1\n",
        "    self.__name = input('Придумай мне имя!') # тело метода\n",
        "    self.birth_time = datetime.datetime.now()\n",
        "    self.__mood = mood\n",
        "  def __str__(self):\n",
        "    self.age = (datetime.datetime.now() - self.birth_time).seconds\n",
        "    info = 'Объект класса Critter'\n",
        "    info += '\\nимя:' + self.name\n",
        "    x = self.age % 10\n",
        "    y = self.age // 10 % 10\n",
        "    if (x == 1) and (y != 1):\n",
        "      info += '\\nвозраст:' + str(self.age) + ' секунда'\n",
        "    elif ((x == 2) or (x == 3) or (x == 4)) and (y != 1):\n",
        "      info += '\\nвозраст:' + str(self.age) + ' секунды'\n",
        "    else:\n",
        "      info += '\\nвозраст:' + str(self.age) + ' секунд'\n",
        "    return info\n",
        "  def talk(self): # создание метода класса\n",
        "    print('\\nЯ животное класса Critter, мое имя:', self.__name) # тело метода\n",
        "    print('Мое настроение:', self.__mood)\n",
        "  def change_name(self, new_name):\n",
        "    if new_name.isalpha() == False: # проверяем, является ли имя буквенным\n",
        "      print('Имя должно состоять только из букв')\n",
        "    else:\n",
        "      self.__name = new_name\n",
        "crit1 = Critter(10) # создание объекта\n",
        "crit1.talk() # вызов метода класса для данного объекта"
      ],
      "metadata": {
        "id": "m2iTZ3Gn1dIj",
        "colab": {
          "base_uri": "https://localhost:8080/"
        },
        "outputId": "d08f8ffb-bfaf-4a8f-8fa7-f4b9288b85b8"
      },
      "execution_count": null,
      "outputs": [
        {
          "output_type": "stream",
          "name": "stdout",
          "text": [
            "Появилось на свет новое животное\n",
            "Придумай мне имя!sdfsdf\n",
            "\n",
            "Я животное класса Critter, мое имя: sdfsdf\n",
            "Мое настроение: 10\n"
          ]
        }
      ]
    },
    {
      "cell_type": "code",
      "source": [
        "crit1.change_name('Бобик')\n",
        "crit1.talk()"
      ],
      "metadata": {
        "colab": {
          "base_uri": "https://localhost:8080/"
        },
        "id": "Pruxh4lsGwBf",
        "outputId": "06bbcd6d-6a73-437b-d9cb-ab2b8c578ca1"
      },
      "execution_count": null,
      "outputs": [
        {
          "output_type": "stream",
          "name": "stdout",
          "text": [
            "\n",
            "Я животное класса Critter, мое имя: Бобик\n",
            "Мое настроение: 10\n"
          ]
        }
      ]
    },
    {
      "cell_type": "code",
      "source": [
        "'Боб123'.isalpha()"
      ],
      "metadata": {
        "colab": {
          "base_uri": "https://localhost:8080/"
        },
        "id": "_Nd_4LdlHscM",
        "outputId": "ebc1233e-d4a3-4cd7-b41c-e07a822fbb22"
      },
      "execution_count": null,
      "outputs": [
        {
          "output_type": "execute_result",
          "data": {
            "text/plain": [
              "False"
            ]
          },
          "metadata": {},
          "execution_count": 57
        }
      ]
    },
    {
      "cell_type": "markdown",
      "source": [
        "# ***Кейс 12 - Программа Мое животное***"
      ],
      "metadata": {
        "id": "3nlJJpPioW1i"
      }
    },
    {
      "cell_type": "code",
      "source": [
        "# Урок 12\n",
        "# Программа Мое животное\n",
        "import datetime\n",
        "from google.colab import drive\n",
        "import matplotlib.pyplot as plt\n",
        "drive.mount('/content/drive')\n",
        "from PIL import Image\n",
        "img = Image.open('/content/drive/My Drive/plehanova/sad-cat-26.jpeg')\n",
        "class Critter():\n",
        "  def __init__(self, name = 'Шарик', hunger = 0, boredom = 0):\n",
        "    self.name = name\n",
        "    self.hunger = hunger\n",
        "    self.boredom = boredom\n",
        "    self.birthtime = datetime.datetime.now()\n",
        "    self.date_hunger = self.birthtime\n",
        "    self.date_boredom = self.birthtime\n",
        "  def mood(self):\n",
        "    m = self.hunger + self.boredom\n",
        "    if m < 5:\n",
        "      mood = 'прекрасно!'\n",
        "    elif 5 <= m <= 10:\n",
        "      mood = 'неплохо.'\n",
        "    else:\n",
        "      mood = 'ужасно :-((('   \n",
        "    return mood\n",
        "  def talk(self):\n",
        "    self.hunger += (datetime.datetime.now() - self.date_hunger).seconds / 10\n",
        "    self.boredom += (datetime.datetime.now() - self.date_boredom).seconds / 10\n",
        "    self.date_hunger = datetime.datetime.now()\n",
        "    self.date_boredom = datetime.datetime.now()\n",
        "    print('Меня зовут', self.name)\n",
        "    print('и сейчас я чувствую себя', self.mood())\n",
        "    if self.mood() == 'прекрасно!':\n",
        "      display(img)\n",
        "  def eat(self):\n",
        "    print('Ням-ням)))')\n",
        "    self.hunger += (datetime.datetime.now() - self.date_hunger).seconds / 10\n",
        "    self.hunger -= 4\n",
        "    if self.hunger < 0:\n",
        "      self.hunger = 0\n",
        "    self.date_hunger = datetime.datetime.now()\n",
        "  def play(self):\n",
        "    print('Уииииии!!!!')\n",
        "    self.boredom += (datetime.datetime.now() - self.date_boredom).seconds / 10\n",
        "    self.boredom -= 4\n",
        "    if self.boredom < 0:\n",
        "      self.boredom = 0\n",
        "    self.date_boredom = datetime.datetime.now()\n",
        "def main():\n",
        "  animal_name = input('Введите имя животного:')\n",
        "  crit = Critter(animal_name)\n",
        "  choice = None  \n",
        "  while choice != \"0\":\n",
        "    print \\\n",
        "    (\"\"\"\n",
        "    Мое животное\n",
        "\n",
        "    0 – Выйти\n",
        "    1 – Узнать о самочувствии животного\n",
        "    2 – Покормить животное\n",
        "    3 – Поиграть с животным \n",
        "    \"\"\")\n",
        "\n",
        "    choice = input(\"Ваш выбор: \")\n",
        "    if choice == '0':\n",
        "      print('До свидания!')\n",
        "    elif choice == '1':\n",
        "      crit.talk()\n",
        "      print('Мой голод:', crit.hunger)\n",
        "      print('Моя скука:', crit.boredom)\n",
        "    elif choice == '2':\n",
        "      crit.eat()\n",
        "      print('Мой голод:', crit.hunger)\n",
        "      print('Моя скука:', crit.boredom)\n",
        "    elif choice == '3':\n",
        "      crit.play()\n",
        "      print('Мой голод:', crit.hunger)\n",
        "      print('Моя скука:', crit.boredom)\n",
        "    else:\n",
        "      print('Введите корректную команду')\n",
        "\n"
      ],
      "metadata": {
        "colab": {
          "base_uri": "https://localhost:8080/"
        },
        "outputId": "2e4bcf79-23b1-4ac3-e729-76d698f626a3",
        "id": "wajMOrZboluz"
      },
      "execution_count": null,
      "outputs": [
        {
          "output_type": "stream",
          "name": "stdout",
          "text": [
            "Mounted at /content/drive\n"
          ]
        }
      ]
    },
    {
      "cell_type": "code",
      "source": [
        "main()"
      ],
      "metadata": {
        "colab": {
          "base_uri": "https://localhost:8080/",
          "height": 1000
        },
        "id": "fb5zdrVIvNUY",
        "outputId": "28c8cb91-5d04-4f5b-8f0b-ffe061567197"
      },
      "execution_count": null,
      "outputs": [
        {
          "output_type": "stream",
          "name": "stdout",
          "text": [
            "Введите имя животного:Вова\n",
            "\n",
            "    Мое животное\n",
            "\n",
            "    0 – Выйти\n",
            "    1 – Узнать о самочувствии животного\n",
            "    2 – Покормить животное\n",
            "    3 – Поиграть с животным \n",
            "    \n",
            "Ваш выбор: 1\n",
            "Меня зовут Вова\n",
            "и сейчас я чувствую себя прекрасно!\n"
          ]
        },
        {
          "output_type": "display_data",
          "data": {
            "text/plain": [
              "<PIL.JpegImagePlugin.JpegImageFile image mode=RGB size=509x509 at 0x7F36F9FAA190>"
            ],
            "image/png": "[encoded data removed]"
          },
          "metadata": {}
        },
        {
          "output_type": "stream",
          "name": "stdout",
          "text": [
            "Мой голод: 0.4\n",
            "Моя скука: 0.4\n",
            "\n",
            "    Мое животное\n",
            "\n",
            "    0 – Выйти\n",
            "    1 – Узнать о самочувствии животного\n",
            "    2 – Покормить животное\n",
            "    3 – Поиграть с животным \n",
            "    \n"
          ]
        },
        {
          "output_type": "error",
          "ename": "KeyboardInterrupt",
          "evalue": "ignored",
          "traceback": [
            "\u001b[0;31m---------------------------------------------------------------------------\u001b[0m",
            "\u001b[0;31mKeyboardInterrupt\u001b[0m                         Traceback (most recent call last)",
            "\u001b[0;32m<ipython-input-2-263240bbee7e>\u001b[0m in \u001b[0;36m<module>\u001b[0;34m\u001b[0m\n\u001b[0;32m----> 1\u001b[0;31m \u001b[0mmain\u001b[0m\u001b[0;34m(\u001b[0m\u001b[0;34m)\u001b[0m\u001b[0;34m\u001b[0m\u001b[0;34m\u001b[0m\u001b[0m\n\u001b[0m",
            "\u001b[0;32m<ipython-input-1-48fa55591279>\u001b[0m in \u001b[0;36mmain\u001b[0;34m()\u001b[0m\n\u001b[1;32m     62\u001b[0m     \"\"\")\n\u001b[1;32m     63\u001b[0m \u001b[0;34m\u001b[0m\u001b[0m\n\u001b[0;32m---> 64\u001b[0;31m     \u001b[0mchoice\u001b[0m \u001b[0;34m=\u001b[0m \u001b[0minput\u001b[0m\u001b[0;34m(\u001b[0m\u001b[0;34m\"Ваш выбор: \"\u001b[0m\u001b[0;34m)\u001b[0m\u001b[0;34m\u001b[0m\u001b[0;34m\u001b[0m\u001b[0m\n\u001b[0m\u001b[1;32m     65\u001b[0m     \u001b[0;32mif\u001b[0m \u001b[0mchoice\u001b[0m \u001b[0;34m==\u001b[0m \u001b[0;34m'0'\u001b[0m\u001b[0;34m:\u001b[0m\u001b[0;34m\u001b[0m\u001b[0;34m\u001b[0m\u001b[0m\n\u001b[1;32m     66\u001b[0m       \u001b[0mprint\u001b[0m\u001b[0;34m(\u001b[0m\u001b[0;34m'До свидания!'\u001b[0m\u001b[0;34m)\u001b[0m\u001b[0;34m\u001b[0m\u001b[0;34m\u001b[0m\u001b[0m\n",
            "\u001b[0;32m/usr/local/lib/python3.8/dist-packages/ipykernel/kernelbase.py\u001b[0m in \u001b[0;36mraw_input\u001b[0;34m(self, prompt)\u001b[0m\n\u001b[1;32m    858\u001b[0m                 \u001b[0;34m\"raw_input was called, but this frontend does not support input requests.\"\u001b[0m\u001b[0;34m\u001b[0m\u001b[0;34m\u001b[0m\u001b[0m\n\u001b[1;32m    859\u001b[0m             )\n\u001b[0;32m--> 860\u001b[0;31m         return self._input_request(str(prompt),\n\u001b[0m\u001b[1;32m    861\u001b[0m             \u001b[0mself\u001b[0m\u001b[0;34m.\u001b[0m\u001b[0m_parent_ident\u001b[0m\u001b[0;34m,\u001b[0m\u001b[0;34m\u001b[0m\u001b[0;34m\u001b[0m\u001b[0m\n\u001b[1;32m    862\u001b[0m             \u001b[0mself\u001b[0m\u001b[0;34m.\u001b[0m\u001b[0m_parent_header\u001b[0m\u001b[0;34m,\u001b[0m\u001b[0;34m\u001b[0m\u001b[0;34m\u001b[0m\u001b[0m\n",
            "\u001b[0;32m/usr/local/lib/python3.8/dist-packages/ipykernel/kernelbase.py\u001b[0m in \u001b[0;36m_input_request\u001b[0;34m(self, prompt, ident, parent, password)\u001b[0m\n\u001b[1;32m    902\u001b[0m             \u001b[0;32mexcept\u001b[0m \u001b[0mKeyboardInterrupt\u001b[0m\u001b[0;34m:\u001b[0m\u001b[0;34m\u001b[0m\u001b[0;34m\u001b[0m\u001b[0m\n\u001b[1;32m    903\u001b[0m                 \u001b[0;31m# re-raise KeyboardInterrupt, to truncate traceback\u001b[0m\u001b[0;34m\u001b[0m\u001b[0;34m\u001b[0m\u001b[0;34m\u001b[0m\u001b[0m\n\u001b[0;32m--> 904\u001b[0;31m                 \u001b[0;32mraise\u001b[0m \u001b[0mKeyboardInterrupt\u001b[0m\u001b[0;34m(\u001b[0m\u001b[0;34m\"Interrupted by user\"\u001b[0m\u001b[0;34m)\u001b[0m \u001b[0;32mfrom\u001b[0m \u001b[0;32mNone\u001b[0m\u001b[0;34m\u001b[0m\u001b[0;34m\u001b[0m\u001b[0m\n\u001b[0m\u001b[1;32m    905\u001b[0m             \u001b[0;32mexcept\u001b[0m \u001b[0mException\u001b[0m \u001b[0;32mas\u001b[0m \u001b[0me\u001b[0m\u001b[0;34m:\u001b[0m\u001b[0;34m\u001b[0m\u001b[0;34m\u001b[0m\u001b[0m\n\u001b[1;32m    906\u001b[0m                 \u001b[0mself\u001b[0m\u001b[0;34m.\u001b[0m\u001b[0mlog\u001b[0m\u001b[0;34m.\u001b[0m\u001b[0mwarning\u001b[0m\u001b[0;34m(\u001b[0m\u001b[0;34m\"Invalid Message:\"\u001b[0m\u001b[0;34m,\u001b[0m \u001b[0mexc_info\u001b[0m\u001b[0;34m=\u001b[0m\u001b[0;32mTrue\u001b[0m\u001b[0;34m)\u001b[0m\u001b[0;34m\u001b[0m\u001b[0;34m\u001b[0m\u001b[0m\n",
            "\u001b[0;31mKeyboardInterrupt\u001b[0m: Interrupted by user"
          ]
        }
      ]
    },
    {
      "cell_type": "markdown",
      "source": [
        "Матстат и неросети в следующей части https://colab.research.google.com/drive/1_gcPrLNGB0MzvI5IhwqHv3QlyF0v_8zU?usp=sharing"
      ],
      "metadata": {
        "id": "mtX0mD1mfOSt"
      }
    }
  ]
}